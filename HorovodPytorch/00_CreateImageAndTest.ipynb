{
 "cells": [
  {
   "cell_type": "markdown",
   "metadata": {},
   "source": [
    "# Create Docker Image for PyTorch\n",
    "In this notebook we will create the Docker image for our PyTorch script to run in. We will go through the process of creating the image and testing it locally to make sure it runs before submitting it to the cluster. It is often recommended you do this rather than debugging on the cluster since debugging on a cluster can be much more difficult and time consuming.\n",
    " \n",
    "**You will need to be running everything on a GPU enabled VM to run this notebook.** "
   ]
  },
  {
   "cell_type": "code",
   "execution_count": 2,
   "metadata": {},
   "outputs": [],
   "source": [
    "import sys\n",
    "sys.path.append(\"../common\") \n",
    "\n",
    "from dotenv import get_key\n",
    "import os\n",
    "from utils import dotenv_for\n",
    "import docker"
   ]
  },
  {
   "cell_type": "markdown",
   "metadata": {},
   "source": [
    "We will use fake data here since we don't want to have to download the data etc. Using fake data is often a good way to debug your models as well as checking what IO overhead is. Here we are setting the number of processes (NUM_PROCESSES) to 2 since the VM we are testing on has 2 GPUs. If you are running on a machine with 1 GPU set NUM_PROCESSES to 1."
   ]
  },
  {
   "cell_type": "code",
   "execution_count": 22,
   "metadata": {
    "tags": [
     "parameters"
    ]
   },
   "outputs": [],
   "source": [
    "dotenv_path = dotenv_for()\n",
    "USE_FAKE               = True\n",
    "DOCKERHUB              = os.getenv('DOCKER_REPOSITORY', \"masalvar\")\n",
    "NUM_PROCESSES          = 2\n",
    "DOCKER_PWD             = get_key(dotenv_path, 'DOCKER_PWD')"
   ]
  },
  {
   "cell_type": "code",
   "execution_count": 13,
   "metadata": {},
   "outputs": [],
   "source": [
    "dc = docker.from_env()"
   ]
  },
  {
   "cell_type": "code",
   "execution_count": 14,
   "metadata": {},
   "outputs": [],
   "source": [
    "image, log_iter = dc.images.build(path='Docker', \n",
    "                          tag='{}/caia-horovod-pytorch'.format(DOCKERHUB))"
   ]
  },
  {
   "cell_type": "code",
   "execution_count": 16,
   "metadata": {},
   "outputs": [],
   "source": [
    "container_labels = {'containerName': 'pytorchgpu'}\n",
    "environment ={\n",
    "    \"DISTRIBUTED\":True,\n",
    "    \"PYTHONPATH\":'/workspace/common/',\n",
    "}\n",
    "\n",
    "volumes = {\n",
    "    os.getenv('EXT_PWD'): {\n",
    "                                'bind': '/workspace', \n",
    "                                'mode': 'rw'\n",
    "                               }\n",
    "}\n",
    "\n",
    "if USE_FAKE:\n",
    "    environment['FAKE'] = True\n",
    "else:\n",
    "    environment['FAKE'] = False\n",
    "    volumes[os.getenv('EXT_DATA')]={'bind': '/mnt/input', 'mode': 'rw'}\n",
    "    environment['AZ_BATCHAI_INPUT_TRAIN'] = '/mnt/input/train'\n",
    "    environment['AZ_BATCHAI_INPUT_TEST'] = '/mnt/input/validation'"
   ]
  },
  {
   "cell_type": "code",
   "execution_count": 17,
   "metadata": {},
   "outputs": [],
   "source": [
    "cmd=f'mpirun -np {NUM_PROCESSES} -H localhost:{NUM_PROCESSES} '\\\n",
    "     'python -u /workspace/HorovodPytorch/src/imagenet_pytorch_horovod.py'\n",
    "container = dc.containers.run(image.tags[0], \n",
    "                              command=cmd,\n",
    "                              detach=True, \n",
    "                              labels=container_labels,\n",
    "                              runtime='nvidia',\n",
    "                              volumes=volumes,\n",
    "                              environment=environment,\n",
    "                              shm_size='8G',\n",
    "                              privileged=True)"
   ]
  },
  {
   "cell_type": "markdown",
   "metadata": {},
   "source": [
    "With the code below we are simply monitoring what is happening in the container. Feel free to stop the notebook when you are happy that everything is working."
   ]
  },
  {
   "cell_type": "code",
   "execution_count": 18,
   "metadata": {
    "tags": [
     "stripout"
    ]
   },
   "outputs": [
    {
     "name": "stdout",
     "output_type": "stream",
     "text": [
      "INFO:__main__:0:  Runnin Distributed\n",
      "INFO:__main__:1:  Runnin Distributed\n",
      "INFO:__main__:0:  PyTorch version 0.4.0\n",
      "INFO:__main__:0:  Setting up fake loaders\n",
      "INFO:__main__:1:  PyTorch version 0.4.0\n",
      "INFO:__main__:1:  Setting up fake loaders\n",
      "INFO:__main__:1:  Creating fake data 1000 labels and 640 images\n",
      "INFO:__main__:1:  Loading model\n",
      "INFO:__main__:0:  Creating fake data 1000 labels and 640 images\n",
      "INFO:__main__:0:  Loading model\n",
      "INFO:__main__:1:  Training ...\n",
      "INFO:__main__:0:  Training ...\n",
      "\n",
      "41afbf31e948:13:65 [0] misc/ibvwrap.cu:61 WARN Failed to open libibverbs.so[.1]\n",
      "41afbf31e948:13:65 [0] INFO Using internal Network Socket\n",
      "41afbf31e948:13:65 [0] INFO Using NCCL Low-latency algorithm for sizes below 16384\n",
      "41afbf31e948:13:65 [0] INFO NET : Using interface eth0:172.17.0.3<0>\n",
      "41afbf31e948:13:65 [0] INFO NET/Socket : 1 interfaces found\n",
      "NCCL version 2.2.13+cuda9.0\n",
      "\n",
      "41afbf31e948:14:66 [1] misc/ibvwrap.cu:61 WARN Failed to open libibverbs.so[.1]\n",
      "41afbf31e948:14:66 [1] INFO Using internal Network Socket\n",
      "41afbf31e948:14:66 [1] INFO Using NCCL Low-latency algorithm for sizes below 16384\n",
      "Unexpected end of /proc/mounts line `overlay / overlay rw,relatime,lowerdir=/var/lib/docker/overlay2/l/DK62GMJ7YWD352N7EBN6Z7NW4X:/var/lib/docker/overlay2/l/P3UTSC3GD5U2KE5CZH4M2NHMBG:/var/lib/docker/overlay2/l/VD7EUCZSMECTFOW7IIPSCEX4JM:/var/lib/docker/overlay2/l/JYXYPILZXXAYHR7WRVQZCD6K3Q:/var/lib/docker/overlay2/l/WVA3JNFTU4ODUE62JCC7AVMUM6:/var/lib/docker/overlay2/l/MRY4XN6FMUFF4BQUPGJ7YLLHRP:/var/lib/docker/overlay2/l/ITJFFFEWFL7E7OGEEZKTF6N7LD:/var/lib/docker/overlay2/l/FQDWWHY3VM74QBLUFN5CF5IDYO:/var/lib/docker/overlay2/l/U5OVVSIWE2MDZ'\n",
      "Unexpected end of /proc/mounts line `EAH4TF2PEAAE6:/var/lib/docker/overlay2/l/EGF6PA2CWXADDQJESE2446D56S:/var/lib/docker/overlay2/l/IB2WD76YXTMZG2QOWR7GUG7IYT:/var/lib/docker/overlay2/l/IIMLGMJ4JINXEWK27EDCERZELX:/var/lib/docker/overlay2/l/L7CTL35E6XMSEWF7QPLHH5TOW2:/var/lib/docker/overlay2/l/3DS6RVJMFFGK3UYSLNER7RUM4Q:/var/lib/docker/overlay2/l/DGINKAV4FMSJX44G2RIJJ3Z42O:/var/lib/docker/overlay2/l/DOCM6YYK7SLPTZ6RM4CMED7YLV:/var/lib/docker/overlay2/l/WKITE5QHJLEASZYONTVW3DQRFD:/var/lib/docker/overlay2/l/LGF4BIN6WXOSKTESB6PUQVKD3W:/var/lib/do'\n",
      "Unexpected end of /proc/mounts line `overlay / overlay rw,relatime,lowerdir=/var/lib/docker/overlay2/l/DK62GMJ7YWD352N7EBN6Z7NW4X:/var/lib/docker/overlay2/l/P3UTSC3GD5U2KE5CZH4M2NHMBG:/var/lib/docker/overlay2/l/VD7EUCZSMECTFOW7IIPSCEX4JM:/var/lib/docker/overlay2/l/JYXYPILZXXAYHR7WRVQZCD6K3Q:/var/lib/docker/overlay2/l/WVA3JNFTU4ODUE62JCC7AVMUM6:/var/lib/docker/overlay2/l/MRY4XN6FMUFF4BQUPGJ7YLLHRP:/var/lib/docker/overlay2/l/ITJFFFEWFL7E7OGEEZKTF6N7LD:/var/lib/docker/overlay2/l/FQDWWHY3VM74QBLUFN5CF5IDYO:/var/lib/docker/overlay2/l/U5OVVSIWE2MDZ'\n",
      "Unexpected end of /proc/mounts line `EAH4TF2PEAAE6:/var/lib/docker/overlay2/l/EGF6PA2CWXADDQJESE2446D56S:/var/lib/docker/overlay2/l/IB2WD76YXTMZG2QOWR7GUG7IYT:/var/lib/docker/overlay2/l/IIMLGMJ4JINXEWK27EDCERZELX:/var/lib/docker/overlay2/l/L7CTL35E6XMSEWF7QPLHH5TOW2:/var/lib/docker/overlay2/l/3DS6RVJMFFGK3UYSLNER7RUM4Q:/var/lib/docker/overlay2/l/DGINKAV4FMSJX44G2RIJJ3Z42O:/var/lib/docker/overlay2/l/DOCM6YYK7SLPTZ6RM4CMED7YLV:/var/lib/docker/overlay2/l/WKITE5QHJLEASZYONTVW3DQRFD:/var/lib/docker/overlay2/l/LGF4BIN6WXOSKTESB6PUQVKD3W:/var/lib/do'\n",
      "41afbf31e948:13:65 [0] INFO comm 0x7fb4742272e0 rank 0 nranks 2\n",
      "41afbf31e948:14:66 [1] INFO comm 0x7fec54227800 rank 1 nranks 2\n",
      "41afbf31e948:14:66 [1] INFO NET : Using interface eth0:172.17.0.3<0>\n",
      "41afbf31e948:14:66 [1] INFO NET/Socket : 1 interfaces found\n",
      "41afbf31e948:13:65 [0] INFO Using 256 threads\n",
      "41afbf31e948:13:65 [0] INFO Min Comp Cap 7\n",
      "41afbf31e948:13:65 [0] INFO NCCL_SINGLE_RING_THRESHOLD=262144\n",
      "41afbf31e948:13:65 [0] INFO Ring 00 :    0   1\n",
      "41afbf31e948:14:66 [1] INFO 1[14] -> 0[13] via direct shared memory\n",
      "41afbf31e948:13:65 [0] INFO 0[13] -> 1[14] via direct shared memory\n",
      "41afbf31e948:13:65 [0] INFO Launch mode Parallel\n",
      "INFO:__main__:1: [Epoch 0]  duration(5.657348500099033)  loss:6.9815826416015625 total-samples: 0\n",
      "INFO:__main__:0: [Epoch 0]  duration(5.659670127090067)  loss:7.070679187774658 total-samples: 0\n",
      "INFO:__main__:1: [Epoch 0]  duration(22.52876269700937)  loss:6.24755334854126 total-samples: 6400\n",
      "INFO:__main__:0: [Epoch 0]  duration(22.528516705147922)  loss:6.189745903015137 total-samples: 6400\n",
      "INFO:__main__:1: [Epoch 0]  duration(22.495547740953043)  loss:6.0138092041015625 total-samples: 12800\n",
      "INFO:__main__:0: [Epoch 0]  duration(22.49454707186669)  loss:6.170968055725098 total-samples: 12800\n",
      "INFO:__main__:0: [Epoch 0]  duration(22.48468095716089)  loss:6.01400089263916 total-samples: 19200\n",
      "INFO:__main__:1: [Epoch 0]  duration(22.4861887099687)  loss:6.05994176864624 total-samples: 19200\n"
     ]
    },
    {
     "ename": "KeyboardInterrupt",
     "evalue": "",
     "output_type": "error",
     "traceback": [
      "\u001b[0;31m---------------------------------------------------------------------------\u001b[0m",
      "\u001b[0;31mKeyboardInterrupt\u001b[0m                         Traceback (most recent call last)",
      "\u001b[0;32m<ipython-input-18-58c14d27e2ca>\u001b[0m in \u001b[0;36m<module>\u001b[0;34m\u001b[0m\n\u001b[0;32m----> 1\u001b[0;31m \u001b[0;32mfor\u001b[0m \u001b[0mline\u001b[0m \u001b[0;32min\u001b[0m \u001b[0mcontainer\u001b[0m\u001b[0;34m.\u001b[0m\u001b[0mlogs\u001b[0m\u001b[0;34m(\u001b[0m\u001b[0mstderr\u001b[0m\u001b[0;34m=\u001b[0m\u001b[0;32mTrue\u001b[0m\u001b[0;34m,\u001b[0m \u001b[0mstream\u001b[0m\u001b[0;34m=\u001b[0m\u001b[0;32mTrue\u001b[0m\u001b[0;34m)\u001b[0m\u001b[0;34m:\u001b[0m\u001b[0;34m\u001b[0m\u001b[0;34m\u001b[0m\u001b[0m\n\u001b[0m\u001b[1;32m      2\u001b[0m     \u001b[0mprint\u001b[0m\u001b[0;34m(\u001b[0m\u001b[0mline\u001b[0m\u001b[0;34m.\u001b[0m\u001b[0mdecode\u001b[0m\u001b[0;34m(\u001b[0m\u001b[0;34m\"utf-8\"\u001b[0m\u001b[0;34m)\u001b[0m\u001b[0;34m,\u001b[0m\u001b[0mend\u001b[0m \u001b[0;34m=\u001b[0m\u001b[0;34m\"\"\u001b[0m\u001b[0;34m)\u001b[0m\u001b[0;34m\u001b[0m\u001b[0;34m\u001b[0m\u001b[0m\n",
      "\u001b[0;32m/opt/conda/envs/py3.6/lib/python3.6/site-packages/docker/types/daemon.py\u001b[0m in \u001b[0;36m__next__\u001b[0;34m(self)\u001b[0m\n\u001b[1;32m     30\u001b[0m     \u001b[0;32mdef\u001b[0m \u001b[0m__next__\u001b[0m\u001b[0;34m(\u001b[0m\u001b[0mself\u001b[0m\u001b[0;34m)\u001b[0m\u001b[0;34m:\u001b[0m\u001b[0;34m\u001b[0m\u001b[0;34m\u001b[0m\u001b[0m\n\u001b[1;32m     31\u001b[0m         \u001b[0;32mtry\u001b[0m\u001b[0;34m:\u001b[0m\u001b[0;34m\u001b[0m\u001b[0;34m\u001b[0m\u001b[0m\n\u001b[0;32m---> 32\u001b[0;31m             \u001b[0;32mreturn\u001b[0m \u001b[0mnext\u001b[0m\u001b[0;34m(\u001b[0m\u001b[0mself\u001b[0m\u001b[0;34m.\u001b[0m\u001b[0m_stream\u001b[0m\u001b[0;34m)\u001b[0m\u001b[0;34m\u001b[0m\u001b[0;34m\u001b[0m\u001b[0m\n\u001b[0m\u001b[1;32m     33\u001b[0m         \u001b[0;32mexcept\u001b[0m \u001b[0murllib3\u001b[0m\u001b[0;34m.\u001b[0m\u001b[0mexceptions\u001b[0m\u001b[0;34m.\u001b[0m\u001b[0mProtocolError\u001b[0m\u001b[0;34m:\u001b[0m\u001b[0;34m\u001b[0m\u001b[0;34m\u001b[0m\u001b[0m\n\u001b[1;32m     34\u001b[0m             \u001b[0;32mraise\u001b[0m \u001b[0mStopIteration\u001b[0m\u001b[0;34m\u001b[0m\u001b[0;34m\u001b[0m\u001b[0m\n",
      "\u001b[0;32m/opt/conda/envs/py3.6/lib/python3.6/site-packages/docker/api/client.py\u001b[0m in \u001b[0;36m_multiplexed_response_stream_helper\u001b[0;34m(self, response)\u001b[0m\n\u001b[1;32m    365\u001b[0m \u001b[0;34m\u001b[0m\u001b[0m\n\u001b[1;32m    366\u001b[0m         \u001b[0;32mwhile\u001b[0m \u001b[0;32mTrue\u001b[0m\u001b[0;34m:\u001b[0m\u001b[0;34m\u001b[0m\u001b[0;34m\u001b[0m\u001b[0m\n\u001b[0;32m--> 367\u001b[0;31m             \u001b[0mheader\u001b[0m \u001b[0;34m=\u001b[0m \u001b[0mresponse\u001b[0m\u001b[0;34m.\u001b[0m\u001b[0mraw\u001b[0m\u001b[0;34m.\u001b[0m\u001b[0mread\u001b[0m\u001b[0;34m(\u001b[0m\u001b[0mSTREAM_HEADER_SIZE_BYTES\u001b[0m\u001b[0;34m)\u001b[0m\u001b[0;34m\u001b[0m\u001b[0;34m\u001b[0m\u001b[0m\n\u001b[0m\u001b[1;32m    368\u001b[0m             \u001b[0;32mif\u001b[0m \u001b[0;32mnot\u001b[0m \u001b[0mheader\u001b[0m\u001b[0;34m:\u001b[0m\u001b[0;34m\u001b[0m\u001b[0;34m\u001b[0m\u001b[0m\n\u001b[1;32m    369\u001b[0m                 \u001b[0;32mbreak\u001b[0m\u001b[0;34m\u001b[0m\u001b[0;34m\u001b[0m\u001b[0m\n",
      "\u001b[0;32m/opt/conda/envs/py3.6/lib/python3.6/site-packages/urllib3/response.py\u001b[0m in \u001b[0;36mread\u001b[0;34m(self, amt, decode_content, cache_content)\u001b[0m\n\u001b[1;32m    440\u001b[0m             \u001b[0;32melse\u001b[0m\u001b[0;34m:\u001b[0m\u001b[0;34m\u001b[0m\u001b[0;34m\u001b[0m\u001b[0m\n\u001b[1;32m    441\u001b[0m                 \u001b[0mcache_content\u001b[0m \u001b[0;34m=\u001b[0m \u001b[0;32mFalse\u001b[0m\u001b[0;34m\u001b[0m\u001b[0;34m\u001b[0m\u001b[0m\n\u001b[0;32m--> 442\u001b[0;31m                 \u001b[0mdata\u001b[0m \u001b[0;34m=\u001b[0m \u001b[0mself\u001b[0m\u001b[0;34m.\u001b[0m\u001b[0m_fp\u001b[0m\u001b[0;34m.\u001b[0m\u001b[0mread\u001b[0m\u001b[0;34m(\u001b[0m\u001b[0mamt\u001b[0m\u001b[0;34m)\u001b[0m\u001b[0;34m\u001b[0m\u001b[0;34m\u001b[0m\u001b[0m\n\u001b[0m\u001b[1;32m    443\u001b[0m                 \u001b[0;32mif\u001b[0m \u001b[0mamt\u001b[0m \u001b[0;34m!=\u001b[0m \u001b[0;36m0\u001b[0m \u001b[0;32mand\u001b[0m \u001b[0;32mnot\u001b[0m \u001b[0mdata\u001b[0m\u001b[0;34m:\u001b[0m  \u001b[0;31m# Platform-specific: Buggy versions of Python.\u001b[0m\u001b[0;34m\u001b[0m\u001b[0;34m\u001b[0m\u001b[0m\n\u001b[1;32m    444\u001b[0m                     \u001b[0;31m# Close the connection when no data is returned\u001b[0m\u001b[0;34m\u001b[0m\u001b[0;34m\u001b[0m\u001b[0;34m\u001b[0m\u001b[0m\n",
      "\u001b[0;32m/opt/conda/envs/py3.6/lib/python3.6/http/client.py\u001b[0m in \u001b[0;36mread\u001b[0;34m(self, amt)\u001b[0m\n\u001b[1;32m    447\u001b[0m             \u001b[0;31m# Amount is given, implement using readinto\u001b[0m\u001b[0;34m\u001b[0m\u001b[0;34m\u001b[0m\u001b[0;34m\u001b[0m\u001b[0m\n\u001b[1;32m    448\u001b[0m             \u001b[0mb\u001b[0m \u001b[0;34m=\u001b[0m \u001b[0mbytearray\u001b[0m\u001b[0;34m(\u001b[0m\u001b[0mamt\u001b[0m\u001b[0;34m)\u001b[0m\u001b[0;34m\u001b[0m\u001b[0;34m\u001b[0m\u001b[0m\n\u001b[0;32m--> 449\u001b[0;31m             \u001b[0mn\u001b[0m \u001b[0;34m=\u001b[0m \u001b[0mself\u001b[0m\u001b[0;34m.\u001b[0m\u001b[0mreadinto\u001b[0m\u001b[0;34m(\u001b[0m\u001b[0mb\u001b[0m\u001b[0;34m)\u001b[0m\u001b[0;34m\u001b[0m\u001b[0;34m\u001b[0m\u001b[0m\n\u001b[0m\u001b[1;32m    450\u001b[0m             \u001b[0;32mreturn\u001b[0m \u001b[0mmemoryview\u001b[0m\u001b[0;34m(\u001b[0m\u001b[0mb\u001b[0m\u001b[0;34m)\u001b[0m\u001b[0;34m[\u001b[0m\u001b[0;34m:\u001b[0m\u001b[0mn\u001b[0m\u001b[0;34m]\u001b[0m\u001b[0;34m.\u001b[0m\u001b[0mtobytes\u001b[0m\u001b[0;34m(\u001b[0m\u001b[0;34m)\u001b[0m\u001b[0;34m\u001b[0m\u001b[0;34m\u001b[0m\u001b[0m\n\u001b[1;32m    451\u001b[0m         \u001b[0;32melse\u001b[0m\u001b[0;34m:\u001b[0m\u001b[0;34m\u001b[0m\u001b[0;34m\u001b[0m\u001b[0m\n",
      "\u001b[0;32m/opt/conda/envs/py3.6/lib/python3.6/http/client.py\u001b[0m in \u001b[0;36mreadinto\u001b[0;34m(self, b)\u001b[0m\n\u001b[1;32m    481\u001b[0m \u001b[0;34m\u001b[0m\u001b[0m\n\u001b[1;32m    482\u001b[0m         \u001b[0;32mif\u001b[0m \u001b[0mself\u001b[0m\u001b[0;34m.\u001b[0m\u001b[0mchunked\u001b[0m\u001b[0;34m:\u001b[0m\u001b[0;34m\u001b[0m\u001b[0;34m\u001b[0m\u001b[0m\n\u001b[0;32m--> 483\u001b[0;31m             \u001b[0;32mreturn\u001b[0m \u001b[0mself\u001b[0m\u001b[0;34m.\u001b[0m\u001b[0m_readinto_chunked\u001b[0m\u001b[0;34m(\u001b[0m\u001b[0mb\u001b[0m\u001b[0;34m)\u001b[0m\u001b[0;34m\u001b[0m\u001b[0;34m\u001b[0m\u001b[0m\n\u001b[0m\u001b[1;32m    484\u001b[0m \u001b[0;34m\u001b[0m\u001b[0m\n\u001b[1;32m    485\u001b[0m         \u001b[0;32mif\u001b[0m \u001b[0mself\u001b[0m\u001b[0;34m.\u001b[0m\u001b[0mlength\u001b[0m \u001b[0;32mis\u001b[0m \u001b[0;32mnot\u001b[0m \u001b[0;32mNone\u001b[0m\u001b[0;34m:\u001b[0m\u001b[0;34m\u001b[0m\u001b[0;34m\u001b[0m\u001b[0m\n",
      "\u001b[0;32m/opt/conda/envs/py3.6/lib/python3.6/http/client.py\u001b[0m in \u001b[0;36m_readinto_chunked\u001b[0;34m(self, b)\u001b[0m\n\u001b[1;32m    576\u001b[0m         \u001b[0;32mtry\u001b[0m\u001b[0;34m:\u001b[0m\u001b[0;34m\u001b[0m\u001b[0;34m\u001b[0m\u001b[0m\n\u001b[1;32m    577\u001b[0m             \u001b[0;32mwhile\u001b[0m \u001b[0;32mTrue\u001b[0m\u001b[0;34m:\u001b[0m\u001b[0;34m\u001b[0m\u001b[0;34m\u001b[0m\u001b[0m\n\u001b[0;32m--> 578\u001b[0;31m                 \u001b[0mchunk_left\u001b[0m \u001b[0;34m=\u001b[0m \u001b[0mself\u001b[0m\u001b[0;34m.\u001b[0m\u001b[0m_get_chunk_left\u001b[0m\u001b[0;34m(\u001b[0m\u001b[0;34m)\u001b[0m\u001b[0;34m\u001b[0m\u001b[0;34m\u001b[0m\u001b[0m\n\u001b[0m\u001b[1;32m    579\u001b[0m                 \u001b[0;32mif\u001b[0m \u001b[0mchunk_left\u001b[0m \u001b[0;32mis\u001b[0m \u001b[0;32mNone\u001b[0m\u001b[0;34m:\u001b[0m\u001b[0;34m\u001b[0m\u001b[0;34m\u001b[0m\u001b[0m\n\u001b[1;32m    580\u001b[0m                     \u001b[0;32mreturn\u001b[0m \u001b[0mtotal_bytes\u001b[0m\u001b[0;34m\u001b[0m\u001b[0;34m\u001b[0m\u001b[0m\n",
      "\u001b[0;32m/opt/conda/envs/py3.6/lib/python3.6/http/client.py\u001b[0m in \u001b[0;36m_get_chunk_left\u001b[0;34m(self)\u001b[0m\n\u001b[1;32m    544\u001b[0m                 \u001b[0mself\u001b[0m\u001b[0;34m.\u001b[0m\u001b[0m_safe_read\u001b[0m\u001b[0;34m(\u001b[0m\u001b[0;36m2\u001b[0m\u001b[0;34m)\u001b[0m  \u001b[0;31m# toss the CRLF at the end of the chunk\u001b[0m\u001b[0;34m\u001b[0m\u001b[0;34m\u001b[0m\u001b[0m\n\u001b[1;32m    545\u001b[0m             \u001b[0;32mtry\u001b[0m\u001b[0;34m:\u001b[0m\u001b[0;34m\u001b[0m\u001b[0;34m\u001b[0m\u001b[0m\n\u001b[0;32m--> 546\u001b[0;31m                 \u001b[0mchunk_left\u001b[0m \u001b[0;34m=\u001b[0m \u001b[0mself\u001b[0m\u001b[0;34m.\u001b[0m\u001b[0m_read_next_chunk_size\u001b[0m\u001b[0;34m(\u001b[0m\u001b[0;34m)\u001b[0m\u001b[0;34m\u001b[0m\u001b[0;34m\u001b[0m\u001b[0m\n\u001b[0m\u001b[1;32m    547\u001b[0m             \u001b[0;32mexcept\u001b[0m \u001b[0mValueError\u001b[0m\u001b[0;34m:\u001b[0m\u001b[0;34m\u001b[0m\u001b[0;34m\u001b[0m\u001b[0m\n\u001b[1;32m    548\u001b[0m                 \u001b[0;32mraise\u001b[0m \u001b[0mIncompleteRead\u001b[0m\u001b[0;34m(\u001b[0m\u001b[0;34mb''\u001b[0m\u001b[0;34m)\u001b[0m\u001b[0;34m\u001b[0m\u001b[0;34m\u001b[0m\u001b[0m\n",
      "\u001b[0;32m/opt/conda/envs/py3.6/lib/python3.6/http/client.py\u001b[0m in \u001b[0;36m_read_next_chunk_size\u001b[0;34m(self)\u001b[0m\n\u001b[1;32m    504\u001b[0m     \u001b[0;32mdef\u001b[0m \u001b[0m_read_next_chunk_size\u001b[0m\u001b[0;34m(\u001b[0m\u001b[0mself\u001b[0m\u001b[0;34m)\u001b[0m\u001b[0;34m:\u001b[0m\u001b[0;34m\u001b[0m\u001b[0;34m\u001b[0m\u001b[0m\n\u001b[1;32m    505\u001b[0m         \u001b[0;31m# Read the next chunk size from the file\u001b[0m\u001b[0;34m\u001b[0m\u001b[0;34m\u001b[0m\u001b[0;34m\u001b[0m\u001b[0m\n\u001b[0;32m--> 506\u001b[0;31m         \u001b[0mline\u001b[0m \u001b[0;34m=\u001b[0m \u001b[0mself\u001b[0m\u001b[0;34m.\u001b[0m\u001b[0mfp\u001b[0m\u001b[0;34m.\u001b[0m\u001b[0mreadline\u001b[0m\u001b[0;34m(\u001b[0m\u001b[0m_MAXLINE\u001b[0m \u001b[0;34m+\u001b[0m \u001b[0;36m1\u001b[0m\u001b[0;34m)\u001b[0m\u001b[0;34m\u001b[0m\u001b[0;34m\u001b[0m\u001b[0m\n\u001b[0m\u001b[1;32m    507\u001b[0m         \u001b[0;32mif\u001b[0m \u001b[0mlen\u001b[0m\u001b[0;34m(\u001b[0m\u001b[0mline\u001b[0m\u001b[0;34m)\u001b[0m \u001b[0;34m>\u001b[0m \u001b[0m_MAXLINE\u001b[0m\u001b[0;34m:\u001b[0m\u001b[0;34m\u001b[0m\u001b[0;34m\u001b[0m\u001b[0m\n\u001b[1;32m    508\u001b[0m             \u001b[0;32mraise\u001b[0m \u001b[0mLineTooLong\u001b[0m\u001b[0;34m(\u001b[0m\u001b[0;34m\"chunk size\"\u001b[0m\u001b[0;34m)\u001b[0m\u001b[0;34m\u001b[0m\u001b[0;34m\u001b[0m\u001b[0m\n",
      "\u001b[0;32m/opt/conda/envs/py3.6/lib/python3.6/socket.py\u001b[0m in \u001b[0;36mreadinto\u001b[0;34m(self, b)\u001b[0m\n\u001b[1;32m    584\u001b[0m         \u001b[0;32mwhile\u001b[0m \u001b[0;32mTrue\u001b[0m\u001b[0;34m:\u001b[0m\u001b[0;34m\u001b[0m\u001b[0;34m\u001b[0m\u001b[0m\n\u001b[1;32m    585\u001b[0m             \u001b[0;32mtry\u001b[0m\u001b[0;34m:\u001b[0m\u001b[0;34m\u001b[0m\u001b[0;34m\u001b[0m\u001b[0m\n\u001b[0;32m--> 586\u001b[0;31m                 \u001b[0;32mreturn\u001b[0m \u001b[0mself\u001b[0m\u001b[0;34m.\u001b[0m\u001b[0m_sock\u001b[0m\u001b[0;34m.\u001b[0m\u001b[0mrecv_into\u001b[0m\u001b[0;34m(\u001b[0m\u001b[0mb\u001b[0m\u001b[0;34m)\u001b[0m\u001b[0;34m\u001b[0m\u001b[0;34m\u001b[0m\u001b[0m\n\u001b[0m\u001b[1;32m    587\u001b[0m             \u001b[0;32mexcept\u001b[0m \u001b[0mtimeout\u001b[0m\u001b[0;34m:\u001b[0m\u001b[0;34m\u001b[0m\u001b[0;34m\u001b[0m\u001b[0m\n\u001b[1;32m    588\u001b[0m                 \u001b[0mself\u001b[0m\u001b[0;34m.\u001b[0m\u001b[0m_timeout_occurred\u001b[0m \u001b[0;34m=\u001b[0m \u001b[0;32mTrue\u001b[0m\u001b[0;34m\u001b[0m\u001b[0;34m\u001b[0m\u001b[0m\n",
      "\u001b[0;31mKeyboardInterrupt\u001b[0m: "
     ]
    }
   ],
   "source": [
    "for line in container.logs(stderr=True, stream=True):\n",
    "    print(line.decode(\"utf-8\"),end =\"\")"
   ]
  },
  {
   "cell_type": "code",
   "execution_count": 19,
   "metadata": {},
   "outputs": [],
   "source": [
    "container.reload() # Refresh state\n",
    "if container.status is 'running':\n",
    "    container.kill()"
   ]
  },
  {
   "cell_type": "code",
   "execution_count": 24,
   "metadata": {
    "tags": [
     "stripout"
    ]
   },
   "outputs": [
    {
     "name": "stdout",
     "output_type": "stream",
     "text": [
      "b'{\"status\":\"The push refers to a repository [docker.io/masalvar/caia-horovod-pytorch]\"}\\r\\n'\n",
      "b'{\"status\":\"Preparing\",\"progressDetail\":{},\"id\":\"7e6c8b5d5783\"}\\r\\n'\n",
      "b'{\"status\":\"Preparing\",\"progressDetail\":{},\"id\":\"eeb659df3cc8\"}\\r\\n'\n",
      "b'{\"status\":\"Preparing\",\"progressDetail\":{},\"id\":\"27aab996f8cd\"}\\r\\n'\n",
      "b'{\"status\":\"Preparing\",\"progressDetail\":{},\"id\":\"d9038574f55a\"}\\r\\n'\n",
      "b'{\"status\":\"Preparing\",\"progressDetail\":{},\"id\":\"4936625d6fff\"}\\r\\n'\n",
      "b'{\"status\":\"Preparing\",\"progressDetail\":{},\"id\":\"9be10ccfe4da\"}\\r\\n'\n",
      "b'{\"status\":\"Preparing\",\"progressDetail\":{},\"id\":\"12302f8bd2e6\"}\\r\\n'\n",
      "b'{\"status\":\"Preparing\",\"progressDetail\":{},\"id\":\"879c4ef3d9fb\"}\\r\\n'\n",
      "b'{\"status\":\"Preparing\",\"progressDetail\":{},\"id\":\"4246124ac3fb\"}\\r\\n'\n",
      "b'{\"status\":\"Preparing\",\"progressDetail\":{},\"id\":\"a917bc2d0f96\"}\\r\\n'\n",
      "b'{\"status\":\"Preparing\",\"progressDetail\":{},\"id\":\"c7cfa177d51a\"}\\r\\n'\n",
      "b'{\"status\":\"Preparing\",\"progressDetail\":{},\"id\":\"9b68e6935e56\"}\\r\\n'\n",
      "b'{\"status\":\"Preparing\",\"progressDetail\":{},\"id\":\"6e8ce585c22b\"}\\r\\n'\n",
      "b'{\"status\":\"Preparing\",\"progressDetail\":{},\"id\":\"65dd347e5346\"}\\r\\n'\n",
      "b'{\"status\":\"Preparing\",\"progressDetail\":{},\"id\":\"39d39e5e9701\"}\\r\\n'\n",
      "b'{\"status\":\"Preparing\",\"progressDetail\":{},\"id\":\"621c51016399\"}\\r\\n'\n",
      "b'{\"status\":\"Preparing\",\"progressDetail\":{},\"id\":\"145eb658aaf0\"}\\r\\n'\n",
      "b'{\"status\":\"Preparing\",\"progressDetail\":{},\"id\":\"e6c3a9c7c79e\"}\\r\\n'\n",
      "b'{\"status\":\"Waiting\",\"progressDetail\":{},\"id\":\"879c4ef3d9fb\"}\\r\\n'\n",
      "b'{\"status\":\"Preparing\",\"progressDetail\":{},\"id\":\"f1dfa8049aa6\"}\\r\\n'\n",
      "b'{\"status\":\"Preparing\",\"progressDetail\":{},\"id\":\"79109c0f8a0b\"}\\r\\n'\n",
      "b'{\"status\":\"Waiting\",\"progressDetail\":{},\"id\":\"4246124ac3fb\"}\\r\\n'\n",
      "b'{\"status\":\"Waiting\",\"progressDetail\":{},\"id\":\"a917bc2d0f96\"}\\r\\n'\n",
      "b'{\"status\":\"Waiting\",\"progressDetail\":{},\"id\":\"145eb658aaf0\"}\\r\\n'\n",
      "b'{\"status\":\"Waiting\",\"progressDetail\":{},\"id\":\"9b68e6935e56\"}\\r\\n'\n",
      "b'{\"status\":\"Waiting\",\"progressDetail\":{},\"id\":\"39d39e5e9701\"}\\r\\n'\n",
      "b'{\"status\":\"Waiting\",\"progressDetail\":{},\"id\":\"c7cfa177d51a\"}\\r\\n'\n",
      "b'{\"status\":\"Waiting\",\"progressDetail\":{},\"id\":\"65dd347e5346\"}\\r\\n'\n",
      "b'{\"status\":\"Waiting\",\"progressDetail\":{},\"id\":\"6e8ce585c22b\"}\\r\\n'\n",
      "b'{\"status\":\"Waiting\",\"progressDetail\":{},\"id\":\"e6c3a9c7c79e\"}\\r\\n'\n",
      "b'{\"status\":\"Waiting\",\"progressDetail\":{},\"id\":\"f1dfa8049aa6\"}\\r\\n'\n",
      "b'{\"status\":\"Preparing\",\"progressDetail\":{},\"id\":\"33db8ccd260b\"}\\r\\n'\n",
      "b'{\"status\":\"Preparing\",\"progressDetail\":{},\"id\":\"b8c891f0ffec\"}\\r\\n'\n",
      "b'{\"status\":\"Waiting\",\"progressDetail\":{},\"id\":\"12302f8bd2e6\"}\\r\\n'\n",
      "b'{\"status\":\"Waiting\",\"progressDetail\":{},\"id\":\"621c51016399\"}\\r\\n'\n",
      "b'{\"status\":\"Waiting\",\"progressDetail\":{},\"id\":\"b8c891f0ffec\"}\\r\\n'\n",
      "b'{\"status\":\"Waiting\",\"progressDetail\":{},\"id\":\"33db8ccd260b\"}\\r\\n'\n",
      "b'{\"status\":\"Layer already exists\",\"progressDetail\":{},\"id\":\"d9038574f55a\"}\\r\\n'\n",
      "b'{\"status\":\"Layer already exists\",\"progressDetail\":{},\"id\":\"7e6c8b5d5783\"}\\r\\n'\n",
      "b'{\"status\":\"Layer already exists\",\"progressDetail\":{},\"id\":\"eeb659df3cc8\"}\\r\\n'\n",
      "b'{\"status\":\"Layer already exists\",\"progressDetail\":{},\"id\":\"4936625d6fff\"}\\r\\n'\n",
      "b'{\"status\":\"Layer already exists\",\"progressDetail\":{},\"id\":\"27aab996f8cd\"}\\r\\n'\n",
      "b'{\"status\":\"Layer already exists\",\"progressDetail\":{},\"id\":\"9be10ccfe4da\"}\\r\\n'\n",
      "b'{\"status\":\"Layer already exists\",\"progressDetail\":{},\"id\":\"4246124ac3fb\"}\\r\\n'\n",
      "b'{\"status\":\"Layer already exists\",\"progressDetail\":{},\"id\":\"12302f8bd2e6\"}\\r\\n'\n",
      "b'{\"status\":\"Layer already exists\",\"progressDetail\":{},\"id\":\"a917bc2d0f96\"}\\r\\n'\n",
      "b'{\"status\":\"Layer already exists\",\"progressDetail\":{},\"id\":\"879c4ef3d9fb\"}\\r\\n'\n",
      "b'{\"status\":\"Layer already exists\",\"progressDetail\":{},\"id\":\"c7cfa177d51a\"}\\r\\n'\n",
      "b'{\"status\":\"Layer already exists\",\"progressDetail\":{},\"id\":\"65dd347e5346\"}\\r\\n'\n",
      "b'{\"status\":\"Layer already exists\",\"progressDetail\":{},\"id\":\"39d39e5e9701\"}\\r\\n'\n",
      "b'{\"status\":\"Layer already exists\",\"progressDetail\":{},\"id\":\"621c51016399\"}\\r\\n'\n",
      "b'{\"status\":\"Layer already exists\",\"progressDetail\":{},\"id\":\"6e8ce585c22b\"}\\r\\n'\n",
      "b'{\"status\":\"Layer already exists\",\"progressDetail\":{},\"id\":\"145eb658aaf0\"}\\r\\n'\n",
      "b'{\"status\":\"Layer already exists\",\"progressDetail\":{},\"id\":\"e6c3a9c7c79e\"}\\r\\n'\n",
      "b'{\"status\":\"Layer already exists\",\"progressDetail\":{},\"id\":\"f1dfa8049aa6\"}\\r\\n'\n",
      "b'{\"status\":\"Layer already exists\",\"progressDetail\":{},\"id\":\"79109c0f8a0b\"}\\r\\n'\n",
      "b'{\"status\":\"Layer already exists\",\"progressDetail\":{},\"id\":\"9b68e6935e56\"}\\r\\n'\n",
      "b'{\"status\":\"Layer already exists\",\"progressDetail\":{},\"id\":\"33db8ccd260b\"}\\r\\n'\n",
      "b'{\"status\":\"Layer already exists\",\"progressDetail\":{},\"id\":\"b8c891f0ffec\"}\\r\\n'\n",
      "b'{\"status\":\"latest: digest: sha256:fbb148f239f4120dda9c4637a6542c37dc36b8d57291d11a94b257b62e5257c4 size: 4926\"}\\r\\n'\n",
      "b'{\"progressDetail\":{},\"aux\":{\"Tag\":\"latest\",\"Digest\":\"sha256:fbb148f239f4120dda9c4637a6542c37dc36b8d57291d11a94b257b62e5257c4\",\"Size\":4926}}\\r\\n'\n"
     ]
    }
   ],
   "source": [
    "for line in dc.images.push(image.tags[0], \n",
    "                           stream=True,\n",
    "                           auth_config={\"username\": DOCKERHUB,\n",
    "                                        \"password\": DOCKER_PWD}):\n",
    "    print(line)"
   ]
  }
 ],
 "metadata": {
  "jupytext": {
   "text_representation": {
    "extension": ".py",
    "format_name": "light",
    "format_version": "1.3",
    "jupytext_version": "0.8.6"
   }
  },
  "kernelspec": {
   "display_name": "Python 3",
   "language": "python",
   "name": "python3"
  },
  "language_info": {
   "codemirror_mode": {
    "name": "ipython",
    "version": 3
   },
   "file_extension": ".py",
   "mimetype": "text/x-python",
   "name": "python",
   "nbconvert_exporter": "python",
   "pygments_lexer": "ipython3",
   "version": "3.6.7"
  }
 },
 "nbformat": 4,
 "nbformat_minor": 2
}
