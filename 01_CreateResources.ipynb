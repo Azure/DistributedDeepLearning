{
 "cells": [
  {
   "cell_type": "markdown",
   "metadata": {},
   "source": [
    "# Create Azure and Batch AI Resources\n",
    "In this notebook we will create the necessary resources to train a ResNet50 model([ResNet50](https://arxiv.org/abs/1512.03385)) in a distributed fashion using [Horovod](https://github.com/uber/horovod) on the Imagenet dataset. If you plan on using fake data then the sections marked optional can be skipped. This notebook will take you through the following steps:\n",
    " * [Create Azure Resources](#azure_resources)\n",
    " * [Create Fileserver(NFS)(Optional)](#create_fileshare)\n",
    " * [Upload Data to Blob (Optional)](#upload_data)\n",
    " * [Configure Batch AI Cluster](#configure_cluster)"
   ]
  },
  {
   "cell_type": "code",
   "execution_count": 3,
   "metadata": {},
   "outputs": [],
   "source": [
    "import sys\n",
    "sys.path.append(\"../common\") \n",
    "\n",
    "from dotenv import dotenv_values, set_key, find_dotenv, get_key\n",
    "from getpass import getpass\n",
    "import os\n",
    "import json\n",
    "from utils import get_password, write_json_to_file, dotenv_for\n",
    "from pathlib import Path"
   ]
  },
  {
   "cell_type": "markdown",
   "metadata": {},
   "source": [
    "Below are the variables that describe our experiment. By default we are using the NC24rs_v3 (Standard_NC24rs_v3) VMs which have V100 GPUs and Infiniband. By default we are using 2 nodes with each node having 4 GPUs, this equates to 8 GPUs. Feel free to increase the number of nodes but be aware what limitations your subscription may have.\n",
    "\n",
    "Set the USE_FAKE to True if you want to use fake data rather than the Imagenet dataset. This is often a good way to debug your models as well as checking what IO overhead is."
   ]
  },
  {
   "cell_type": "code",
   "execution_count": 4,
   "metadata": {
    "tags": [
     "parameters"
    ]
   },
   "outputs": [],
   "source": [
    "# Variables for Batch AI - change as necessary\n",
    "ID                     = \"ddpytorch\"\n",
    "GROUP_NAME             = f\"batch{ID}rg\"\n",
    "STORAGE_ACCOUNT_NAME   = f\"batch{ID}st\"\n",
    "FILE_SHARE_NAME        = f\"batch{ID}share\"\n",
    "SELECTED_SUBSCRIPTION  = \"Boston Team Danielle\" #\"<YOUR SUBSCRIPTION>\"\n",
    "WORKSPACE              = \"workspace\"\n",
    "NUM_NODES              = 2\n",
    "CLUSTER_NAME           = \"msv100\"\n",
    "VM_SIZE                = \"Standard_NC24rs_v3\"\n",
    "GPU_TYPE               = \"V100\"\n",
    "PROCESSES_PER_NODE     = 4\n",
    "LOCATION               = \"eastus\"\n",
    "NFS_NAME               = f\"batch{ID}nfs\"\n",
    "EXPERIMENT             = f\"distributed_pytorch_{GPU_TYPE}\"\n",
    "USERNAME               = \"batchai_user\"\n",
    "USE_FAKE               = False\n",
    "DOCKERHUB              = \"masalvar\" #\"<YOUR DOCKERHUB>\"\n",
    "DATA                   = Path(\"/data/imagenet\")\n",
    "CONTAINER_NAME         = f\"batch{ID}container\""
   ]
  },
  {
   "cell_type": "code",
   "execution_count": 5,
   "metadata": {},
   "outputs": [],
   "source": [
    "FAKE='-env FAKE=True' if USE_FAKE else ''\n",
    "TOTAL_PROCESSES = PROCESSES_PER_NODE * NUM_NODES"
   ]
  },
  {
   "cell_type": "markdown",
   "metadata": {},
   "source": [
    "<a id='azure_resources'></a>\n",
    "## Create Azure Resources\n",
    "First we need to log in to our Azure account. "
   ]
  },
  {
   "cell_type": "code",
   "execution_count": 6,
   "metadata": {},
   "outputs": [
    {
     "name": "stdout",
     "output_type": "stream",
     "text": [
      "\u001b[33mTo sign in, use a web browser to open the page https://microsoft.com/devicelogin and enter the code AVJMP2QER to authenticate.\u001b[0m\n",
      "CloudName    IsDefault    Name                        State     TenantId\n",
      "-----------  -----------  --------------------------  --------  ------------------------------------\n",
      "AzureCloud   True         Visual Studio Enterprise    Enabled   72f988bf-86f1-41af-91ab-2d7cd011db47\n",
      "AzureCloud   False        Azure Internal - London     Enabled   72f988bf-86f1-41af-91ab-2d7cd011db47\n",
      "AzureCloud   False        Boston Team Danielle        Enabled   72f988bf-86f1-41af-91ab-2d7cd011db47\n",
      "AzureCloud   False        Cosmos_WDG_Core_BnB_100348  Enabled   72f988bf-86f1-41af-91ab-2d7cd011db47\n",
      "AzureCloud   False        PhillyExt                   Enabled   72f988bf-86f1-41af-91ab-2d7cd011db47\n",
      "AzureCloud   False        PhillyInt                   Enabled   72f988bf-86f1-41af-91ab-2d7cd011db47\n",
      "AzureCloud   False        Azure Cat E2E               Enabled   72f988bf-86f1-41af-91ab-2d7cd011db47\n",
      "AzureCloud   False        CAT_Eng                     Enabled   72f988bf-86f1-41af-91ab-2d7cd011db47\n",
      "AzureCloud   False        Core-ES-BLD                 Enabled   72f988bf-86f1-41af-91ab-2d7cd011db47\n",
      "AzureCloud   False        AzureCAT WWAHAIHoL          Disabled  72f988bf-86f1-41af-91ab-2d7cd011db47\n",
      "AzureCloud   False        ASutton Subscription        Enabled   72f988bf-86f1-41af-91ab-2d7cd011db47\n",
      "AzureCloud   False        Solution Template Testing   Enabled   72f988bf-86f1-41af-91ab-2d7cd011db47\n",
      "AzureCloud   False        Boston Team Ilan            Enabled   72f988bf-86f1-41af-91ab-2d7cd011db47\n",
      "AzureCloud   False        Boston Team Tao             Enabled   72f988bf-86f1-41af-91ab-2d7cd011db47\n"
     ]
    }
   ],
   "source": [
    "!az login -o table"
   ]
  },
  {
   "cell_type": "markdown",
   "metadata": {},
   "source": [
    "If you have more than one Azure account you will need to select it with the command below. If you only have one account you can skip this step."
   ]
  },
  {
   "cell_type": "code",
   "execution_count": 7,
   "metadata": {},
   "outputs": [],
   "source": [
    "!az account set --subscription \"$SELECTED_SUBSCRIPTION\""
   ]
  },
  {
   "cell_type": "code",
   "execution_count": 8,
   "metadata": {},
   "outputs": [
    {
     "name": "stdout",
     "output_type": "stream",
     "text": [
      "\u001b[33mA few accounts are skipped as they don't have 'Enabled' state. Use '--all' to display them.\u001b[0m\r\n",
      "Name                        CloudName    SubscriptionId                        State    IsDefault\r\n",
      "--------------------------  -----------  ------------------------------------  -------  -----------\r\n",
      "Visual Studio Enterprise    AzureCloud   fb11e9eb-22e1-4347-8d0a-84ef60157664  Enabled  False\r\n",
      "Azure Internal - London     AzureCloud   1ba81249-8edd-4619-a486-3d28a2176aad  Enabled  False\r\n",
      "Boston Team Danielle        AzureCloud   edf507a2-6235-46c5-b560-fd463ba2e771  Enabled  True\r\n",
      "Cosmos_WDG_Core_BnB_100348  AzureCloud   dae41bd3-9db4-4b9b-943e-832b57cac828  Enabled  False\r\n",
      "PhillyExt                   AzureCloud   a20c82c7-4497-4d44-952a-3105f790e26b  Enabled  False\r\n",
      "PhillyInt                   AzureCloud   d50e5f6b-6c27-4ab1-8587-3d85cef6426e  Enabled  False\r\n",
      "Azure Cat E2E               AzureCloud   fc4ea3c9-1d30-4f18-b33b-7404e7da0123  Enabled  False\r\n",
      "CAT_Eng                     AzureCloud   eb87f285-893a-4f0f-8c55-7b4f67b1d097  Enabled  False\r\n",
      "Core-ES-BLD                 AzureCloud   54e18c35-3863-4a17-8e52-b5aa1e65847e  Enabled  False\r\n",
      "ASutton Subscription        AzureCloud   10d0b7c6-9243-4713-91a9-2730375d3a1b  Enabled  False\r\n",
      "Solution Template Testing   AzureCloud   3bcfa59c-82a0-44f9-ac08-b3479370bace  Enabled  False\r\n",
      "Boston Team Ilan            AzureCloud   ff18d7a8-962a-406c-858f-49acd23d6c01  Enabled  False\r\n",
      "Boston Team Tao             AzureCloud   03909a66-bef8-4d52-8e9a-a346604e0902  Enabled  False\r\n"
     ]
    }
   ],
   "source": [
    "!az account list -o table"
   ]
  },
  {
   "cell_type": "markdown",
   "metadata": {},
   "source": [
    "Next we create the group that will hold all our Azure resources."
   ]
  },
  {
   "cell_type": "code",
   "execution_count": 9,
   "metadata": {},
   "outputs": [
    {
     "name": "stdout",
     "output_type": "stream",
     "text": [
      "Location    Name\r\n",
      "----------  ----------------\r\n",
      "eastus      batchddpytorchrg\r\n"
     ]
    }
   ],
   "source": [
    "!az group create -n $GROUP_NAME -l $LOCATION -o table"
   ]
  },
  {
   "cell_type": "markdown",
   "metadata": {},
   "source": [
    "We will create the storage account that will store our fileshare where all the outputs from the jobs will be stored."
   ]
  },
  {
   "cell_type": "code",
   "execution_count": 10,
   "metadata": {},
   "outputs": [
    {
     "name": "stdout",
     "output_type": "stream",
     "text": [
      "Storage account batchddpytorchst provisioning state: Succeeded\n"
     ]
    }
   ],
   "source": [
    "json_data = !az storage account create -l $LOCATION -n $STORAGE_ACCOUNT_NAME -g $GROUP_NAME --sku Standard_LRS\n",
    "print('Storage account {} provisioning state: {}'.format(STORAGE_ACCOUNT_NAME, \n",
    "                                                         json.loads(''.join(json_data))['provisioningState']))"
   ]
  },
  {
   "cell_type": "code",
   "execution_count": 11,
   "metadata": {},
   "outputs": [],
   "source": [
    "json_data = !az storage account keys list -n $STORAGE_ACCOUNT_NAME -g $GROUP_NAME\n",
    "storage_account_key = json.loads(''.join([i for i in json_data if 'WARNING' not in i]))[0]['value']"
   ]
  },
  {
   "cell_type": "code",
   "execution_count": 12,
   "metadata": {},
   "outputs": [
    {
     "name": "stdout",
     "output_type": "stream",
     "text": [
      "{\r\n",
      "  \"created\": true\r\n",
      "}\r\n"
     ]
    }
   ],
   "source": [
    "!az storage share create --account-name $STORAGE_ACCOUNT_NAME \\\n",
    "--account-key $storage_account_key --name $FILE_SHARE_NAME"
   ]
  },
  {
   "cell_type": "code",
   "execution_count": 13,
   "metadata": {},
   "outputs": [
    {
     "name": "stdout",
     "output_type": "stream",
     "text": [
      "{\r\n",
      "  \"created\": true\r\n",
      "}\r\n"
     ]
    }
   ],
   "source": [
    "!az storage directory create --share-name $FILE_SHARE_NAME  --name scripts \\\n",
    "--account-name $STORAGE_ACCOUNT_NAME --account-key $storage_account_key"
   ]
  },
  {
   "cell_type": "markdown",
   "metadata": {},
   "source": [
    "Here we are setting some defaults so we don't have to keep adding them to every command"
   ]
  },
  {
   "cell_type": "code",
   "execution_count": 14,
   "metadata": {},
   "outputs": [],
   "source": [
    "!az configure --defaults location=$LOCATION\n",
    "!az configure --defaults group=$GROUP_NAME"
   ]
  },
  {
   "cell_type": "code",
   "execution_count": 15,
   "metadata": {},
   "outputs": [
    {
     "name": "stdout",
     "output_type": "stream",
     "text": [
      "env: AZURE_STORAGE_ACCOUNT=batchddpytorchst\n",
      "env: AZURE_STORAGE_KEY=WrYVH6klSlvcccnpbLPD5dBTGuEEhIl9gf+1a3TsLuxo5566hx4NXnkMAm2MVNVxPFqYhuSSgdBhQ0ln4AC6nA==\n"
     ]
    }
   ],
   "source": [
    "%env AZURE_STORAGE_ACCOUNT $STORAGE_ACCOUNT_NAME\n",
    "%env AZURE_STORAGE_KEY=$storage_account_key"
   ]
  },
  {
   "cell_type": "markdown",
   "metadata": {},
   "source": [
    "#### Create Workspace\n",
    "Batch AI has the concept of workspaces and experiments. Below we will create the workspace for our work."
   ]
  },
  {
   "cell_type": "code",
   "execution_count": 33,
   "metadata": {
    "scrolled": true
   },
   "outputs": [
    {
     "name": "stdout",
     "output_type": "stream",
     "text": [
      "{\r\n",
      "  \"creationTime\": \"2018-11-28T10:15:46.868000+00:00\",\r\n",
      "  \"id\": \"/subscriptions/edf507a2-6235-46c5-b560-fd463ba2e771/resourceGroups/batchddpytorchrg/providers/Microsoft.BatchAI/workspaces/workspace\",\r\n",
      "  \"location\": \"eastus\",\r\n",
      "  \"name\": \"workspace\",\r\n",
      "  \"provisioningState\": \"succeeded\",\r\n",
      "  \"provisioningStateTransitionTime\": \"2018-11-28T10:15:46.868000+00:00\",\r\n",
      "  \"resourceGroup\": \"batchddpytorchrg\",\r\n",
      "  \"tags\": null,\r\n",
      "  \"type\": \"Microsoft.BatchAI/workspaces\"\r\n",
      "}\r\n"
     ]
    }
   ],
   "source": [
    "!az batchai workspace create -n $WORKSPACE -g $GROUP_NAME"
   ]
  },
  {
   "cell_type": "markdown",
   "metadata": {},
   "source": [
    "<a id='upload_data'></a>\n",
    "## Upload Data to Blob (Optional)\n",
    "In this section we will create a blob container and upload the imagenet data we prepared locally in the previous notebook."
   ]
  },
  {
   "cell_type": "code",
   "execution_count": 16,
   "metadata": {},
   "outputs": [
    {
     "name": "stdout",
     "output_type": "stream",
     "text": [
      "{\r\n",
      "  \"created\": true\r\n",
      "}\r\n"
     ]
    }
   ],
   "source": [
    "!az storage container create --account-name {STORAGE_ACCOUNT_NAME} \\\n",
    "                             --account-key {storage_account_key} \\\n",
    "                             --name {CONTAINER_NAME}"
   ]
  },
  {
   "cell_type": "code",
   "execution_count": 20,
   "metadata": {
    "scrolled": true
   },
   "outputs": [
    {
     "name": "stdout",
     "output_type": "stream",
     "text": [
      "\u001b[?1h\u001b=\u001b[6nFinished: 0 file(s), 0 B; Average Speed:0 B/s.                                 \u001b[6n\u001b[1;1H\u001b[6nFinished: 0 file(s), 0 B; Average Speed:0 B/s.                                 \u001b[6n\u001b[1;1H\u001b[6nFinished: 0 file(s), 0 B; Average Speed:0 B/s.                                 \u001b[6n\u001b[1;1H\u001b[6nFinished: 0 file(s), 0 B; Average Speed:0 B/s.                                 \u001b[6n\u001b[1;1H\u001b[6nFinished: 0 file(s), 4 MB; Average Speed:428.89 KB/s.                          \u001b[6n\u001b[1;1H\u001b[6nFinished: 0 file(s), 148 MB; Average Speed:12.78 MB/s.                         \u001b[6n\u001b[1;1H\u001b[6nFinished: 0 file(s), 504 MB; Average Speed:36.97 MB/s.                         \u001b[6n\u001b[1;1H\u001b[6nFinished: 0 file(s), 596 MB; Average Speed:38.01 MB/s.                         \u001b[6n\u001b[1;1H\u001b[6nFinished: 0 file(s), 832 MB; Average Speed:46.93 MB/s.                         \u001b[6n\u001b[1;1H\u001b[6nFinished: 0 file(s), 1.098 GB; Average Speed:56.84 MB/s.                       \u001b[6n\u001b[1;1H\u001b[6nFinished: 0 file(s), 1.102 GB; Average Speed:51.69 MB/s.                       \u001b[6n\u001b[1;1H\u001b[6nFinished: 0 file(s), 1.602 GB; Average Speed:68.7 MB/s.                        \u001b[6n\u001b[1;1H\u001b[6nFinished: 0 file(s), 2.016 GB; Average Speed:79.63 MB/s.                       \u001b[6n\u001b[1;1H\u001b[6nFinished: 0 file(s), 2.02 GB; Average Speed:73.94 MB/s.                        \u001b[6n\u001b[1;1H\u001b[6nFinished: 0 file(s), 2.379 GB; Average Speed:81.16 MB/s.                       \u001b[6n\u001b[1;1H\u001b[6nFinished: 0 file(s), 2.383 GB; Average Speed:74.49 MB/s.                       \u001b[6n\u001b[1;1H\u001b[6nFinished: 0 file(s), 2.426 GB; Average Speed:71.41 MB/s.                       \u001b[6n\u001b[1;1H\u001b[6nFinished: 0 file(s), 2.43 GB; Average Speed:55.02 MB/s.                        \u001b[6n\u001b[1;1H\u001b[6nFinished: 0 file(s), 2.563 GB; Average Speed:55.52 MB/s.                       \u001b[6n\u001b[1;1H\u001b[6nFinished: 0 file(s), 2.617 GB; Average Speed:54.35 MB/s.                       \u001b[6n\u001b[1;1H\u001b[6nFinished: 0 file(s), 3.035 GB; Average Speed:60.51 MB/s.                       \u001b[6n\u001b[1;1H\u001b[6nFinished: 0 file(s), 3.352 GB; Average Speed:64.26 MB/s.                       \u001b[6n\u001b[1;1H\u001b[6nFinished: 0 file(s), 3.391 GB; Average Speed:62.61 MB/s.                       \u001b[6n\u001b[1;1H\u001b[6nFinished: 0 file(s), 3.641 GB; Average Speed:64.83 MB/s.                       \u001b[6n\u001b[1;1H\u001b[6nFinished: 0 file(s), 3.727 GB; Average Speed:64.08 MB/s.                       \u001b[6n\u001b[1;1H\u001b[6nFinished: 0 file(s), 3.922 GB; Average Speed:65.2 MB/s.                        \u001b[6n\u001b[1;1H\u001b[6nFinished: 0 file(s), 4.098 GB; Average Speed:65.93 MB/s.                       \u001b[6n\u001b[1;1H\u001b[6nFinished: 0 file(s), 4.598 GB; Average Speed:71.66 MB/s.                       \u001b[6n\u001b[1;1H\u001b[6nFinished: 0 file(s), 4.879 GB; Average Speed:73.75 MB/s.                       \u001b[6n\u001b[1;1H\u001b[6nFinished: 0 file(s), 5.211 GB; Average Speed:76.46 MB/s.                       \u001b[6n\u001b[1;1H\u001b[6nFinished: 0 file(s), 5.344 GB; Average Speed:76.17 MB/s.                       \u001b[6n\u001b[1;1H\u001b[6nFinished: 0 file(s), 5.348 GB; Average Speed:65.26 MB/s.                       \u001b[6n\u001b[1;1H\u001b[6nFinished: 0 file(s), 5.508 GB; Average Speed:65.62 MB/s.                       \u001b[6n\u001b[1;1H\u001b[6nFinished: 0 file(s), 5.953 GB; Average Speed:69.27 MB/s.                       \u001b[6n\u001b[1;1H\u001b[6nFinished: 0 file(s), 5.957 GB; Average Speed:67.74 MB/s.                       \u001b[6n\u001b[1;1H\u001b[6nFinished: 0 file(s), 5.961 GB; Average Speed:61.33 MB/s.                       \u001b[6n\u001b[1;1H\u001b[6nFinished: 0 file(s), 6.168 GB; Average Speed:62.19 MB/s.                       \u001b[6n\u001b[1;1H\u001b[6nFinished: 0 file(s), 6.172 GB; Average Speed:60.99 MB/s.                       \u001b[6n\u001b[1;1H\u001b[6nFinished: 0 file(s), 6.492 GB; Average Speed:62.92 MB/s.                       \u001b[6n\u001b[1;1H\u001b[6nFinished: 0 file(s), 6.906 GB; Average Speed:65.66 MB/s.                       \u001b[6n\u001b[1;1H\u001b[6nFinished: 0 file(s), 7.387 GB; Average Speed:68.91 MB/s.                       \u001b[6n\u001b[1;1H\u001b[6nFinished: 0 file(s), 7.398 GB; Average Speed:67.76 MB/s.                       \u001b[6n\u001b[1;1H\u001b[6nFinished: 0 file(s), 7.773 GB; Average Speed:69.91 MB/s.                       \u001b[6n\u001b[1;1H\u001b[6nFinished: 0 file(s), 7.777 GB; Average Speed:68.59 MB/s.                       \u001b[6n\u001b[1;1H\u001b[6nFinished: 0 file(s), 8.211 GB; Average Speed:71.17 MB/s.                       \u001b[6n\u001b[1;1H\u001b[6nFinished: 0 file(s), 8.461 GB; Average Speed:72.08 MB/s.                       \u001b[6n\u001b[1;1H\u001b[6nFinished: 0 file(s), 8.715 GB; Average Speed:73 MB/s.                          \u001b[6n\u001b[1;1H\u001b[6nFinished: 0 file(s), 9.047 GB; Average Speed:74.54 MB/s.                       \u001b[6n\u001b[1;1H\u001b[6nFinished: 0 file(s), 9.289 GB; Average Speed:75.29 MB/s.                       \u001b[6n\u001b[1;1H\u001b[6nFinished: 0 file(s), 9.629 GB; Average Speed:76.8 MB/s.                        \u001b[6n\u001b[1;1H\u001b[6nFinished: 0 file(s), 10.113 GB; Average Speed:79.4 MB/s.                       \u001b[6n\u001b[1;1H\u001b[6nFinished: 0 file(s), 10.27 GB; Average Speed:79.38 MB/s.                       \u001b[6n\u001b[1;1H\u001b[6nFinished: 0 file(s), 10.535 GB; Average Speed:80.19 MB/s.                      \u001b[6n\u001b[1;1H\u001b[6nFinished: 0 file(s), 10.828 GB; Average Speed:81.19 MB/s.                      \u001b[6n\u001b[1;1H\u001b[6nFinished: 0 file(s), 11.27 GB; Average Speed:83.24 MB/s.                       \u001b[6n\u001b[1;1H\u001b[6nFinished: 0 file(s), 11.387 GB; Average Speed:82.89 MB/s.                      \u001b[6n\u001b[1;1H\u001b[6nFinished: 0 file(s), 11.512 GB; Average Speed:82.6 MB/s.                       \u001b[6n\u001b[1;1H\u001b[6nFinished: 0 file(s), 11.785 GB; Average Speed:83.36 MB/s.                      \u001b[6n\u001b[1;1H\u001b[6nFinished: 0 file(s), 12.051 GB; Average Speed:84.05 MB/s.                      \u001b[6n\u001b[1;1H\u001b[6nFinished: 0 file(s), 12.355 GB; Average Speed:84.99 MB/s.                      \u001b[6n\u001b[1;1H\u001b[6nFinished: 0 file(s), 12.711 GB; Average Speed:86.25 MB/s.                      \u001b[6n\u001b[1;1H\u001b[6nFinished: 0 file(s), 13.195 GB; Average Speed:88.34 MB/s.                      \u001b[6n\u001b[1;1H\u001b[6nFinished: 0 file(s), 13.383 GB; Average Speed:88.41 MB/s.                      \u001b[6n\u001b[1;1H\u001b[6nFinished: 0 file(s), 13.621 GB; Average Speed:88.81 MB/s.                      \u001b[6n\u001b[1;1H\u001b[6nFinished: 0 file(s), 14.113 GB; Average Speed:90.83 MB/s.                      \u001b[6n\u001b[1;1H\u001b[6nFinished: 0 file(s), 14.492 GB; Average Speed:92.09 MB/s.                      \u001b[6n\u001b[1;1H\u001b[6nFinished: 0 file(s), 14.578 GB; Average Speed:91.47 MB/s.                      \u001b[6n\u001b[1;1H\u001b[6nFinished: 0 file(s), 15.004 GB; Average Speed:92.98 MB/s.                      \u001b[6n\u001b[1;1H\u001b[6nFinished: 0 file(s), 15.383 GB; Average Speed:94.16 MB/s.                      \u001b[6n\u001b[1;1H\u001b[6nFinished: 0 file(s), 15.66 GB; Average Speed:94.7 MB/s.                        \u001b[6n\u001b[1;1H\u001b[6nFinished: 0 file(s), 16.074 GB; Average Speed:96.04 MB/s.                      \u001b[6n\u001b[1;1H\u001b[6nFinished: 0 file(s), 16.109 GB; Average Speed:95.11 MB/s.                      \u001b[6n\u001b[1;1H\u001b[6nFinished: 0 file(s), 16.57 GB; Average Speed:96.69 MB/s.                       \u001b[6n\u001b[1;1H\u001b[6nFinished: 0 file(s), 16.922 GB; Average Speed:97.6 MB/s.                       \u001b[6n\u001b[1;1H\u001b[6nFinished: 0 file(s), 17.375 GB; Average Speed:99.07 MB/s.                      \u001b[6n\u001b[1;1H\u001b[6nFinished: 0 file(s), 17.734 GB; Average Speed:99.98 MB/s.                      \u001b[6n\u001b[1;1H\u001b[6nFinished: 0 file(s), 17.906 GB; Average Speed:99.83 MB/s.                      \u001b[6n\u001b[1;1H\u001b[6nFinished: 0 file(s), 18.246 GB; Average Speed:100.6 MB/s.                      \u001b[6n\u001b[1;1H\u001b[6nFinished: 0 file(s), 18.594 GB; Average Speed:101.4 MB/s.                      \u001b[6n\u001b[1;1H\u001b[6nFinished: 0 file(s), 18.906 GB; Average Speed:101.99 MB/s.                     \u001b[6n\u001b[1;1H\u001b[6nFinished: 0 file(s), 19.277 GB; Average Speed:102.88 MB/s.                     \u001b[6n\u001b[1;1H\u001b[6nFinished: 0 file(s), 19.293 GB; Average Speed:101.88 MB/s.                     \u001b[6n\u001b[1;1H\u001b[6nFinished: 0 file(s), 19.766 GB; Average Speed:103.28 MB/s.                     \u001b[6n\u001b[1;1H\u001b[6nFinished: 0 file(s), 20.008 GB; Average Speed:103.47 MB/s.                     \u001b[6n\u001b[1;1H\u001b[6nFinished: 0 file(s), 20.484 GB; Average Speed:104.85 MB/s.                     \u001b[6n\u001b[1;1H\u001b[6nFinished: 0 file(s), 20.934 GB; Average Speed:106.06 MB/s.                     \u001b[6n\u001b[1;1H\u001b[6nFinished: 0 file(s), 20.945 GB; Average Speed:105.06 MB/s.                     \u001b[6n\u001b[1;1H\u001b[6nFinished: 0 file(s), 21.422 GB; Average Speed:106.38 MB/s.                     \u001b[6n\u001b[1;1H\u001b[6n"
     ]
    },
    {
     "name": "stdout",
     "output_type": "stream",
     "text": [
      "Finished: 0 file(s), 21.426 GB; Average Speed:105.35 MB/s.                     \u001b[6n\u001b[1;1H\u001b[6nFinished: 0 file(s), 21.813 GB; Average Speed:106.21 MB/s.                     \u001b[6n\u001b[1;1H\u001b[6nFinished: 0 file(s), 22.02 GB; Average Speed:106.18 MB/s.                      \u001b[6n\u001b[1;1H\u001b[6nFinished: 0 file(s), 22.301 GB; Average Speed:106.51 MB/s.                     \u001b[6n\u001b[1;1H\u001b[6nFinished: 0 file(s), 22.641 GB; Average Speed:107.11 MB/s.                     \u001b[6n\u001b[1;1H\u001b[6nFinished: 0 file(s), 22.867 GB; Average Speed:107.17 MB/s.                     \u001b[6n\u001b[1;1H\u001b[6nFinished: 0 file(s), 22.914 GB; Average Speed:106.39 MB/s.                     \u001b[6n\u001b[1;1H\u001b[6nFinished: 0 file(s), 23.395 GB; Average Speed:107.62 MB/s.                     \u001b[6n\u001b[1;1H\u001b[6nFinished: 0 file(s), 23.754 GB; Average Speed:108.28 MB/s.                     \u001b[6n\u001b[1;1H\u001b[6nFinished: 0 file(s), 24.152 GB; Average Speed:109.1 MB/s.                      \u001b[6n\u001b[1;1H\u001b[6nFinished: 0 file(s), 24.645 GB; Average Speed:110.33 MB/s.                     \u001b[6n\u001b[1;1H\u001b[6nFinished: 0 file(s), 24.648 GB; Average Speed:109.37 MB/s.                     \u001b[6n\u001b[1;1H\u001b[6nFinished: 0 file(s), 24.996 GB; Average Speed:109.93 MB/s.                     \u001b[6n\u001b[1;1H\u001b[6nFinished: 0 file(s), 25.305 GB; Average Speed:110.32 MB/s.                     \u001b[6n\u001b[1;1H\u001b[6nFinished: 0 file(s), 25.582 GB; Average Speed:110.57 MB/s.                     \u001b[6n\u001b[1;1H\u001b[6nFinished: 0 file(s), 25.754 GB; Average Speed:110.35 MB/s.                     \u001b[6n\u001b[1;1H\u001b[6nFinished: 0 file(s), 26.188 GB; Average Speed:111.26 MB/s.                     \u001b[6n\u001b[1;1H\u001b[6nFinished: 0 file(s), 26.5 GB; Average Speed:111.64 MB/s.                       \u001b[6n\u001b[1;1H\u001b[6nFinished: 0 file(s), 26.594 GB; Average Speed:111.1 MB/s.                      \u001b[6n\u001b[1;1H\u001b[6nFinished: 0 file(s), 26.91 GB; Average Speed:111.49 MB/s.                      \u001b[6n\u001b[1;1H\u001b[6nFinished: 0 file(s), 27.352 GB; Average Speed:112.38 MB/s.                     \u001b[6n\u001b[1;1H\u001b[6nFinished: 0 file(s), 27.426 GB; Average Speed:111.77 MB/s.                     \u001b[6n\u001b[1;1H\u001b[6nFinished: 0 file(s), 27.703 GB; Average Speed:111.99 MB/s.                     \u001b[6n\u001b[1;1H\u001b[6nFinished: 0 file(s), 28.215 GB; Average Speed:113.14 MB/s.                     \u001b[6n\u001b[1;1H\u001b[6nFinished: 0 file(s), 28.219 GB; Average Speed:112.12 MB/s.                     \u001b[6n\u001b[1;1H\u001b[6nFinished: 0 file(s), 28.438 GB; Average Speed:112.11 MB/s.                     \u001b[6n\u001b[1;1H\u001b[6nFinished: 0 file(s), 28.777 GB; Average Speed:112.56 MB/s.                     \u001b[6n\u001b[1;1H\u001b[6nFinished: 0 file(s), 28.984 GB; Average Speed:112.49 MB/s.                     \u001b[6n\u001b[1;1H\u001b[6nFinished: 0 file(s), 29.262 GB; Average Speed:112.69 MB/s.                     \u001b[6n\u001b[1;1H\u001b[6nFinished: 0 file(s), 29.266 GB; Average Speed:111.75 MB/s.                     \u001b[6n\u001b[1;1H\u001b[6nFinished: 0 file(s), 29.805 GB; Average Speed:112.95 MB/s.                     \u001b[6n\u001b[1;1H\u001b[6nFinished: 0 file(s), 30.086 GB; Average Speed:113.16 MB/s.                     \u001b[6n\u001b[1;1H\u001b[6nFinished: 0 file(s), 30.574 GB; Average Speed:114.14 MB/s.                     \u001b[6n\u001b[1;1H\u001b[6nFinished: 0 file(s), 30.602 GB; Average Speed:113.39 MB/s.                     \u001b[6n\u001b[1;1H\u001b[6nFinished: 0 file(s), 30.977 GB; Average Speed:113.94 MB/s.                     \u001b[6n\u001b[1;1H\u001b[6nFinished: 0 file(s), 31.109 GB; Average Speed:113.59 MB/s.                     \u001b[6n\u001b[1;1H\u001b[6nFinished: 0 file(s), 31.461 GB; Average Speed:114.04 MB/s.                     \u001b[6n\u001b[1;1H\u001b[6nFinished: 0 file(s), 31.918 GB; Average Speed:114.86 MB/s.                     \u001b[6n\u001b[1;1H\u001b[6nFinished: 0 file(s), 31.922 GB; Average Speed:114.06 MB/s.                     \u001b[6n\u001b[1;1H\u001b[6nFinished: 0 file(s), 32.371 GB; Average Speed:114.84 MB/s.                     \u001b[6n\u001b[1;1H\u001b[6nFinished: 0 file(s), 32.375 GB; Average Speed:114.03 MB/s.                     \u001b[6n\u001b[1;1H\u001b[6nFinished: 0 file(s), 32.727 GB; Average Speed:114.47 MB/s.                     \u001b[6n\u001b[1;1H\u001b[6nFinished: 0 file(s), 33.023 GB; Average Speed:114.7 MB/s.                      \u001b[6n\u001b[1;1H\u001b[6nFinished: 0 file(s), 33.086 GB; Average Speed:114.13 MB/s.                     \u001b[6n\u001b[1;1H\u001b[6nFinished: 0 file(s), 33.457 GB; Average Speed:114.62 MB/s.                     \u001b[6n\u001b[1;1H\u001b[6nFinished: 0 file(s), 33.77 GB; Average Speed:114.9 MB/s.                       \u001b[6n\u001b[1;1H\u001b[6nFinished: 0 file(s), 33.773 GB; Average Speed:110.05 MB/s.                     \u001b[6n\u001b[1;1H\u001b[6nFinished: 0 file(s), 34.047 GB; Average Speed:110.22 MB/s.                     \u001b[6n\u001b[1;1H\u001b[6nFinished: 0 file(s), 34.086 GB; Average Speed:109.63 MB/s.                     \u001b[6n\u001b[1;1H\u001b[6nFinished: 0 file(s), 34.273 GB; Average Speed:109.53 MB/s.                     \u001b[6n\u001b[1;1H\u001b[6nFinished: 0 file(s), 34.605 GB; Average Speed:109.89 MB/s.                     \u001b[6n\u001b[1;1H\u001b[6nFinished: 0 file(s), 34.914 GB; Average Speed:110.17 MB/s.                     \u001b[6n\u001b[1;1H\u001b[6nFinished: 0 file(s), 35.355 GB; Average Speed:110.86 MB/s.                     \u001b[6n\u001b[1;1H\u001b[6nFinished: 0 file(s), 35.438 GB; Average Speed:110.43 MB/s.                     \u001b[6n\u001b[1;1H\u001b[6nFinished: 0 file(s), 35.965 GB; Average Speed:111.38 MB/s.                     \u001b[6n\u001b[1;1H\u001b[6nFinished: 0 file(s), 36.281 GB; Average Speed:111.67 MB/s.                     \u001b[6n\u001b[1;1H\u001b[6nFinished: 0 file(s), 36.508 GB; Average Speed:111.68 MB/s.                     \u001b[6n\u001b[1;1H\u001b[6nFinished: 0 file(s), 36.801 GB; Average Speed:111.89 MB/s.                     \u001b[6n\u001b[1;1H\u001b[6nFinished: 0 file(s), 37.184 GB; Average Speed:112.37 MB/s.                     \u001b[6n\u001b[1;1H\u001b[6nFinished: 0 file(s), 37.438 GB; Average Speed:112.46 MB/s.                     \u001b[6n\u001b[1;1H\u001b[6nFinished: 0 file(s), 37.441 GB; Average Speed:111.68 MB/s.                     \u001b[6n\u001b[1;1H\u001b[6nFinished: 0 file(s), 37.992 GB; Average Speed:112.65 MB/s.                     \u001b[6n\u001b[1;1H\u001b[6nFinished: 0 file(s), 38.262 GB; Average Speed:112.78 MB/s.                     \u001b[6n\u001b[1;1H\u001b[6nFinished: 0 file(s), 38.297 GB; Average Speed:112.23 MB/s.                     \u001b[6n\u001b[1;1H\u001b[6nFinished: 0 file(s), 38.75 GB; Average Speed:112.89 MB/s.                      \u001b[6n\u001b[1;1H\u001b[6nFinished: 0 file(s), 38.941 GB; Average Speed:112.79 MB/s.                     \u001b[6n\u001b[1;1H\u001b[6nFinished: 0 file(s), 39.141 GB; Average Speed:112.72 MB/s.                     \u001b[6n\u001b[1;1H\u001b[6nFinished: 0 file(s), 39.492 GB; Average Speed:113.08 MB/s.                     \u001b[6n\u001b[1;1H\u001b[6nFinished: 0 file(s), 39.965 GB; Average Speed:113.78 MB/s.                     \u001b[6n\u001b[1;1H\u001b[6nFinished: 0 file(s), 39.969 GB; Average Speed:113.15 MB/s.                     \u001b[6n\u001b[1;1H\u001b[6nFinished: 0 file(s), 40.191 GB; Average Speed:113.13 MB/s.                     \u001b[6n\u001b[1;1H\u001b[6nFinished: 0 file(s), 40.617 GB; Average Speed:113.69 MB/s.                     \u001b[6n\u001b[1;1H\u001b[6nFinished: 0 file(s), 40.645 GB; Average Speed:113.14 MB/s.                     \u001b[6n\u001b[1;1H\u001b[6nFinished: 0 file(s), 40.984 GB; Average Speed:113.45 MB/s.                     \u001b[6n\u001b[1;1H\u001b[6nFinished: 0 file(s), 41.371 GB; Average Speed:113.89 MB/s.                     \u001b[6n\u001b[1;1H\u001b[6nFinished: 0 file(s), 41.645 GB; Average Speed:114.02 MB/s.                     \u001b[6n\u001b[1;1H\u001b[6nFinished: 0 file(s), 41.875 GB; Average Speed:114.02 MB/s.                     \u001b[6n\u001b[1;1H\u001b[6nFinished: 0 file(s), 42.215 GB; Average Speed:114.33 MB/s.                     \u001b[6n\u001b[1;1H\u001b[6nFinished: 0 file(s), 42.512 GB; Average Speed:114.51 MB/s.                     \u001b[6n\u001b[1;1H\u001b[6nFinished: 0 file(s), 42.977 GB; Average Speed:115.14 MB/s.                     \u001b[6n\u001b[1;1H\u001b[6nFinished: 0 file(s), 43.32 GB; Average Speed:115.44 MB/s.                      \u001b[6n\u001b[1;1H\u001b[6nFinished: 0 file(s), 43.68 GB; Average Speed:115.78 MB/s.                      \u001b[6n\u001b[1;1H\u001b[6nFinished: 0 file(s), 43.805 GB; Average Speed:115.5 MB/s.                      \u001b[6n\u001b[1;1H\u001b[6nFinished: 0 file(s), 44.188 GB; Average Speed:115.9 MB/s.                      \u001b[6n\u001b[1;1H\u001b[6nFinished: 0 file(s), 44.563 GB; Average Speed:116.28 MB/s.                     \u001b[6n\u001b[1;1H\u001b[6nFinished: 0 file(s), 45.113 GB; Average Speed:117.1 MB/s.                      \u001b[6n\u001b[1;1H\u001b[6nFinished: 0 file(s), 45.57 GB; Average Speed:117.68 MB/s.                      \u001b[6n\u001b[1;1H\u001b[6nFinished: 0 file(s), 45.617 GB; Average Speed:117.19 MB/s.                     \u001b[6n\u001b[1;1H\u001b[6nFinished: 0 file(s), 46.125 GB; Average Speed:117.89 MB/s.                     \u001b[6n"
     ]
    },
    {
     "name": "stdout",
     "output_type": "stream",
     "text": [
      "\u001b[1;1H\u001b[6nFinished: 0 file(s), 46.543 GB; Average Speed:118.35 MB/s.                     \u001b[6n\u001b[1;1H\u001b[6nFinished: 0 file(s), 46.91 GB; Average Speed:118.68 MB/s.                      \u001b[6n\u001b[1;1H\u001b[6nFinished: 0 file(s), 47.477 GB; Average Speed:119.51 MB/s.                     \u001b[6n\u001b[1;1H\u001b[6nFinished: 0 file(s), 47.832 GB; Average Speed:119.8 MB/s.                      \u001b[6n\u001b[1;1H\u001b[6nFinished: 0 file(s), 48.223 GB; Average Speed:120.18 MB/s.                     \u001b[6n\u001b[1;1H\u001b[6nFinished: 0 file(s), 48.668 GB; Average Speed:120.69 MB/s.                     \u001b[6n\u001b[1;1H\u001b[6nFinished: 0 file(s), 49.051 GB; Average Speed:121.04 MB/s.                     \u001b[6n\u001b[1;1H\u001b[6nFinished: 0 file(s), 49.32 GB; Average Speed:121.11 MB/s.                      \u001b[6n\u001b[1;1H\u001b[6nFinished: 0 file(s), 49.762 GB; Average Speed:121.59 MB/s.                     \u001b[6n\u001b[1;1H\u001b[6nFinished: 0 file(s), 49.902 GB; Average Speed:121.34 MB/s.                     \u001b[6n\u001b[1;1H\u001b[6nFinished: 0 file(s), 50.336 GB; Average Speed:121.81 MB/s.                     \u001b[6n\u001b[1;1H\u001b[6nFinished: 0 file(s), 50.695 GB; Average Speed:122.08 MB/s.                     \u001b[6n\u001b[1;1H\u001b[6nFinished: 0 file(s), 51.035 GB; Average Speed:122.31 MB/s.                     \u001b[6n\u001b[1;1H\u001b[6nFinished: 0 file(s), 51.504 GB; Average Speed:122.85 MB/s.                     \u001b[6n\u001b[1;1H\u001b[6nFinished: 0 file(s), 51.508 GB; Average Speed:122.27 MB/s.                     \u001b[6n\u001b[1;1H\u001b[6nFinished: 0 file(s), 51.973 GB; Average Speed:122.79 MB/s.                     \u001b[6n\u001b[1;1H\u001b[6nFinished: 0 file(s), 52.418 GB; Average Speed:123.26 MB/s.                     \u001b[6n\u001b[1;1H\u001b[6nFinished: 0 file(s), 52.426 GB; Average Speed:122.71 MB/s.                     \u001b[6n\u001b[1;1H\u001b[6nFinished: 0 file(s), 52.934 GB; Average Speed:123.32 MB/s.                     \u001b[6n\u001b[1;1H\u001b[6nFinished: 0 file(s), 52.949 GB; Average Speed:122.78 MB/s.                     \u001b[6n\u001b[1;1H\u001b[6nFinished: 0 file(s), 53.441 GB; Average Speed:123.35 MB/s.                     \u001b[6n\u001b[1;1H\u001b[6nFinished: 0 file(s), 53.855 GB; Average Speed:123.73 MB/s.                     \u001b[6n\u001b[1;1H\u001b[6nFinished: 0 file(s), 54.297 GB; Average Speed:124.18 MB/s.                     \u001b[6n\u001b[1;1H\u001b[6nFinished: 0 file(s), 54.75 GB; Average Speed:124.64 MB/s.                      \u001b[6n\u001b[1;1H\u001b[6nFinished: 0 file(s), 55.34 GB; Average Speed:125.42 MB/s.                      \u001b[6n\u001b[1;1H\u001b[6nFinished: 0 file(s), 55.555 GB; Average Speed:125.33 MB/s.                     \u001b[6n\u001b[1;1H\u001b[6nFinished: 0 file(s), 55.824 GB; Average Speed:125.38 MB/s.                     \u001b[6n\u001b[1;1H\u001b[6nFinished: 0 file(s), 56.359 GB; Average Speed:126.01 MB/s.                     \u001b[6n\u001b[1;1H\u001b[6nFinished: 0 file(s), 56.625 GB; Average Speed:126.04 MB/s.                     \u001b[6n\u001b[1;1H\u001b[6nFinished: 0 file(s), 56.719 GB; Average Speed:125.69 MB/s.                     \u001b[6n\u001b[1;1H\u001b[6nFinished: 0 file(s), 57.09 GB; Average Speed:125.96 MB/s.                      \u001b[6n\u001b[1;1H\u001b[6nFinished: 0 file(s), 57.395 GB; Average Speed:126.07 MB/s.                     \u001b[6n\u001b[1;1H\u001b[6nFinished: 0 file(s), 57.715 GB; Average Speed:126.22 MB/s.                     \u001b[6n\u001b[1;1H\u001b[6nFinished: 0 file(s), 58.027 GB; Average Speed:126.35 MB/s.                     \u001b[6n\u001b[1;1H\u001b[6nFinished: 0 file(s), 58.098 GB; Average Speed:125.96 MB/s.                     \u001b[6n\u001b[1;1H\u001b[6nFinished: 0 file(s), 58.582 GB; Average Speed:126.46 MB/s.                     \u001b[6n\u001b[1;1H\u001b[6nFinished: 0 file(s), 58.586 GB; Average Speed:125.91 MB/s.                     \u001b[6n\u001b[1;1H\u001b[6nFinished: 0 file(s), 58.902 GB; Average Speed:126.05 MB/s.                     \u001b[6n\u001b[1;1H\u001b[6nFinished: 0 file(s), 58.906 GB; Average Speed:125.52 MB/s.                     \u001b[6n\u001b[1;1H\u001b[6nFinished: 0 file(s), 59.227 GB; Average Speed:125.67 MB/s.                     \u001b[6n\u001b[1;1H\u001b[6nFinished: 0 file(s), 59.266 GB; Average Speed:125.22 MB/s.                     \u001b[6n\u001b[1;1H\u001b[6nFinished: 0 file(s), 59.715 GB; Average Speed:125.64 MB/s.                     \u001b[6n\u001b[1;1H\u001b[6nFinished: 0 file(s), 59.719 GB; Average Speed:125.05 MB/s.                     \u001b[6n\u001b[1;1H\u001b[6nFinished: 0 file(s), 60.059 GB; Average Speed:125.24 MB/s.                     \u001b[6n\u001b[1;1H\u001b[6nFinished: 0 file(s), 60.367 GB; Average Speed:125.37 MB/s.                     \u001b[6n\u001b[1;1H\u001b[6nFinished: 0 file(s), 60.688 GB; Average Speed:125.51 MB/s.                     \u001b[6n\u001b[1;1H\u001b[6nFinished: 0 file(s), 61.113 GB; Average Speed:125.87 MB/s.                     \u001b[6n\u001b[1;1H\u001b[6nFinished: 0 file(s), 61.207 GB; Average Speed:125.54 MB/s.                     \u001b[6n\u001b[1;1H\u001b[6nFinished: 0 file(s), 61.313 GB; Average Speed:125.25 MB/s.                     \u001b[6n\u001b[1;1H\u001b[6nFinished: 0 file(s), 61.691 GB; Average Speed:125.51 MB/s.                     \u001b[6n\u001b[1;1H\u001b[6nFinished: 0 file(s), 62.051 GB; Average Speed:125.73 MB/s.                     \u001b[6n\u001b[1;1H\u001b[6nFinished: 0 file(s), 62.055 GB; Average Speed:125.23 MB/s.                     \u001b[6n\u001b[1;1H\u001b[6nFinished: 0 file(s), 62.266 GB; Average Speed:125.15 MB/s.                     \u001b[6n\u001b[1;1H\u001b[6nFinished: 0 file(s), 62.508 GB; Average Speed:125.13 MB/s.                     \u001b[6n\u001b[1;1H\u001b[6nFinished: 0 file(s), 62.965 GB; Average Speed:125.55 MB/s.                     \u001b[6n\u001b[1;1H\u001b[6nFinished: 0 file(s), 62.992 GB; Average Speed:125.1 MB/s.                      \u001b[6n\u001b[1;1H\u001b[6nFinished: 0 file(s), 63.391 GB; Average Speed:125.39 MB/s.                     \u001b[6n\u001b[1;1H\u001b[6nFinished: 0 file(s), 63.82 GB; Average Speed:125.75 MB/s.                      \u001b[6n\u001b[1;1H\u001b[6nFinished: 0 file(s), 64.07 GB; Average Speed:125.74 MB/s.                      \u001b[6n\u001b[1;1H\u001b[6nFinished: 0 file(s), 64.434 GB; Average Speed:125.96 MB/s.                     \u001b[6n\u001b[1;1H\u001b[6nFinished: 0 file(s), 64.867 GB; Average Speed:126.32 MB/s.                     \u001b[6n\u001b[1;1H\u001b[6nFinished: 0 file(s), 65.082 GB; Average Speed:126.24 MB/s.                     \u001b[6n\u001b[1;1H\u001b[6nFinished: 0 file(s), 65.219 GB; Average Speed:126.02 MB/s.                     \u001b[6n\u001b[1;1H\u001b[6nFinished: 0 file(s), 65.629 GB; Average Speed:126.32 MB/s.                     \u001b[6n\u001b[1;1H\u001b[6nFinished: 0 file(s), 65.859 GB; Average Speed:126.28 MB/s.                     \u001b[6n\u001b[1;1H\u001b[6nFinished: 0 file(s), 66.176 GB; Average Speed:126.4 MB/s.                      \u001b[6n\u001b[1;1H\u001b[6nFinished: 0 file(s), 66.336 GB; Average Speed:126.23 MB/s.                     \u001b[6n\u001b[1;1H\u001b[6nFinished: 0 file(s), 66.617 GB; Average Speed:126.28 MB/s.                     \u001b[6n\u001b[1;1H\u001b[6nFinished: 0 file(s), 66.965 GB; Average Speed:126.46 MB/s.                     \u001b[6n\u001b[1;1H\u001b[6nFinished: 0 file(s), 67.301 GB; Average Speed:126.62 MB/s.                     \u001b[6n\u001b[1;1H\u001b[6nFinished: 0 file(s), 67.363 GB; Average Speed:126.26 MB/s.                     \u001b[6n\u001b[1;1H\u001b[6nFinished: 0 file(s), 67.699 GB; Average Speed:126.42 MB/s.                     \u001b[6n\u001b[1;1H\u001b[6nFinished: 0 file(s), 68.125 GB; Average Speed:126.74 MB/s.                     \u001b[6n\u001b[1;1H\u001b[6nFinished: 0 file(s), 68.27 GB; Average Speed:126.54 MB/s.                      \u001b[6n\u001b[1;1H\u001b[6nFinished: 0 file(s), 68.715 GB; Average Speed:126.89 MB/s.                     \u001b[6n\u001b[1;1H\u001b[6nFinished: 0 file(s), 68.719 GB; Average Speed:126.33 MB/s.                     \u001b[6n\u001b[1;1H\u001b[6nFinished: 0 file(s), 69.172 GB; Average Speed:126.7 MB/s.                      \u001b[6n\u001b[1;1H\u001b[6nFinished: 0 file(s), 69.313 GB; Average Speed:126.5 MB/s.                      \u001b[6n\u001b[1;1H\u001b[6nFinished: 0 file(s), 69.379 GB; Average Speed:126.16 MB/s.                     \u001b[6n\u001b[1;1H\u001b[6nFinished: 0 file(s), 69.766 GB; Average Speed:126.4 MB/s.                      \u001b[6n\u001b[1;1H\u001b[6nFinished: 0 file(s), 70.117 GB; Average Speed:126.58 MB/s.                     \u001b[6n\u001b[1;1H\u001b[6nFinished: 0 file(s), 70.121 GB; Average Speed:126.04 MB/s.                     \u001b[6n\u001b[1;1H\u001b[6nFinished: 0 file(s), 70.609 GB; Average Speed:126.46 MB/s.                     \u001b[6n\u001b[1;1H\u001b[6nFinished: 0 file(s), 70.84 GB; Average Speed:126.42 MB/s.                      \u001b[6n\u001b[1;1H\u001b[6nFinished: 0 file(s), 70.895 GB; Average Speed:126.07 MB/s.                     \u001b[6n\u001b[1;1H\u001b[6nFinished: 0 file(s), 71.328 GB; Average Speed:126.39 MB/s.                     \u001b[6n\u001b[1;1H\u001b[6nFinished: 0 file(s), 71.824 GB; Average Speed:126.82 MB/s.                     \u001b[6n\u001b[1;1H\u001b[6nFinished: 0 file(s), 72.098 GB; Average Speed:126.86 MB/s.                     \u001b[6n\u001b[1;1H\u001b[6n"
     ]
    },
    {
     "name": "stdout",
     "output_type": "stream",
     "text": [
      "Finished: 0 file(s), 72.52 GB; Average Speed:127.15 MB/s.                      \u001b[6n\u001b[1;1H\u001b[6nFinished: 0 file(s), 72.93 GB; Average Speed:127.42 MB/s.                      \u001b[6n\u001b[1;1H\u001b[6nFinished: 0 file(s), 73.172 GB; Average Speed:127.4 MB/s.                      \u001b[6n\u001b[1;1H\u001b[6nFinished: 0 file(s), 73.453 GB; Average Speed:127.45 MB/s.                     \u001b[6n\u001b[1;1H\u001b[6nFinished: 0 file(s), 74.059 GB; Average Speed:128.05 MB/s.                     \u001b[6n\u001b[1;1H\u001b[6nFinished: 0 file(s), 74.098 GB; Average Speed:127.68 MB/s.                     \u001b[6n\u001b[1;1H\u001b[6nFinished: 0 file(s), 74.469 GB; Average Speed:127.88 MB/s.                     \u001b[6n\u001b[1;1H\u001b[6nFinished: 0 file(s), 74.809 GB; Average Speed:128.02 MB/s.                     \u001b[6n\u001b[1;1H\u001b[6nFinished: 0 file(s), 75.316 GB; Average Speed:128.45 MB/s.                     \u001b[6n\u001b[1;1H\u001b[6nFinished: 0 file(s), 75.391 GB; Average Speed:128.14 MB/s.                     \u001b[6n\u001b[1;1H\u001b[6nFinished: 0 file(s), 75.395 GB; Average Speed:127.23 MB/s.                     \u001b[6n\u001b[1;1H\u001b[6nFinished: 0 file(s), 76.031 GB; Average Speed:127.88 MB/s.                     \u001b[6n\u001b[1;1H\u001b[6nFinished: 0 file(s), 76.363 GB; Average Speed:128.01 MB/s.                     \u001b[6n\u001b[1;1H\u001b[6nFinished: 0 file(s), 76.84 GB; Average Speed:128.37 MB/s.                      \u001b[6n\u001b[1;1H\u001b[6nFinished: 0 file(s), 76.945 GB; Average Speed:128.12 MB/s.                     \u001b[6n\u001b[1;1H\u001b[6nFinished: 0 file(s), 77.324 GB; Average Speed:128.33 MB/s.                     \u001b[6n\u001b[1;1H\u001b[6nFinished: 0 file(s), 77.672 GB; Average Speed:128.48 MB/s.                     \u001b[6n\u001b[1;1H\u001b[6nFinished: 0 file(s), 78.043 GB; Average Speed:128.66 MB/s.                     \u001b[6n\u001b[1;1H\u001b[6nFinished: 0 file(s), 78.512 GB; Average Speed:129.01 MB/s.                     \u001b[6n\u001b[1;1H\u001b[6nFinished: 0 file(s), 78.973 GB; Average Speed:129.34 MB/s.                     \u001b[6n\u001b[1;1H\u001b[6nFinished: 0 file(s), 79.508 GB; Average Speed:129.8 MB/s.                      \u001b[6n\u001b[1;1H\u001b[6nFinished: 0 file(s), 79.516 GB; Average Speed:129.39 MB/s.                     \u001b[6n\u001b[1;1H\u001b[6nFinished: 0 file(s), 79.918 GB; Average Speed:129.62 MB/s.                     \u001b[6n\u001b[1;1H\u001b[6nFinished: 0 file(s), 80.164 GB; Average Speed:129.6 MB/s.                      \u001b[6n\u001b[1;1H\u001b[6nFinished: 0 file(s), 80.508 GB; Average Speed:129.73 MB/s.                     \u001b[6n\u001b[1;1H\u001b[6nFinished: 0 file(s), 80.914 GB; Average Speed:129.97 MB/s.                     \u001b[6n\u001b[1;1H\u001b[6nFinished: 0 file(s), 81.145 GB; Average Speed:129.92 MB/s.                     \u001b[6n\u001b[1;1H\u001b[6nFinished: 0 file(s), 81.156 GB; Average Speed:129.53 MB/s.                     \u001b[6n\u001b[1;1H\u001b[6nFinished: 0 file(s), 81.734 GB; Average Speed:130.03 MB/s.                     \u001b[6n\u001b[1;1H\u001b[6nFinished: 0 file(s), 82.129 GB; Average Speed:130.25 MB/s.                     \u001b[6n\u001b[1;1H\u001b[6nFinished: 0 file(s), 82.188 GB; Average Speed:129.93 MB/s.                     \u001b[6n\u001b[1;1H\u001b[6nFinished: 0 file(s), 82.492 GB; Average Speed:130 MB/s.                        \u001b[6n\u001b[1;1H\u001b[6nFinished: 0 file(s), 82.875 GB; Average Speed:130.19 MB/s.                     \u001b[6n\u001b[1;1H\u001b[6nFinished: 0 file(s), 83.348 GB; Average Speed:130.52 MB/s.                     \u001b[6n\u001b[1;1H\u001b[6nFinished: 0 file(s), 83.773 GB; Average Speed:130.78 MB/s.                     \u001b[6n\u001b[1;1H\u001b[6nFinished: 0 file(s), 83.871 GB; Average Speed:130.53 MB/s.                     \u001b[6n\u001b[1;1H\u001b[6nFinished: 0 file(s), 84.313 GB; Average Speed:130.81 MB/s.                     \u001b[6n\u001b[1;1H\u001b[6nFinished: 0 file(s), 84.785 GB; Average Speed:131.13 MB/s.                     \u001b[6n\u001b[1;1H\u001b[6nFinished: 0 file(s), 84.789 GB; Average Speed:130.73 MB/s.                     \u001b[6n\u001b[1;1H\u001b[6nFinished: 0 file(s), 85.098 GB; Average Speed:130.81 MB/s.                     \u001b[6n\u001b[1;1H\u001b[6nFinished: 0 file(s), 85.332 GB; Average Speed:130.76 MB/s.                     \u001b[6n\u001b[1;1H\u001b[6nFinished: 0 file(s), 85.668 GB; Average Speed:130.88 MB/s.                     \u001b[6n\u001b[1;1H\u001b[6nFinished: 0 file(s), 86.066 GB; Average Speed:131.09 MB/s.                     \u001b[6n\u001b[1;1H\u001b[6nFinished: 0 file(s), 86.137 GB; Average Speed:130.8 MB/s.                      \u001b[6n\u001b[1;1H\u001b[6nFinished: 0 file(s), 86.492 GB; Average Speed:130.94 MB/s.                     \u001b[6n\u001b[1;1H\u001b[6nFinished: 0 file(s), 87.098 GB; Average Speed:131.46 MB/s.                     \u001b[6n\u001b[1;1H\u001b[6nFinished: 0 file(s), 87.473 GB; Average Speed:131.62 MB/s.                     \u001b[6n\u001b[1;1H\u001b[6nFinished: 0 file(s), 87.477 GB; Average Speed:131.24 MB/s.                     \u001b[6n\u001b[1;1H\u001b[6nFinished: 0 file(s), 87.938 GB; Average Speed:131.53 MB/s.                     \u001b[6n\u001b[1;1H\u001b[6nFinished: 0 file(s), 88.324 GB; Average Speed:131.72 MB/s.                     \u001b[6n\u001b[1;1H\u001b[6nFinished: 0 file(s), 88.48 GB; Average Speed:131.56 MB/s.                      \u001b[6n\u001b[1;1H\u001b[6nFinished: 0 file(s), 88.723 GB; Average Speed:131.53 MB/s.                     \u001b[6n\u001b[1;1H\u001b[6nFinished: 0 file(s), 89.211 GB; Average Speed:131.86 MB/s.                     \u001b[6n\u001b[1;1H\u001b[6nFinished: 0 file(s), 89.609 GB; Average Speed:132.06 MB/s.                     \u001b[6n\u001b[1;1H\u001b[6nFinished: 0 file(s), 89.91 GB; Average Speed:132.11 MB/s.                      \u001b[6n\u001b[1;1H\u001b[6nFinished: 0 file(s), 89.957 GB; Average Speed:131.79 MB/s.                     \u001b[6n\u001b[1;1H\u001b[6nFinished: 0 file(s), 89.973 GB; Average Speed:131.43 MB/s.                     \u001b[6n\u001b[1;1H\u001b[6nFinished: 0 file(s), 90.414 GB; Average Speed:131.69 MB/s.                     \u001b[6n\u001b[1;1H\u001b[6nFinished: 0 file(s), 90.754 GB; Average Speed:131.8 MB/s.                      \u001b[6n\u001b[1;1H\u001b[6nFinished: 0 file(s), 91.105 GB; Average Speed:131.93 MB/s.                     \u001b[6n\u001b[1;1H\u001b[6nFinished: 0 file(s), 91.23 GB; Average Speed:131.73 MB/s.                      \u001b[6n\u001b[1;1H\u001b[6nFinished: 0 file(s), 91.313 GB; Average Speed:131.47 MB/s.                     \u001b[6n\u001b[1;1H\u001b[6nFinished: 0 file(s), 91.68 GB; Average Speed:131.62 MB/s.                      \u001b[6n\u001b[1;1H\u001b[6nFinished: 0 file(s), 92.047 GB; Average Speed:131.77 MB/s.                     \u001b[6n\u001b[1;1H\u001b[6nFinished: 0 file(s), 92.266 GB; Average Speed:131.7 MB/s.                      \u001b[6n\u001b[1;1H\u001b[6nFinished: 0 file(s), 92.75 GB; Average Speed:132.02 MB/s.                      \u001b[6n\u001b[1;1H\u001b[6nFinished: 0 file(s), 93.051 GB; Average Speed:132.07 MB/s.                     \u001b[6n\u001b[1;1H\u001b[6nFinished: 0 file(s), 93.422 GB; Average Speed:132.22 MB/s.                     \u001b[6n\u001b[1;1H\u001b[6nFinished: 0 file(s), 93.828 GB; Average Speed:132.42 MB/s.                     \u001b[6n\u001b[1;1H\u001b[6nFinished: 0 file(s), 93.836 GB; Average Speed:132.06 MB/s.                     \u001b[6n\u001b[1;1H\u001b[6nFinished: 0 file(s), 94.07 GB; Average Speed:132.02 MB/s.                      \u001b[6n\u001b[1;1H\u001b[6nFinished: 0 file(s), 94.605 GB; Average Speed:132.4 MB/s.                      \u001b[6n\u001b[1;1H\u001b[6nFinished: 0 file(s), 94.859 GB; Average Speed:132.38 MB/s.                     \u001b[6n\u001b[1;1H\u001b[6nFinished: 0 file(s), 95.254 GB; Average Speed:132.56 MB/s.                     \u001b[6n\u001b[1;1H\u001b[6nFinished: 0 file(s), 95.496 GB; Average Speed:132.53 MB/s.                     \u001b[6n\u001b[1;1H\u001b[6nFinished: 0 file(s), 95.773 GB; Average Speed:132.55 MB/s.                     \u001b[6n\u001b[1;1H\u001b[6nFinished: 0 file(s), 96.102 GB; Average Speed:132.63 MB/s.                     \u001b[6n\u001b[1;1H\u001b[6nFinished: 0 file(s), 96.328 GB; Average Speed:132.58 MB/s.                     \u001b[6n\u001b[1;1H\u001b[6nFinished: 0 file(s), 96.742 GB; Average Speed:132.78 MB/s.                     \u001b[6n\u001b[1;1H\u001b[6nFinished: 0 file(s), 97.055 GB; Average Speed:132.85 MB/s.                     \u001b[6n\u001b[1;1H\u001b[6nFinished: 0 file(s), 97.605 GB; Average Speed:133.24 MB/s.                     \u001b[6n\u001b[1;1H\u001b[6nFinished: 0 file(s), 97.652 GB; Average Speed:132.94 MB/s.                     \u001b[6n\u001b[1;1H\u001b[6nFinished: 0 file(s), 98.008 GB; Average Speed:133.06 MB/s.                     \u001b[6n\u001b[1;1H\u001b[6nFinished: 0 file(s), 98.102 GB; Average Speed:132.83 MB/s.                     \u001b[6n\u001b[1;1H\u001b[6nFinished: 0 file(s), 98.344 GB; Average Speed:132.8 MB/s.                      \u001b[6n\u001b[1;1H\u001b[6nFinished: 0 file(s), 98.809 GB; Average Speed:133.06 MB/s.                     \u001b[6n\u001b[1;1H\u001b[6nFinished: 0 file(s), 99.035 GB; Average Speed:133.01 MB/s.                     \u001b[6n\u001b[1;1H\u001b[6nFinished: 0 file(s), 99.375 GB; Average Speed:133.11 MB/s.                     \u001b[6n\u001b[1;1H\u001b[6nFinished: 0 file(s), 99.625 GB; Average Speed:133.09 MB/s.                     \u001b[6n"
     ]
    },
    {
     "name": "stdout",
     "output_type": "stream",
     "text": [
      "\u001b[1;1H\u001b[6nFinished: 0 file(s), 99.938 GB; Average Speed:133.15 MB/s.                     \u001b[6n\u001b[1;1H\u001b[6nFinished: 0 file(s), 100.23 GB; Average Speed:133.19 MB/s.                     \u001b[6n\u001b[1;1H\u001b[6nFinished: 0 file(s), 100.234 GB; Average Speed:132.83 MB/s.                    \u001b[6n\u001b[1;1H\u001b[6nFinished: 0 file(s), 100.859 GB; Average Speed:133.31 MB/s.                    \u001b[6n\u001b[1;1H\u001b[6nFinished: 0 file(s), 101.113 GB; Average Speed:133.29 MB/s.                    \u001b[6n\u001b[1;1H\u001b[6nFinished: 0 file(s), 101.328 GB; Average Speed:133.22 MB/s.                    \u001b[6n\u001b[1;1H\u001b[6nFinished: 0 file(s), 101.57 GB; Average Speed:133.19 MB/s.                     \u001b[6n\u001b[1;1H\u001b[6nFinished: 0 file(s), 101.684 GB; Average Speed:132.99 MB/s.                    \u001b[6n\u001b[1;1H\u001b[6nFinished: 0 file(s), 101.965 GB; Average Speed:133.01 MB/s.                    \u001b[6n\u001b[1;1H\u001b[6nFinished: 0 file(s), 102.41 GB; Average Speed:133.24 MB/s.                     \u001b[6n\u001b[1;1H\u001b[6nFinished: 0 file(s), 102.746 GB; Average Speed:133.33 MB/s.                    \u001b[6n\u001b[1;1H\u001b[6nFinished: 0 file(s), 103.129 GB; Average Speed:133.48 MB/s.                    \u001b[6n\u001b[1;1H\u001b[6nFinished: 0 file(s), 103.586 GB; Average Speed:133.73 MB/s.                    \u001b[6n\u001b[1;1H\u001b[6nFinished: 0 file(s), 103.918 GB; Average Speed:133.81 MB/s.                    \u001b[6n\u001b[1;1H\u001b[6nFinished: 0 file(s), 104.246 GB; Average Speed:133.89 MB/s.                    \u001b[6n\u001b[1;1H\u001b[6nFinished: 0 file(s), 104.738 GB; Average Speed:134.18 MB/s.                    \u001b[6n\u001b[1;1H\u001b[6nFinished: 0 file(s), 104.992 GB; Average Speed:134.16 MB/s.                    \u001b[6n\u001b[1;1H\u001b[6nFinished: 0 file(s), 105.16 GB; Average Speed:134.03 MB/s.                     \u001b[6n\u001b[1;1H\u001b[6nFinished: 0 file(s), 105.324 GB; Average Speed:133.9 MB/s.                     \u001b[6n\u001b[1;1H\u001b[6nFinished: 0 file(s), 105.59 GB; Average Speed:133.9 MB/s.                      \u001b[6n\u001b[1;1H\u001b[6nFinished: 0 file(s), 105.855 GB; Average Speed:133.89 MB/s.                    \u001b[6n\u001b[1;1H\u001b[6nFinished: 0 file(s), 106.348 GB; Average Speed:134.18 MB/s.                    \u001b[6n\u001b[1;1H\u001b[6nFinished: 0 file(s), 106.461 GB; Average Speed:133.98 MB/s.                    \u001b[6n\u001b[1;1H\u001b[6nFinished: 0 file(s), 106.652 GB; Average Speed:133.89 MB/s.                    \u001b[6n\u001b[1;1H\u001b[6nFinished: 0 file(s), 107.02 GB; Average Speed:134.01 MB/s.                     \u001b[6n\u001b[1;1H\u001b[6nFinished: 0 file(s), 107.328 GB; Average Speed:134.06 MB/s.                    \u001b[6n\u001b[1;1H\u001b[6nFinished: 0 file(s), 107.508 GB; Average Speed:133.95 MB/s.                    \u001b[6n\u001b[1;1H\u001b[6nFinished: 0 file(s), 107.871 GB; Average Speed:134.07 MB/s.                    \u001b[6n\u001b[1;1H\u001b[6nFinished: 0 file(s), 108.348 GB; Average Speed:134.33 MB/s.                    \u001b[6n\u001b[1;1H\u001b[6nFinished: 0 file(s), 108.363 GB; Average Speed:134.01 MB/s.                    \u001b[6n\u001b[1;1H\u001b[6nFinished: 0 file(s), 108.711 GB; Average Speed:134.11 MB/s.                    \u001b[6n\u001b[1;1H\u001b[6nFinished: 0 file(s), 108.723 GB; Average Speed:133.8 MB/s.                     \u001b[6n\u001b[1;1H\u001b[6nFinished: 0 file(s), 108.789 GB; Average Speed:133.55 MB/s.                    \u001b[6n\u001b[1;1H\u001b[6nFinished: 0 file(s), 109.289 GB; Average Speed:133.84 MB/s.                    \u001b[6n\u001b[1;1H\u001b[6nFinished: 0 file(s), 109.563 GB; Average Speed:133.84 MB/s.                    \u001b[6n\u001b[1;1H\u001b[6nFinished: 0 file(s), 109.906 GB; Average Speed:133.94 MB/s.                    \u001b[6n\u001b[1;1H\u001b[6nFinished: 0 file(s), 110.371 GB; Average Speed:134.17 MB/s.                    \u001b[6n\u001b[1;1H\u001b[6nFinished: 0 file(s), 110.391 GB; Average Speed:133.87 MB/s.                    \u001b[6n\u001b[1;1H\u001b[6nFinished: 0 file(s), 110.766 GB; Average Speed:134 MB/s.                       \u001b[6n\u001b[1;1H\u001b[6nFinished: 0 file(s), 111.137 GB; Average Speed:134.13 MB/s.                    \u001b[6n\u001b[1;1H\u001b[6nFinished: 0 file(s), 111.16 GB; Average Speed:133.83 MB/s.                     \u001b[6n\u001b[1;1H\u001b[6nFinished: 0 file(s), 111.539 GB; Average Speed:133.97 MB/s.                    \u001b[6n\u001b[1;1H\u001b[6nFinished: 0 file(s), 111.66 GB; Average Speed:133.79 MB/s.                     \u001b[6n\u001b[1;1H\u001b[6nFinished: 0 file(s), 111.922 GB; Average Speed:133.78 MB/s.                    \u001b[6n\u001b[1;1H\u001b[6nFinished: 0 file(s), 112.242 GB; Average Speed:133.85 MB/s.                    \u001b[6n\u001b[1;1H\u001b[6nFinished: 0 file(s), 112.633 GB; Average Speed:133.99 MB/s.                    \u001b[6n\u001b[1;1H\u001b[6nFinished: 0 file(s), 113.012 GB; Average Speed:134.12 MB/s.                    \u001b[6n\u001b[1;1H\u001b[6nFinished: 0 file(s), 113.063 GB; Average Speed:133.87 MB/s.                    \u001b[6n\u001b[1;1H\u001b[6nFinished: 0 file(s), 113.488 GB; Average Speed:134.05 MB/s.                    \u001b[6n\u001b[1;1H\u001b[6nFinished: 0 file(s), 113.867 GB; Average Speed:134.18 MB/s.                    \u001b[6n\u001b[1;1H\u001b[6nFinished: 0 file(s), 113.879 GB; Average Speed:133.88 MB/s.                    \u001b[6n\u001b[1;1H\u001b[6nFinished: 0 file(s), 114.184 GB; Average Speed:133.93 MB/s.                    \u001b[6n\u001b[1;1H\u001b[6nFinished: 0 file(s), 114.453 GB; Average Speed:133.93 MB/s.                    \u001b[6n\u001b[1;1H\u001b[6nFinished: 0 file(s), 114.652 GB; Average Speed:133.85 MB/s.                    \u001b[6n\u001b[1;1H\u001b[6nFinished: 0 file(s), 114.809 GB; Average Speed:133.72 MB/s.                    \u001b[6n\u001b[1;1H\u001b[6nFinished: 0 file(s), 114.984 GB; Average Speed:133.61 MB/s.                    \u001b[6n\u001b[1;1H\u001b[6nFinished: 0 file(s), 115.379 GB; Average Speed:133.76 MB/s.                    \u001b[6n\u001b[1;1H\u001b[6nFinished: 0 file(s), 115.832 GB; Average Speed:133.97 MB/s.                    \u001b[6n\u001b[1;1H\u001b[6nFinished: 0 file(s), 115.855 GB; Average Speed:133.69 MB/s.                    \u001b[6n\u001b[1;1H\u001b[6nFinished: 0 file(s), 116.211 GB; Average Speed:133.79 MB/s.                    \u001b[6n\u001b[1;1H\u001b[6nFinished: 0 file(s), 116.504 GB; Average Speed:133.82 MB/s.                    \u001b[6n\u001b[1;1H\u001b[6nFinished: 0 file(s), 116.703 GB; Average Speed:133.74 MB/s.                    \u001b[6n\u001b[1;1H\u001b[6nFinished: 0 file(s), 117.254 GB; Average Speed:134.07 MB/s.                    \u001b[6n\u001b[1;1H\u001b[6nFinished: 0 file(s), 117.484 GB; Average Speed:134.02 MB/s.                    \u001b[6n\u001b[1;1H\u001b[6nFinished: 0 file(s), 117.945 GB; Average Speed:134.24 MB/s.                    \u001b[6n\u001b[1;1H\u001b[6nFinished: 0 file(s), 118.395 GB; Average Speed:134.45 MB/s.                    \u001b[6n\u001b[1;1H\u001b[6nFinished: 0 file(s), 118.414 GB; Average Speed:134.17 MB/s.                    \u001b[6n\u001b[1;1H\u001b[6nFinished: 0 file(s), 118.742 GB; Average Speed:134.23 MB/s.                    \u001b[6n\u001b[1;1H\u001b[6nFinished: 0 file(s), 119.195 GB; Average Speed:134.44 MB/s.                    \u001b[6n\u001b[1;1H\u001b[6nFinished: 0 file(s), 119.199 GB; Average Speed:133.77 MB/s.                    \u001b[6n\u001b[1;1H\u001b[6nFinished: 0 file(s), 119.789 GB; Average Speed:134.13 MB/s.                    \u001b[6n\u001b[1;1H\u001b[6nFinished: 0 file(s), 120.098 GB; Average Speed:134.18 MB/s.                    \u001b[6n\u001b[1;1H\u001b[6nFinished: 0 file(s), 120.188 GB; Average Speed:133.98 MB/s.                    \u001b[6n\u001b[1;1H\u001b[6nFinished: 0 file(s), 120.477 GB; Average Speed:134 MB/s.                       \u001b[6n\u001b[1;1H\u001b[6nFinished: 0 file(s), 120.898 GB; Average Speed:134.17 MB/s.                    \u001b[6n\u001b[1;1H\u001b[6nFinished: 0 file(s), 121.332 GB; Average Speed:134.36 MB/s.                    \u001b[6n\u001b[1;1H\u001b[6nFinished: 0 file(s), 121.543 GB; Average Speed:134.29 MB/s.                    \u001b[6n\u001b[1;1H\u001b[6nFinished: 0 file(s), 121.945 GB; Average Speed:134.44 MB/s.                    \u001b[6n\u001b[1;1H\u001b[6nFinished: 0 file(s), 122.383 GB; Average Speed:134.63 MB/s.                    \u001b[6n\u001b[1;1H\u001b[6nFinished: 0 file(s), 122.484 GB; Average Speed:134.44 MB/s.                    \u001b[6n\u001b[1;1H\u001b[6nFinished: 0 file(s), 122.707 GB; Average Speed:134.39 MB/s.                    \u001b[6n\u001b[1;1H\u001b[6nFinished: 0 file(s), 122.891 GB; Average Speed:134.3 MB/s.                     \u001b[6n\u001b[1;1H\u001b[6nFinished: 0 file(s), 122.918 GB; Average Speed:134.03 MB/s.                    \u001b[6n\u001b[1;1H\u001b[6nFinished: 0 file(s), 123.406 GB; Average Speed:134.27 MB/s.                    \u001b[6n\u001b[1;1H\u001b[6nFinished: 0 file(s), 123.449 GB; Average Speed:134.03 MB/s.                    \u001b[6n\u001b[1;1H\u001b[6nFinished: 0 file(s), 123.828 GB; Average Speed:134.15 MB/s.                    \u001b[6n\u001b[1;1H\u001b[6nFinished: 0 file(s), 124.105 GB; Average Speed:134.16 MB/s.                    \u001b[6n\u001b[1;1H\u001b[6nFinished: 0 file(s), 124.438 GB; Average Speed:134.23 MB/s.                    \u001b[6n\u001b[1;1H\u001b[6n"
     ]
    },
    {
     "name": "stdout",
     "output_type": "stream",
     "text": [
      "Finished: 0 file(s), 124.598 GB; Average Speed:134.11 MB/s.                    \u001b[6n\u001b[1;1H\u001b[6nFinished: 0 file(s), 124.988 GB; Average Speed:134.24 MB/s.                    \u001b[6n\u001b[1;1H\u001b[6nFinished: 0 file(s), 125.332 GB; Average Speed:134.32 MB/s.                    \u001b[6n\u001b[1;1H\u001b[6nFinished: 0 file(s), 125.715 GB; Average Speed:134.45 MB/s.                    \u001b[6n\u001b[1;1H\u001b[6nFinished: 0 file(s), 126.113 GB; Average Speed:134.58 MB/s.                    \u001b[6n\u001b[1;1H\u001b[6nFinished: 0 file(s), 126.117 GB; Average Speed:134.16 MB/s.                    \u001b[6n\u001b[1;1H\u001b[6nFinished: 0 file(s), 126.559 GB; Average Speed:134.34 MB/s.                    \u001b[6n\u001b[1;1H\u001b[6nFinished: 0 file(s), 127.02 GB; Average Speed:134.55 MB/s.                     \u001b[6n\u001b[1;1H\u001b[6nFinished: 0 file(s), 127.023 GB; Average Speed:134.26 MB/s.                    \u001b[6n\u001b[1;1H\u001b[6nFinished: 0 file(s), 127.316 GB; Average Speed:134.28 MB/s.                    \u001b[6n\u001b[1;1H\u001b[6nFinished: 0 file(s), 127.531 GB; Average Speed:134.23 MB/s.                    \u001b[6n\u001b[1;1H\u001b[6nFinished: 0 file(s), 127.863 GB; Average Speed:134.29 MB/s.                    \u001b[6n\u001b[1;1H\u001b[6nFinished: 0 file(s), 128.238 GB; Average Speed:134.4 MB/s.                     \u001b[6n\u001b[1;1H\u001b[6nFinished: 0 file(s), 128.25 GB; Average Speed:134.14 MB/s.                     \u001b[6n\u001b[1;1H\u001b[6nFinished: 0 file(s), 128.641 GB; Average Speed:134.26 MB/s.                    \u001b[6n\u001b[1;1H\u001b[6nFinished: 0 file(s), 128.645 GB; Average Speed:133.97 MB/s.                    \u001b[6n\u001b[1;1H\u001b[6nFinished: 0 file(s), 129.09 GB; Average Speed:134.15 MB/s.                     \u001b[6n\u001b[1;1H\u001b[6nFinished: 0 file(s), 129.379 GB; Average Speed:134.17 MB/s.                    \u001b[6n\u001b[1;1H\u001b[6nFinished: 0 file(s), 129.766 GB; Average Speed:134.29 MB/s.                    \u001b[6n\u001b[1;1H\u001b[6nFinished: 0 file(s), 130.309 GB; Average Speed:134.58 MB/s.                    \u001b[6n\u001b[1;1H\u001b[6nFinished: 0 file(s), 130.332 GB; Average Speed:134.32 MB/s.                    \u001b[6n\u001b[1;1H\u001b[6nFinished: 0 file(s), 130.734 GB; Average Speed:134.46 MB/s.                    \u001b[6n\u001b[1;1H\u001b[6nFinished: 0 file(s), 131.262 GB; Average Speed:134.73 MB/s.                    \u001b[6n\u001b[1;1H\u001b[6nFinished: 0 file(s), 131.598 GB; Average Speed:134.79 MB/s.                    \u001b[6n\u001b[1;1H\u001b[6nFinished: 0 file(s), 131.934 GB; Average Speed:134.86 MB/s.                    \u001b[6n\u001b[1;1H\u001b[6nFinished: 0 file(s), 132.172 GB; Average Speed:134.83 MB/s.                    \u001b[6n\u001b[1;1H\u001b[6nFinished: 0 file(s), 132.695 GB; Average Speed:135.09 MB/s.                    \u001b[6n\u001b[1;1H\u001b[6nFinished: 0 file(s), 132.699 GB; Average Speed:134.82 MB/s.                    \u001b[6n\u001b[1;1H\u001b[6nFinished: 0 file(s), 133.012 GB; Average Speed:134.86 MB/s.                    \u001b[6n\u001b[1;1H\u001b[6nFinished: 0 file(s), 133.473 GB; Average Speed:135.06 MB/s.                    \u001b[6n\u001b[1;1H\u001b[6nFinished: 0 file(s), 133.887 GB; Average Speed:135.2 MB/s.                     \u001b[6n\u001b[1;1H\u001b[6nFinished: 0 file(s), 133.941 GB; Average Speed:134.98 MB/s.                    \u001b[6n\u001b[1;1H\u001b[6nFinished: 0 file(s), 134.367 GB; Average Speed:135.14 MB/s.                    \u001b[6n\u001b[1;1H\u001b[6nFinished: 0 file(s), 134.371 GB; Average Speed:134.81 MB/s.                    \u001b[6n\u001b[1;1H\u001b[6nFinished: 0 file(s), 134.688 GB; Average Speed:134.86 MB/s.                    \u001b[6n\u001b[1;1H\u001b[6nFinished: 0 file(s), 135.125 GB; Average Speed:135.02 MB/s.                    \u001b[6n\u001b[1;1H\u001b[6nFinished: 0 file(s), 135.402 GB; Average Speed:135.03 MB/s.                    \u001b[6n\u001b[1;1H\u001b[6nFinished: 0 file(s), 135.606 GB; Average Speed:134.96 MB/s.                    \u001b[6n\u001b[1;1H\u001b[6nFinished: 0 file(s), 135.723 GB; Average Speed:134.81 MB/s.                    \u001b[6n\u001b[1;1H\u001b[6nFinished: 0 file(s), 135.731 GB; Average Speed:134.55 MB/s.                    \u001b[6n\u001b[1;1H\u001b[6nFinished: 0 file(s), 135.735 GB; Average Speed:134.27 MB/s.                    \u001b[6n\u001b[1;1H\u001b[6nFinished: 0 file(s), 135.738 GB; Average Speed:134.01 MB/s.                    \u001b[6n\u001b[1;1H\u001b[6nFinished: 0 file(s), 135.742 GB; Average Speed:131.39 MB/s.                    \u001b[6n\u001b[1;1H\u001b[6nFinished: 0 file(s), 135.746 GB; Average Speed:130.42 MB/s.                    \u001b[6n\u001b[1;1H\u001b[6nFinished: 1 file(s), 135.746 GB; Average Speed:128.96 MB/s.                    \u001b[6n\u001b[1;1H\u001b[6n                                                                               \u001b[6n\u001b[1;1HFinished 1 of total 1 file(s).\n",
      "\u001b[6n                                                                               \u001b[6n\u001b[1;1H[2018/11/28 09:29:29] Transfer summary:\n",
      "-----------------\n",
      "Total files transferred: 1\n",
      "Transfer successfully:   1\n",
      "Transfer skipped:        0\n",
      "Transfer failed:         0\n",
      "Elapsed time:            00.00:18:02\n"
     ]
    }
   ],
   "source": [
    "# Should take about 20 minnutes\n",
    "!azcopy --source {DATA/\"train.tar.gz\"} \\\n",
    "--destination https://{STORAGE_ACCOUNT_NAME}.blob.core.windows.net/{CONTAINER_NAME}/train.tar.gz \\\n",
    "--dest-key {storage_account_key} --quiet"
   ]
  },
  {
   "cell_type": "code",
   "execution_count": 21,
   "metadata": {},
   "outputs": [
    {
     "name": "stdout",
     "output_type": "stream",
     "text": [
      "\u001b[?1h\u001b=\u001b[6nFinished: 0 file(s), 0 B; Average Speed:0 B/s.                                 \u001b[6n\u001b[1;1H\u001b[6nFinished: 0 file(s), 0 B; Average Speed:0 B/s.                                 \u001b[6n\u001b[1;1H\u001b[6nFinished: 0 file(s), 0 B; Average Speed:0 B/s.                                 \u001b[6n\u001b[1;1H\u001b[6nFinished: 0 file(s), 0 B; Average Speed:0 B/s.                                 \u001b[6n\u001b[1;1H\u001b[6nFinished: 0 file(s), 4 MB; Average Speed:448.83 KB/s.                          \u001b[6n\u001b[1;1H\u001b[6nFinished: 0 file(s), 180 MB; Average Speed:16.1 MB/s.                          \u001b[6n\u001b[1;1H\u001b[6nFinished: 0 file(s), 592 MB; Average Speed:44.76 MB/s.                         \u001b[6n\u001b[1;1H\u001b[6nFinished: 0 file(s), 688 MB; Average Speed:45.04 MB/s.                         \u001b[6n\u001b[1;1H\u001b[6nFinished: 0 file(s), 1.129 GB; Average Speed:66.73 MB/s.                       \u001b[6n\u001b[1;1H\u001b[6nFinished: 0 file(s), 1.133 GB; Average Speed:59.88 MB/s.                       \u001b[6n\u001b[1;1H\u001b[6nFinished: 0 file(s), 1.508 GB; Average Speed:72.09 MB/s.                       \u001b[6n\u001b[1;1H\u001b[6nFinished: 0 file(s), 1.816 GB; Average Speed:79.26 MB/s.                       \u001b[6n\u001b[1;1H\u001b[6nFinished: 0 file(s), 2 GB; Average Speed:80.27 MB/s.                           \u001b[6n\u001b[1;1H\u001b[6nFinished: 0 file(s), 2.395 GB; Average Speed:88.96 MB/s.                       \u001b[6n\u001b[1;1H\u001b[6nFinished: 0 file(s), 2.664 GB; Average Speed:92.13 MB/s.                       \u001b[6n\u001b[1;1H\u001b[6nFinished: 0 file(s), 2.684 GB; Average Speed:86.8 MB/s.                        \u001b[6n\u001b[1;1H\u001b[6nFinished: 0 file(s), 3.152 GB; Average Speed:95.77 MB/s.                       \u001b[6n\u001b[1;1H\u001b[6nFinished: 0 file(s), 3.602 GB; Average Speed:103.15 MB/s.                      \u001b[6n\u001b[1;1H\u001b[6nFinished: 0 file(s), 3.668 GB; Average Speed:99.36 MB/s.                       \u001b[6n\u001b[1;1H\u001b[6nFinished: 0 file(s), 4.055 GB; Average Speed:104.19 MB/s.                      \u001b[6n\u001b[1;1H\u001b[6nFinished: 0 file(s), 4.059 GB; Average Speed:86.53 MB/s.                       \u001b[6n\u001b[1;1H\u001b[6nFinished: 0 file(s), 4.188 GB; Average Speed:85.66 MB/s.                       \u001b[6n\u001b[1;1H\u001b[6nFinished: 0 file(s), 4.191 GB; Average Speed:76.15 MB/s.                       \u001b[6n\u001b[1;1H\u001b[6nFinished: 0 file(s), 4.352 GB; Average Speed:76.29 MB/s.                       \u001b[6n\u001b[1;1H\u001b[6nFinished: 0 file(s), 4.77 GB; Average Speed:80.78 MB/s.                        \u001b[6n\u001b[1;1H\u001b[6nFinished: 0 file(s), 4.84 GB; Average Speed:79.29 MB/s.                        \u001b[6n\u001b[1;1H\u001b[6nFinished: 0 file(s), 5.262 GB; Average Speed:83.46 MB/s.                       \u001b[6n\u001b[1;1H\u001b[6nFinished: 0 file(s), 5.281 GB; Average Speed:81.2 MB/s.                        \u001b[6n\u001b[1;1H\u001b[6nFinished: 0 file(s), 5.594 GB; Average Speed:83.44 MB/s.                       \u001b[6n\u001b[1;1H\u001b[6nFinished: 0 file(s), 5.953 GB; Average Speed:86.22 MB/s.                       \u001b[6n\u001b[1;1H\u001b[6nFinished: 0 file(s), 6.145 GB; Average Speed:86.5 MB/s.                        \u001b[6n\u001b[1;1H\u001b[6nFinished: 0 file(s), 6.2 GB; Average Speed:84.88 MB/s.                         \u001b[6n\u001b[1;1H\u001b[6nFinished: 0 file(s), 6.204 GB; Average Speed:82.61 MB/s.                       \u001b[6n\u001b[1;1H\u001b[6nFinished: 0 file(s), 6.207 GB; Average Speed:80.54 MB/s.                       \u001b[6n\u001b[1;1H\u001b[6nFinished: 1 file(s), 6.207 GB; Average Speed:78.12 MB/s.                       \u001b[6n\u001b[1;1H\u001b[6n                                                                               \u001b[6n\u001b[1;1HFinished 1 of total 1 file(s).\n",
      "\u001b[6n                                                                               \u001b[6n\u001b[1;1H[2018/11/28 09:37:20] Transfer summary:\n",
      "-----------------\n",
      "Total files transferred: 1\n",
      "Transfer successfully:   1\n",
      "Transfer skipped:        0\n",
      "Transfer failed:         0\n",
      "Elapsed time:            00.00:01:25\n"
     ]
    }
   ],
   "source": [
    "!azcopy --source {DATA/\"validation.tar.gz\"} \\\n",
    "--destination https://{STORAGE_ACCOUNT_NAME}.blob.core.windows.net/{CONTAINER_NAME}/validation.tar.gz \\\n",
    "--dest-key {storage_account_key} --quiet"
   ]
  },
  {
   "cell_type": "markdown",
   "metadata": {},
   "source": [
    "<a id='create_fileshare'></a>\n",
    "## Create Fileserver (Optional)\n",
    "In this example we will store the data on an NFS fileshare. It is possible to use many storage solutions with Batch AI. NFS offers the best traideoff between performance and ease of use. The best performance is achieved by loading the data locally but this can be cumbersome since it requires that the data is download by the all the nodes which with the imagenet dataset can take hours. "
   ]
  },
  {
   "cell_type": "code",
   "execution_count": 40,
   "metadata": {},
   "outputs": [
    {
     "name": "stdout",
     "output_type": "stream",
     "text": [
      "Password not set\n",
      "Please enter password to use for the cluster········\n",
      "\u001b[K{- Finished ..\n",
      "  \"creationTime\": \"2018-11-28T11:21:55.710000+00:00\",\n",
      "  \"dataDisks\": {\n",
      "    \"cachingType\": \"none\",\n",
      "    \"diskCount\": 4,\n",
      "    \"diskSizeInGb\": 250,\n",
      "    \"storageAccountType\": \"Premium_LRS\"\n",
      "  },\n",
      "  \"id\": \"/subscriptions/edf507a2-6235-46c5-b560-fd463ba2e771/resourceGroups/batchddpytorchrg/providers/Microsoft.BatchAI/workspaces/workspace/fileservers/batchddpytorchnfs\",\n",
      "  \"mountSettings\": {\n",
      "    \"fileServerInternalIp\": \"10.0.0.4\",\n",
      "    \"fileServerPublicIp\": \"40.114.88.44\",\n",
      "    \"mountPoint\": \"/data\"\n",
      "  },\n",
      "  \"name\": \"batchddpytorchnfs\",\n",
      "  \"provisioningState\": \"succeeded\",\n",
      "  \"provisioningStateTransitionTime\": \"2018-11-28T11:25:23.686000+00:00\",\n",
      "  \"resourceGroup\": \"batchddpytorchrg\",\n",
      "  \"sshConfiguration\": {\n",
      "    \"publicIpsToAllow\": null,\n",
      "    \"userAccountSettings\": {\n",
      "      \"adminUserName\": \"batchai_user\",\n",
      "      \"adminUserPassword\": null,\n",
      "      \"adminUserSshPublicKey\": null\n",
      "    }\n",
      "  },\n",
      "  \"subnet\": {\n",
      "    \"id\": \"/subscriptions/edf507a2-6235-46c5-b560-fd463ba2e771/resourceGroups/fileserverrg-ebcf8ef6-4573-4d47-811f-2e984f8d080d/providers/Microsoft.Network/virtualNetworks/ebcf8ef6-4573-4d47-811f-2e984f8d080dvnet/subnets/Subnet-1\",\n",
      "    \"resourceGroup\": \"fileserverrg-ebcf8ef6-4573-4d47-811f-2e984f8d080d\"\n",
      "  },\n",
      "  \"type\": \"Microsoft.BatchAI/workspaces/fileservers\",\n",
      "  \"vmSize\": \"Standard_DS4_v2\"\n",
      "}\n",
      "\u001b[0m"
     ]
    }
   ],
   "source": [
    "!az batchai file-server create -n $NFS_NAME --disk-count 4 --disk-size 250 -w $WORKSPACE \\\n",
    "-s Standard_DS4_v2 -u $USERNAME -p {get_password(dotenv_for())} -g $GROUP_NAME --storage-sku Premium_LRS"
   ]
  },
  {
   "cell_type": "code",
   "execution_count": 41,
   "metadata": {},
   "outputs": [
    {
     "name": "stdout",
     "output_type": "stream",
     "text": [
      "Name               Resource Group    Size             Disks       Public IP     Internal IP    Mount Point\r\n",
      "-----------------  ----------------  ---------------  ----------  ------------  -------------  -------------\r\n",
      "batchddpytorchnfs  batchddpytorchrg  Standard_DS4_v2  4 x 250 Gb  40.114.88.44  10.0.0.4       /data\r\n"
     ]
    }
   ],
   "source": [
    "!az batchai file-server list -o table -w $WORKSPACE -g $GROUP_NAME"
   ]
  },
  {
   "cell_type": "code",
   "execution_count": 42,
   "metadata": {},
   "outputs": [],
   "source": [
    "json_data = !az batchai file-server list -w $WORKSPACE -g $GROUP_NAME\n",
    "nfs_ip=json.loads(''.join([i for i in json_data if 'WARNING' not in i]))[0]['mountSettings']['fileServerPublicIp']"
   ]
  },
  {
   "cell_type": "markdown",
   "metadata": {},
   "source": [
    "After we have created the NFS share we need to copy the data to it. To do this we write the script below which will be executed on the fileserver. It installs a tool called azcopy and then downloads and extracts the data to the appropriate directory."
   ]
  },
  {
   "cell_type": "code",
   "execution_count": 43,
   "metadata": {},
   "outputs": [],
   "source": [
    "nodeprep_script = f\"\"\"\n",
    "#!/usr/bin/env bash\n",
    "wget https://gist.githubusercontent.com/msalvaris/073c28a9993d58498957294d20d74202/raw/87a78275879f7c9bb8d6fb9de8a2d2996bb66c24/install_azcopy\n",
    "chmod 777 install_azcopy\n",
    "sudo ./install_azcopy\n",
    "\n",
    "mkdir -p /data/imagenet\n",
    "\n",
    "azcopy --source https://{STORAGE_ACCOUNT_NAME}.blob.core.windows.net/{CONTAINER_NAME}/validation.tar.gz \\\n",
    "        --destination  /data/imagenet/validation.tar.gz\\\n",
    "        --source-key {storage_account_key}\\\n",
    "        --quiet\n",
    "\n",
    "\n",
    "azcopy --source https://{STORAGE_ACCOUNT_NAME}.blob.core.windows.net/{CONTAINER_NAME}/train.tar.gz \\\n",
    "        --destination  /data/imagenet/train.tar.gz\\\n",
    "        --source-key {storage_account_key}\\\n",
    "        --quiet\n",
    "\n",
    "cd /data/imagenet\n",
    "tar -xzf train.tar.gz\n",
    "tar -xzf validation.tar.gz\n",
    "\"\"\""
   ]
  },
  {
   "cell_type": "code",
   "execution_count": 44,
   "metadata": {},
   "outputs": [],
   "source": [
    "with open('nodeprep.sh', 'w') as f:\n",
    "    f.write(nodeprep_script)"
   ]
  },
  {
   "cell_type": "markdown",
   "metadata": {},
   "source": [
    "Next we will copy the file over and run it on the NFS VM. This will install azcopy and download and prepare the data"
   ]
  },
  {
   "cell_type": "code",
   "execution_count": 45,
   "metadata": {},
   "outputs": [
    {
     "name": "stdout",
     "output_type": "stream",
     "text": [
      "Warning: Permanently added '40.114.88.44' (ECDSA) to the list of known hosts.\r",
      "\r\n"
     ]
    }
   ],
   "source": [
    "!sshpass -p {get_password(dotenv_for())} scp -o \"StrictHostKeyChecking=no\" nodeprep.sh $USERNAME@{nfs_ip}:~/"
   ]
  },
  {
   "cell_type": "code",
   "execution_count": 46,
   "metadata": {
    "scrolled": true
   },
   "outputs": [
    {
     "name": "stdout",
     "output_type": "stream",
     "text": [
      "--2018-11-28 11:27:12--  https://gist.githubusercontent.com/msalvaris/073c28a9993d58498957294d20d74202/raw/87a78275879f7c9bb8d6fb9de8a2d2996bb66c24/install_azcopy\n",
      "Resolving gist.githubusercontent.com (gist.githubusercontent.com)... 151.101.32.133\n",
      "Connecting to gist.githubusercontent.com (gist.githubusercontent.com)|151.101.32.133|:443... connected.\n",
      "HTTP request sent, awaiting response... 200 OK\n",
      "Length: 481 [text/plain]\n",
      "Saving to: ‘install_azcopy’\n",
      "\n",
      "     0K                                                       100%  107M=0s\n",
      "\n",
      "2018-11-28 11:27:12 (107 MB/s) - ‘install_azcopy’ saved [481/481]\n",
      "\n",
      "  % Total    % Received % Xferd  Average Speed   Time    Time     Time  Current\n",
      "                                 Dload  Upload   Total   Spent    Left  Speed\n",
      "100   983  100   983    0     0   4168      0 --:--:-- --:--:-- --:--:--  4182\n",
      "Hit:1 http://azure.archive.ubuntu.com/ubuntu xenial InRelease\n",
      "Get:2 http://azure.archive.ubuntu.com/ubuntu xenial-updates InRelease [109 kB]\n",
      "Get:3 http://azure.archive.ubuntu.com/ubuntu xenial-backports InRelease [107 kB]\n",
      "Get:4 https://packages.microsoft.com/repos/microsoft-ubuntu-xenial-prod xenial InRelease [2,846 B]\n",
      "Get:5 http://security.ubuntu.com/ubuntu xenial-security InRelease [107 kB]\n",
      "Get:6 http://azure.archive.ubuntu.com/ubuntu xenial/main Sources [868 kB]\n",
      "Get:7 http://azure.archive.ubuntu.com/ubuntu xenial/restricted Sources [4,808 B]\n",
      "Get:8 http://azure.archive.ubuntu.com/ubuntu xenial/universe Sources [7,728 kB]\n",
      "Get:9 http://azure.archive.ubuntu.com/ubuntu xenial/multiverse Sources [179 kB]\n",
      "Get:10 http://azure.archive.ubuntu.com/ubuntu xenial-updates/main Sources [327 kB]\n",
      "Get:11 http://azure.archive.ubuntu.com/ubuntu xenial-updates/restricted Sources [2,528 B]\n",
      "Get:12 http://azure.archive.ubuntu.com/ubuntu xenial-updates/universe Sources [233 kB]\n",
      "Get:13 http://azure.archive.ubuntu.com/ubuntu xenial-updates/multiverse Sources [8,740 B]\n",
      "Get:14 http://azure.archive.ubuntu.com/ubuntu xenial-updates/main amd64 Packages [884 kB]\n",
      "Get:15 http://azure.archive.ubuntu.com/ubuntu xenial-updates/main Translation-en [359 kB]\n",
      "Get:16 http://azure.archive.ubuntu.com/ubuntu xenial-updates/universe amd64 Packages [707 kB]\n",
      "Get:17 http://azure.archive.ubuntu.com/ubuntu xenial-updates/universe Translation-en [289 kB]\n",
      "Get:18 http://azure.archive.ubuntu.com/ubuntu xenial-updates/multiverse amd64 Packages [16.6 kB]\n",
      "Get:19 https://packages.microsoft.com/repos/microsoft-ubuntu-xenial-prod xenial/main amd64 Packages [58.9 kB]\n",
      "Get:20 http://azure.archive.ubuntu.com/ubuntu xenial-backports/main Sources [4,856 B]\n",
      "Get:21 http://azure.archive.ubuntu.com/ubuntu xenial-backports/universe Sources [6,740 B]\n",
      "Get:22 http://security.ubuntu.com/ubuntu xenial-security/main Sources [138 kB]\n",
      "Get:23 http://security.ubuntu.com/ubuntu xenial-security/restricted Sources [2,116 B]\n",
      "Get:24 http://security.ubuntu.com/ubuntu xenial-security/universe Sources [86.8 kB]\n",
      "Get:25 http://security.ubuntu.com/ubuntu xenial-security/multiverse Sources [2,468 B]\n",
      "Get:26 http://security.ubuntu.com/ubuntu xenial-security/main amd64 Packages [585 kB]\n",
      "Get:27 http://security.ubuntu.com/ubuntu xenial-security/main Translation-en [244 kB]\n",
      "Get:28 http://security.ubuntu.com/ubuntu xenial-security/universe amd64 Packages [401 kB]\n",
      "Get:29 http://security.ubuntu.com/ubuntu xenial-security/universe Translation-en [156 kB]\n",
      "Get:30 http://security.ubuntu.com/ubuntu xenial-security/multiverse amd64 Packages [3,724 B]\n",
      "Fetched 13.6 MB in 2s (5,301 kB/s)\n",
      "Reading package lists...\n",
      "Reading package lists...\n",
      "Building dependency tree...\n",
      "Reading state information...\n",
      "The following additional packages will be installed:\n",
      "  aspnetcore-store-2.0.0 dotnet-host dotnet-hostfxr-2.0.0 dotnet-runtime-2.0.0\n",
      "  libcurl3 liblttng-ust-ctl2 liblttng-ust0 liburcu4\n",
      "The following NEW packages will be installed:\n",
      "  aspnetcore-store-2.0.0 dotnet-host dotnet-hostfxr-2.0.0 dotnet-runtime-2.0.0\n",
      "  dotnet-sdk-2.0.2 libcurl3 liblttng-ust-ctl2 liblttng-ust0 liburcu4\n",
      "0 upgraded, 9 newly installed, 0 to remove and 25 not upgraded.\n",
      "Need to get 108 MB of archives.\n",
      "After this operation, 311 MB of additional disk space will be used.\n",
      "Get:1 http://azure.archive.ubuntu.com/ubuntu xenial-updates/main amd64 libcurl3 amd64 7.47.0-1ubuntu2.11 [186 kB]\n",
      "Get:2 http://azure.archive.ubuntu.com/ubuntu xenial/universe amd64 liburcu4 amd64 0.9.1-3 [47.3 kB]\n",
      "Get:3 http://azure.archive.ubuntu.com/ubuntu xenial/universe amd64 liblttng-ust-ctl2 amd64 2.7.1-1 [72.2 kB]\n",
      "Get:4 http://azure.archive.ubuntu.com/ubuntu xenial/universe amd64 liblttng-ust0 amd64 2.7.1-1 [127 kB]\n",
      "Get:5 https://packages.microsoft.com/repos/microsoft-ubuntu-xenial-prod xenial/main amd64 aspnetcore-store-2.0.0 amd64 2.0.0-1 [18.1 MB]\n",
      "Get:6 https://packages.microsoft.com/repos/microsoft-ubuntu-xenial-prod xenial/main amd64 dotnet-host amd64 2.1.6-1 [36.4 kB]\n",
      "Get:7 https://packages.microsoft.com/repos/microsoft-ubuntu-xenial-prod xenial/main amd64 dotnet-hostfxr-2.0.0 amd64 2.0.0-1 [135 kB]\n",
      "Get:8 https://packages.microsoft.com/repos/microsoft-ubuntu-xenial-prod xenial/main amd64 dotnet-runtime-2.0.0 amd64 2.0.0-1 [18.6 MB]\n",
      "Get:9 https://packages.microsoft.com/repos/microsoft-ubuntu-xenial-prod xenial/main amd64 dotnet-sdk-2.0.2 amd64 2.0.2-1 [70.5 MB]\n",
      "debconf: unable to initialize frontend: Dialog\n",
      "debconf: (Dialog frontend will not work on a dumb terminal, an emacs shell buffer, or without a controlling terminal.)\n",
      "debconf: falling back to frontend: Readline\n",
      "debconf: unable to initialize frontend: Readline\n",
      "debconf: (This frontend requires a controlling tty.)\n",
      "debconf: falling back to frontend: Teletype\n",
      "dpkg-preconfigure: unable to re-open stdin: \n",
      "Fetched 108 MB in 2s (38.5 MB/s)\n",
      "Selecting previously unselected package aspnetcore-store-2.0.0.\n",
      "(Reading database ... 55238 files and directories currently installed.)\n",
      "Preparing to unpack .../aspnetcore-store-2.0.0_2.0.0-1_amd64.deb ...\n",
      "Unpacking aspnetcore-store-2.0.0 (2.0.0-1) ...\n",
      "Selecting previously unselected package dotnet-host.\n",
      "Preparing to unpack .../dotnet-host_2.1.6-1_amd64.deb ...\n",
      "Unpacking dotnet-host (2.1.6-1) ...\n",
      "Selecting previously unselected package dotnet-hostfxr-2.0.0.\n",
      "Preparing to unpack .../dotnet-hostfxr-2.0.0_2.0.0-1_amd64.deb ...\n",
      "Unpacking dotnet-hostfxr-2.0.0 (2.0.0-1) ...\n",
      "Selecting previously unselected package libcurl3:amd64.\n",
      "Preparing to unpack .../libcurl3_7.47.0-1ubuntu2.11_amd64.deb ...\n",
      "Unpacking libcurl3:amd64 (7.47.0-1ubuntu2.11) ...\n",
      "Selecting previously unselected package liburcu4:amd64.\n",
      "Preparing to unpack .../liburcu4_0.9.1-3_amd64.deb ...\n",
      "Unpacking liburcu4:amd64 (0.9.1-3) ...\n",
      "Selecting previously unselected package liblttng-ust-ctl2:amd64.\n",
      "Preparing to unpack .../liblttng-ust-ctl2_2.7.1-1_amd64.deb ...\n",
      "Unpacking liblttng-ust-ctl2:amd64 (2.7.1-1) ...\n",
      "Selecting previously unselected package liblttng-ust0:amd64.\n",
      "Preparing to unpack .../liblttng-ust0_2.7.1-1_amd64.deb ...\n",
      "Unpacking liblttng-ust0:amd64 (2.7.1-1) ...\n",
      "Selecting previously unselected package dotnet-runtime-2.0.0.\n",
      "Preparing to unpack .../dotnet-runtime-2.0.0_2.0.0-1_amd64.deb ...\n",
      "Unpacking dotnet-runtime-2.0.0 (2.0.0-1) ...\n",
      "Selecting previously unselected package dotnet-sdk-2.0.2.\n",
      "Preparing to unpack .../dotnet-sdk-2.0.2_2.0.2-1_amd64.deb ...\n",
      "Unpacking dotnet-sdk-2.0.2 (2.0.2-1) ...\n",
      "Processing triggers for man-db (2.7.5-1) ...\n",
      "Processing triggers for libc-bin (2.23-0ubuntu10) ...\n",
      "Setting up aspnetcore-store-2.0.0 (2.0.0-1) ...\n",
      "Setting up dotnet-host (2.1.6-1) ...\n",
      "Setting up dotnet-hostfxr-2.0.0 (2.0.0-1) ...\n",
      "Setting up libcurl3:amd64 (7.47.0-1ubuntu2.11) ...\n",
      "Setting up liburcu4:amd64 (0.9.1-3) ...\n",
      "Setting up liblttng-ust-ctl2:amd64 (2.7.1-1) ...\n",
      "Setting up liblttng-ust0:amd64 (2.7.1-1) ...\n",
      "Setting up dotnet-runtime-2.0.0 (2.0.0-1) ...\n",
      "Setting up dotnet-sdk-2.0.2 (2.0.2-1) ...\n",
      "This software may collect information about you and your use of the software, and send that to Microsoft.\n",
      "Please visit http://aka.ms/dotnet-cli-eula for more information.\n",
      "Welcome to .NET Core!\n",
      "---------------------\n",
      "Learn more about .NET Core @ https://aka.ms/dotnet-docs. Use dotnet --help to see available commands or go to https://aka.ms/dotnet-cli-docs.\n",
      "\n",
      ".NET Core Tools Telemetry\n",
      "--------------\n",
      "The .NET Core Tools include a telemetry feature that collects usage information. It is important that the .NET Team understands how the tools are being used so that we can improve them.\n",
      "\n",
      "The data collected is anonymous and will be published in an aggregated form for use by both Microsoft and community engineers under the Creative Commons Attribution License.\n",
      "\n",
      "The .NET Core Tools telemetry feature is enabled by default. You can opt-out of the telemetry feature by setting an environment variable DOTNET_CLI_TELEMETRY_OPTOUT (for example, 'export' on macOS/Linux, 'set' on Windows) to true (for example, 'true', 1). You can read more about .NET Core tools telemetry at https://aka.ms/dotnet-cli-telemetry.\n",
      "\n",
      "Installation Note\n",
      "--------------\n",
      "A command will be run during the install process that will improve project restore speed and enable offline access. It will take up to a minute to complete.\n"
     ]
    },
    {
     "name": "stdout",
     "output_type": "stream",
     "text": [
      "Processing triggers for libc-bin (2.23-0ubuntu10) ...\n",
      "--2018-11-28 11:27:59--  https://aka.ms/downloadazcopyprlinux\n",
      "Resolving aka.ms (aka.ms)... 23.222.209.19\n",
      "Connecting to aka.ms (aka.ms)|23.222.209.19|:443... connected.\n",
      "HTTP request sent, awaiting response... 301 Moved Permanently\n",
      "Location: https://azcopy.azureedge.net/azcopy-7-1-0-netcorepreview/azcopy_7.1.0-netcorepreview_all.tar.gz [following]\n",
      "--2018-11-28 11:27:59--  https://azcopy.azureedge.net/azcopy-7-1-0-netcorepreview/azcopy_7.1.0-netcorepreview_all.tar.gz\n",
      "Resolving azcopy.azureedge.net (azcopy.azureedge.net)... 72.21.81.200, 2606:2800:11f:17a5:191a:18d5:537:22f9\n",
      "Connecting to azcopy.azureedge.net (azcopy.azureedge.net)|72.21.81.200|:443... connected.\n",
      "HTTP request sent, awaiting response... 200 OK\n",
      "Length: 3841375 (3.7M) [application/octet-stream]\n",
      "Saving to: ‘azcopy.tar.gz’\n",
      "\n",
      "     0K .......... .......... .......... .......... ..........  1% 23.7M 0s\n",
      "    50K .......... .......... .......... .......... ..........  2%  211M 0s\n",
      "   100K .......... .......... .......... .......... ..........  3% 24.5M 0s\n",
      "   150K .......... .......... .......... .......... ..........  5%  145M 0s\n",
      "   200K .......... .......... .......... .......... ..........  6%  147M 0s\n",
      "   250K .......... .......... .......... .......... ..........  7% 47.4M 0s\n",
      "   300K .......... .......... .......... .......... ..........  9% 35.7M 0s\n",
      "   350K .......... .......... .......... .......... .......... 10%  127M 0s\n",
      "   400K .......... .......... .......... .......... .......... 11%  133M 0s\n",
      "   450K .......... .......... .......... .......... .......... 13%  195M 0s\n",
      "   500K .......... .......... .......... .......... .......... 14%  163M 0s\n",
      "   550K .......... .......... .......... .......... .......... 15%  153M 0s\n",
      "   600K .......... .......... .......... .......... .......... 17%  149M 0s\n",
      "   650K .......... .......... .......... .......... .......... 18% 96.8M 0s\n",
      "   700K .......... .......... .......... .......... .......... 19%  153M 0s\n",
      "   750K .......... .......... .......... .......... .......... 21%  118M 0s\n",
      "   800K .......... .......... .......... .......... .......... 22%  118M 0s\n",
      "   850K .......... .......... .......... .......... .......... 23%  112M 0s\n",
      "   900K .......... .......... .......... .......... .......... 25%  212M 0s\n",
      "   950K .......... .......... .......... .......... .......... 26%  114M 0s\n",
      "  1000K .......... .......... .......... .......... .......... 27%  129M 0s\n",
      "  1050K .......... .......... .......... .......... .......... 29% 95.2M 0s\n",
      "  1100K .......... .......... .......... .......... .......... 30%  167M 0s\n",
      "  1150K .......... .......... .......... .......... .......... 31%  108M 0s\n",
      "  1200K .......... .......... .......... .......... .......... 33%  136M 0s\n",
      "  1250K .......... .......... .......... .......... .......... 34%  135M 0s\n",
      "  1300K .......... .......... .......... .......... .......... 35% 65.3M 0s\n",
      "  1350K .......... .......... .......... .......... .......... 37% 63.5M 0s\n",
      "  1400K .......... .......... .......... .......... .......... 38%  213M 0s\n",
      "  1450K .......... .......... .......... .......... .......... 39%  134M 0s\n",
      "  1500K .......... .......... .......... .......... .......... 41%  118M 0s\n",
      "  1550K .......... .......... .......... .......... .......... 42%  115M 0s\n",
      "  1600K .......... .......... .......... .......... .......... 43%  134M 0s\n",
      "  1650K .......... .......... .......... .......... .......... 45%  126M 0s\n",
      "  1700K .......... .......... .......... .......... .......... 46%  202M 0s\n",
      "  1750K .......... .......... .......... .......... .......... 47%  110M 0s\n",
      "  1800K .......... .......... .......... .......... .......... 49%  205M 0s\n",
      "  1850K .......... .......... .......... .......... .......... 50%  146M 0s\n",
      "  1900K .......... .......... .......... .......... .......... 51%  142M 0s\n",
      "  1950K .......... .......... .......... .......... .......... 53%  144M 0s\n",
      "  2000K .......... .......... .......... .......... .......... 54%  156M 0s\n",
      "  2050K .......... .......... .......... .......... .......... 55%  146M 0s\n",
      "  2100K .......... .......... .......... .......... .......... 57%  117M 0s\n",
      "  2150K .......... .......... .......... .......... .......... 58%  121M 0s\n",
      "  2200K .......... .......... .......... .......... .......... 59%  125M 0s\n",
      "  2250K .......... .......... .......... .......... .......... 61%  151M 0s\n",
      "  2300K .......... .......... .......... .......... .......... 62%  209M 0s\n",
      "  2350K .......... .......... .......... .......... .......... 63%  145M 0s\n",
      "  2400K .......... .......... .......... .......... .......... 65%  150M 0s\n",
      "  2450K .......... .......... .......... .......... .......... 66%  140M 0s\n",
      "  2500K .......... .......... .......... .......... .......... 67%  108M 0s\n",
      "  2550K .......... .......... .......... .......... .......... 69% 78.9M 0s\n",
      "  2600K .......... .......... .......... .......... .......... 70%  102M 0s\n",
      "  2650K .......... .......... .......... .......... .......... 71%  128M 0s\n",
      "  2700K .......... .......... .......... .......... .......... 73%  151M 0s\n",
      "  2750K .......... .......... .......... .......... .......... 74%  137M 0s\n",
      "  2800K .......... .......... .......... .......... .......... 75%  226M 0s\n",
      "  2850K .......... .......... .......... .......... .......... 77%  228M 0s\n",
      "  2900K .......... .......... .......... .......... .......... 78%  241M 0s\n",
      "  2950K .......... .......... .......... .......... .......... 79%  153M 0s\n",
      "  3000K .......... .......... .......... .......... .......... 81%  268M 0s\n",
      "  3050K .......... .......... .......... .......... .......... 82%  269M 0s\n",
      "  3100K .......... .......... .......... .......... .......... 83%  237M 0s\n",
      "  3150K .......... .......... .......... .......... .......... 85%  156M 0s\n",
      "  3200K .......... .......... .......... .......... .......... 86%  174M 0s\n",
      "  3250K .......... .......... .......... .......... .......... 87%  226M 0s\n",
      "  3300K .......... .......... .......... .......... .......... 89%  252M 0s\n",
      "  3350K .......... .......... .......... .......... .......... 90%  170M 0s\n",
      "  3400K .......... .......... .......... .......... .......... 91%  185M 0s\n",
      "  3450K .......... .......... .......... .......... .......... 93%  286M 0s\n",
      "  3500K .......... .......... .......... .......... .......... 94%  307M 0s\n",
      "  3550K .......... .......... .......... .......... .......... 95%  263M 0s\n",
      "  3600K .......... .......... .......... .......... .......... 97%  187M 0s\n",
      "  3650K .......... .......... .......... .......... .......... 98%  195M 0s\n",
      "  3700K .......... .......... .......... .......... .......... 99%  216M 0s\n",
      "  3750K .                                                     100% 2561G=0.03s\n",
      "\n",
      "2018-11-28 11:27:59 (120 MB/s) - ‘azcopy.tar.gz’ saved [3841375/3841375]\n",
      "\n",
      "sending incremental file list\n",
      "AzCopyConfig.json\n",
      "Microsoft.Data.Edm.dll\n",
      "Microsoft.Data.OData.dll\n",
      "Microsoft.DotNet.Cli.CommandLine.dll\n",
      "Microsoft.WindowsAzure.Storage.AzCopy.CommandLineParameters.dll\n",
      "Microsoft.WindowsAzure.Storage.AzCopy.Common.dll\n",
      "Microsoft.WindowsAzure.Storage.AzCopy.GetOptCommandLineParser.dll\n",
      "Microsoft.WindowsAzure.Storage.DataMovement.dll\n",
      "Microsoft.WindowsAzure.Storage.dll\n",
      "Newtonsoft.Json.dll\n",
      "System.IO.Packaging.dll\n",
      "System.Spatial.dll\n",
      "azcopy.deps.json\n",
      "azcopy.dll\n",
      "azcopy.runtimeconfig.json\n",
      "azcopy_autocomplete\n",
      "es/\n",
      "es/Microsoft.Data.Edm.resources.dll\n",
      "es/Microsoft.Data.OData.resources.dll\n",
      "es/System.Spatial.resources.dll\n",
      "fr/\n",
      "fr/Microsoft.Data.Edm.resources.dll\n",
      "fr/Microsoft.Data.OData.resources.dll\n",
      "fr/System.Spatial.resources.dll\n",
      "it/\n",
      "it/Microsoft.Data.Edm.resources.dll\n",
      "it/Microsoft.Data.OData.resources.dll\n",
      "it/System.Spatial.resources.dll\n",
      "ja/\n",
      "ja/Microsoft.Data.Edm.resources.dll\n",
      "ja/Microsoft.Data.OData.resources.dll\n",
      "ja/System.Spatial.resources.dll\n",
      "ko/\n",
      "ko/Microsoft.Data.Edm.resources.dll\n",
      "ko/Microsoft.Data.OData.resources.dll\n",
      "ko/System.Spatial.resources.dll\n",
      "ru/\n",
      "ru/Microsoft.Data.Edm.resources.dll\n",
      "ru/Microsoft.Data.OData.resources.dll\n",
      "ru/System.Spatial.resources.dll\n",
      "runtimes/\n",
      "runtimes/linux-arm/\n",
      "runtimes/linux-arm/lib/\n",
      "runtimes/linux-arm/lib/netstandard2.0/\n",
      "runtimes/linux-arm/lib/netstandard2.0/Mono.Posix.NETStandard.dll\n",
      "runtimes/linux-arm/native/\n",
      "runtimes/linux-arm/native/libMonoPosixHelper.so\n",
      "runtimes/linux-arm64/\n",
      "runtimes/linux-arm64/lib/\n",
      "runtimes/linux-arm64/lib/netstandard2.0/\n",
      "runtimes/linux-arm64/lib/netstandard2.0/Mono.Posix.NETStandard.dll\n",
      "runtimes/linux-arm64/native/\n",
      "runtimes/linux-arm64/native/libMonoPosixHelper.so\n",
      "runtimes/linux-armel/\n",
      "runtimes/linux-armel/lib/\n",
      "runtimes/linux-armel/lib/netstandard2.0/\n",
      "runtimes/linux-armel/lib/netstandard2.0/Mono.Posix.NETStandard.dll\n",
      "runtimes/linux-armel/native/\n",
      "runtimes/linux-armel/native/libMonoPosixHelper.so\n",
      "runtimes/linux-x64/\n",
      "runtimes/linux-x64/lib/\n",
      "runtimes/linux-x64/lib/netstandard2.0/\n",
      "runtimes/linux-x64/lib/netstandard2.0/Mono.Posix.NETStandard.dll\n",
      "runtimes/linux-x64/native/\n",
      "runtimes/linux-x64/native/libMonoPosixHelper.so\n",
      "runtimes/linux-x86/\n",
      "runtimes/linux-x86/lib/\n",
      "runtimes/linux-x86/lib/netstandard2.0/\n",
      "runtimes/linux-x86/lib/netstandard2.0/Mono.Posix.NETStandard.dll\n",
      "runtimes/linux-x86/native/\n",
      "runtimes/linux-x86/native/libMonoPosixHelper.so\n",
      "runtimes/osx/\n",
      "runtimes/osx/lib/\n",
      "runtimes/osx/lib/netstandard2.0/\n",
      "runtimes/osx/lib/netstandard2.0/Mono.Posix.NETStandard.dll\n",
      "runtimes/osx/native/\n",
      "runtimes/osx/native/libMonoPosixHelper.dylib\n",
      "runtimes/unix/\n",
      "runtimes/unix/lib/\n",
      "runtimes/unix/lib/netstandard1.3/\n",
      "runtimes/unix/lib/netstandard1.3/System.Security.Cryptography.ProtectedData.dll\n",
      "runtimes/win/\n",
      "runtimes/win/lib/\n",
      "runtimes/win/lib/netstandard1.3/\n",
      "runtimes/win/lib/netstandard1.3/System.Security.Cryptography.ProtectedData.dll\n",
      "zh-Hans/\n",
      "zh-Hans/Microsoft.Data.Edm.resources.dll\n",
      "zh-Hans/Microsoft.Data.OData.resources.dll\n",
      "zh-Hans/System.Spatial.resources.dll\n",
      "zh-Hant/\n",
      "zh-Hant/Microsoft.Data.Edm.resources.dll\n",
      "zh-Hant/Microsoft.Data.OData.resources.dll\n",
      "zh-Hant/System.Spatial.resources.dll\n"
     ]
    },
    {
     "name": "stdout",
     "output_type": "stream",
     "text": [
      "\n",
      "sent 11,683,102 bytes  received 1,290 bytes  23,368,784.00 bytes/sec\n",
      "total size is 11,675,344  speedup is 1.00\n",
      "[2018/11/28 11:28:20] Transfer summary:\n",
      "-----------------\n",
      "Total files transferred: 1\n",
      "Transfer successfully:   1\n",
      "Transfer skipped:        0\n",
      "Transfer failed:         0\n",
      "Elapsed time:            00.00:00:20\n",
      "[2018/11/28 11:35:38] Transfer summary:\n",
      "-----------------\n",
      "Total files transferred: 1\n",
      "Transfer successfully:   1\n",
      "Transfer skipped:        0\n",
      "Transfer failed:         0\n",
      "Elapsed time:            00.00:07:12\n"
     ]
    }
   ],
   "source": [
    "!sshpass -p {get_password(dotenv_for())} ssh -o \"StrictHostKeyChecking=no\" $USERNAME@{nfs_ip} \"sudo chmod 777 ~/nodeprep.sh && ./nodeprep.sh\""
   ]
  },
  {
   "cell_type": "markdown",
   "metadata": {},
   "source": [
    "<a id='configure_cluster'></a>\n",
    "## Configure Batch AI Cluster\n",
    "We then upload the scripts we wish to execute onto the fileshare. The fileshare will later be mounted by Batch AI. An alternative to uploading the scripts would be to embedd them inside the Docker container."
   ]
  },
  {
   "cell_type": "markdown",
   "metadata": {},
   "source": [
    "Below it the command to create the cluster."
   ]
  },
  {
   "cell_type": "code",
   "execution_count": null,
   "metadata": {},
   "outputs": [],
   "source": [
    "!az batchai cluster create \\\n",
    "    -w $WORKSPACE \\\n",
    "    --name $CLUSTER_NAME \\\n",
    "    --image UbuntuLTS \\\n",
    "    --vm-size $VM_SIZE \\\n",
    "    --min $NUM_NODES --max $NUM_NODES \\\n",
    "    --afs-name $FILE_SHARE_NAME \\\n",
    "    --afs-mount-path extfs \\\n",
    "    --user-name $USERNAME \\\n",
    "    --password {get_password(dotenv_for())} \\\n",
    "    --storage-account-name $STORAGE_ACCOUNT_NAME \\\n",
    "    --storage-account-key $storage_account_key \\\n",
    "    --nfs $NFS_NAME \\\n",
    "    --nfs-mount-path nfs \\\n",
    "    --config-file cluster_config/cluster.json"
   ]
  },
  {
   "cell_type": "markdown",
   "metadata": {},
   "source": [
    "Let's check that the cluster was created succesfully."
   ]
  },
  {
   "cell_type": "code",
   "execution_count": null,
   "metadata": {},
   "outputs": [],
   "source": [
    "!az batchai cluster show -n $CLUSTER_NAME -w $WORKSPACE"
   ]
  },
  {
   "cell_type": "code",
   "execution_count": null,
   "metadata": {},
   "outputs": [],
   "source": [
    "!az batchai cluster list -w $WORKSPACE -o table"
   ]
  },
  {
   "cell_type": "code",
   "execution_count": null,
   "metadata": {},
   "outputs": [],
   "source": [
    "!az batchai cluster node list -c $CLUSTER_NAME -w $WORKSPACE -o table"
   ]
  }
 ],
 "metadata": {
  "kernelspec": {
   "display_name": "Python 3",
   "language": "python",
   "name": "python3"
  },
  "language_info": {
   "codemirror_mode": {
    "name": "ipython",
    "version": 3
   },
   "file_extension": ".py",
   "mimetype": "text/x-python",
   "name": "python",
   "nbconvert_exporter": "python",
   "pygments_lexer": "ipython3",
   "version": "3.6.7"
  }
 },
 "nbformat": 4,
 "nbformat_minor": 2
}
