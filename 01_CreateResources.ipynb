{
 "cells": [
  {
   "cell_type": "markdown",
   "metadata": {},
   "source": [
    "# Create Azure and Batch AI Resources\n",
    "In this notebook we will create the necessary resources to train a ResNet50 model([ResNet50](https://arxiv.org/abs/1512.03385)) in a distributed fashion using [Horovod](https://github.com/uber/horovod) on the ImageNet dataset. If you plan on using fake data then the sections marked optional can be skipped. This notebook will take you through the following steps:\n",
    " * [Create Azure Resources](#azure_resources)\n",
    " * [Create Fileserver(NFS)](#create_fileshare)\n",
    " * [Upload Data to Blob (Optional)](#upload_data)\n",
    " * [Configure Batch AI Cluster](#configure_cluster)"
   ]
  },
  {
   "cell_type": "code",
   "execution_count": 4,
   "metadata": {},
   "outputs": [],
   "source": [
    "import sys\n",
    "sys.path.append(\"common\") \n",
    "\n",
    "from dotenv import set_key\n",
    "import os\n",
    "import json\n",
    "from utils import get_password, dotenv_for\n",
    "from pathlib import Path"
   ]
  },
  {
   "cell_type": "markdown",
   "metadata": {},
   "source": [
    "Below are the variables that describe our experiment. By default we are using the NC24rs_v3 (Standard_NC24rs_v3) VMs which have V100 GPUs and Infiniband. By default we are using 2 nodes with each node having 4 GPUs, this equates to 8 GPUs. Feel free to increase the number of nodes but be aware what limitations your subscription may have.\n",
    "\n",
    "Set the USE_FAKE to True if you want to use fake data rather than the Imagenet dataset. This is often a good way to debug your models as well as checking what IO overhead is."
   ]
  },
  {
   "cell_type": "code",
   "execution_count": 64,
   "metadata": {
    "tags": [
     "parameters"
    ]
   },
   "outputs": [
    {
     "data": {
      "text/plain": [
       "(True, 'STORAGE_ACCOUNT_NAME', 'batchdtdemost')"
      ]
     },
     "execution_count": 64,
     "metadata": {},
     "output_type": "execute_result"
    }
   ],
   "source": [
    "# Variables for Batch AI - change as necessary\n",
    "ID                     = \"dtdemo\"\n",
    "GROUP_NAME             = f\"batch{ID}rg\"\n",
    "STORAGE_ACCOUNT_NAME   = f\"batch{ID}st\"\n",
    "FILE_SHARE_NAME        = f\"batch{ID}share\"\n",
    "SELECTED_SUBSCRIPTION  = \"Boston Team Danielle\"\n",
    "WORKSPACE              = \"workspace\"\n",
    "NUM_NODES              = 2\n",
    "CLUSTER_NAME           = \"msv100\"\n",
    "VM_SIZE                = \"Standard_NC24rs_v3\"\n",
    "GPU_TYPE               = \"V100\"\n",
    "PROCESSES_PER_NODE     = 4\n",
    "LOCATION               = \"eastus\"\n",
    "NFS_NAME               = f\"batch{ID}nfs\"\n",
    "USERNAME               = \"batchai_user\"\n",
    "USE_FAKE               = False\n",
    "DOCKERHUB              = os.getenv('DOCKER_REPOSITORY', \"masalvar\")\n",
    "DATA                   = Path(\"/data\")\n",
    "CONTAINER_NAME         = f\"batch{ID}container\"\n",
    "DOCKER_PWD             = \"<YOUR_DOCKER_PWD>\"\n",
    "\n",
    "dotenv_path = dotenv_for()\n",
    "set_key(dotenv_path, 'DOCKER_PWD', DOCKER_PWD)\n",
    "set_key(dotenv_path, 'GROUP_NAME', GROUP_NAME)\n",
    "set_key(dotenv_path, 'FILE_SHARE_NAME', FILE_SHARE_NAME)\n",
    "set_key(dotenv_path, 'WORKSPACE', WORKSPACE)\n",
    "set_key(dotenv_path, 'NUM_NODES', str(NUM_NODES))\n",
    "set_key(dotenv_path, 'CLUSTER_NAME', CLUSTER_NAME)\n",
    "set_key(dotenv_path, 'GPU_TYPE', GPU_TYPE)\n",
    "set_key(dotenv_path, 'PROCESSES_PER_NODE', str(PROCESSES_PER_NODE))\n",
    "set_key(dotenv_path, 'STORAGE_ACCOUNT_NAME', STORAGE_ACCOUNT_NAME)"
   ]
  },
  {
   "cell_type": "markdown",
   "metadata": {},
   "source": [
    "<a id='azure_resources'></a>\n",
    "## Create Azure Resources\n",
    "First we need to log in to our Azure account. "
   ]
  },
  {
   "cell_type": "code",
   "execution_count": 9,
   "metadata": {
    "tags": [
     "stripout"
    ]
   },
   "outputs": [
    {
     "name": "stdout",
     "output_type": "stream",
     "text": [
      "\u001b[33mTo sign in, use a web browser to open the page https://microsoft.com/devicelogin and enter the code AJB7HJE89 to authenticate.\u001b[0m\n",
      "CloudName    IsDefault    Name                                            State     TenantId\n",
      "-----------  -----------  ----------------------------------------------  --------  ------------------------------------\n",
      "AzureCloud   True         Visual Studio Enterprise                        Enabled   72f988bf-86f1-41af-91ab-2d7cd011db47\n",
      "AzureCloud   False        Azure Internal - London                         Enabled   72f988bf-86f1-41af-91ab-2d7cd011db47\n",
      "AzureCloud   False        Boston Team Danielle                            Enabled   72f988bf-86f1-41af-91ab-2d7cd011db47\n",
      "AzureCloud   False        Cosmos_WDG_Core_BnB_100348                      Enabled   72f988bf-86f1-41af-91ab-2d7cd011db47\n",
      "AzureCloud   False        Azure Stack Diagnostics CI and Production VaaS  Enabled   72f988bf-86f1-41af-91ab-2d7cd011db47\n",
      "AzureCloud   False        Orb Prod                                        Enabled   72f988bf-86f1-41af-91ab-2d7cd011db47\n",
      "AzureCloud   False        Cosmos_AIR_BingExp_Ranking and Intent_100043    Enabled   72f988bf-86f1-41af-91ab-2d7cd011db47\n",
      "AzureCloud   False        PhillyExt                                       Enabled   72f988bf-86f1-41af-91ab-2d7cd011db47\n",
      "AzureCloud   False        PhillyInt                                       Enabled   72f988bf-86f1-41af-91ab-2d7cd011db47\n",
      "AzureCloud   False        Azure Cat E2E                                   Enabled   72f988bf-86f1-41af-91ab-2d7cd011db47\n",
      "AzureCloud   False        CAT_Eng                                         Enabled   72f988bf-86f1-41af-91ab-2d7cd011db47\n",
      "AzureCloud   False        Microsoft AzureStackCI                          Enabled   72f988bf-86f1-41af-91ab-2d7cd011db47\n",
      "AzureCloud   False        Core-ES-WM-Ext                                  Enabled   72f988bf-86f1-41af-91ab-2d7cd011db47\n",
      "AzureCloud   False        Core-ES-BLD                                     Enabled   72f988bf-86f1-41af-91ab-2d7cd011db47\n",
      "AzureCloud   False        AzureCAT WWAHAIHoL                              Disabled  72f988bf-86f1-41af-91ab-2d7cd011db47\n",
      "AzureCloud   False        ASutton Subscription                            Enabled   72f988bf-86f1-41af-91ab-2d7cd011db47\n",
      "AzureCloud   False        Solution Template Testing                       Enabled   72f988bf-86f1-41af-91ab-2d7cd011db47\n",
      "AzureCloud   False        Boston Team Ilan                                Enabled   72f988bf-86f1-41af-91ab-2d7cd011db47\n",
      "AzureCloud   False        AG-AzureCAT-AITao-Test-COGSNonProd-IO1685743    Enabled   72f988bf-86f1-41af-91ab-2d7cd011db47\n"
     ]
    }
   ],
   "source": [
    "!az login -o table"
   ]
  },
  {
   "cell_type": "markdown",
   "metadata": {},
   "source": [
    "If you have more than one Azure account you will need to select it with the command below. If you only have one account you can skip this step."
   ]
  },
  {
   "cell_type": "code",
   "execution_count": 10,
   "metadata": {},
   "outputs": [],
   "source": [
    "!az account set --subscription \"$SELECTED_SUBSCRIPTION\""
   ]
  },
  {
   "cell_type": "code",
   "execution_count": 11,
   "metadata": {
    "tags": [
     "stripout"
    ]
   },
   "outputs": [
    {
     "name": "stdout",
     "output_type": "stream",
     "text": [
      "\u001b[33mA few accounts are skipped as they don't have 'Enabled' state. Use '--all' to display them.\u001b[0m\r\n",
      "Name                                            CloudName    SubscriptionId                        State    IsDefault\r\n",
      "----------------------------------------------  -----------  ------------------------------------  -------  -----------\r\n",
      "Visual Studio Enterprise                        AzureCloud   fb11e9eb-22e1-4347-8d0a-84ef60157664  Enabled  False\r\n",
      "Azure Internal - London                         AzureCloud   1ba81249-8edd-4619-a486-3d28a2176aad  Enabled  False\r\n",
      "Boston Team Danielle                            AzureCloud   edf507a2-6235-46c5-b560-fd463ba2e771  Enabled  True\r\n",
      "Cosmos_WDG_Core_BnB_100348                      AzureCloud   dae41bd3-9db4-4b9b-943e-832b57cac828  Enabled  False\r\n",
      "Azure Stack Diagnostics CI and Production VaaS  AzureCloud   a8183b2d-7a4c-45e9-8736-dac11b84ff14  Enabled  False\r\n",
      "Orb Prod                                        AzureCloud   4d2b0ef3-39f9-42c6-9332-29aafbb8a374  Enabled  False\r\n",
      "Cosmos_AIR_BingExp_Ranking and Intent_100043    AzureCloud   4062f5e8-5e2b-447f-a06f-62b65b731b0d  Enabled  False\r\n",
      "PhillyExt                                       AzureCloud   a20c82c7-4497-4d44-952a-3105f790e26b  Enabled  False\r\n",
      "PhillyInt                                       AzureCloud   d50e5f6b-6c27-4ab1-8587-3d85cef6426e  Enabled  False\r\n",
      "Azure Cat E2E                                   AzureCloud   fc4ea3c9-1d30-4f18-b33b-7404e7da0123  Enabled  False\r\n",
      "CAT_Eng                                         AzureCloud   eb87f285-893a-4f0f-8c55-7b4f67b1d097  Enabled  False\r\n",
      "Microsoft AzureStackCI                          AzureCloud   fc0d71a1-de17-475a-8523-f5b95048e0ff  Enabled  False\r\n",
      "Core-ES-WM-Ext                                  AzureCloud   52a442a2-31e9-42f9-8e3e-4b27dbf82673  Enabled  False\r\n",
      "Core-ES-BLD                                     AzureCloud   54e18c35-3863-4a17-8e52-b5aa1e65847e  Enabled  False\r\n",
      "ASutton Subscription                            AzureCloud   10d0b7c6-9243-4713-91a9-2730375d3a1b  Enabled  False\r\n",
      "Solution Template Testing                       AzureCloud   3bcfa59c-82a0-44f9-ac08-b3479370bace  Enabled  False\r\n",
      "Boston Team Ilan                                AzureCloud   ff18d7a8-962a-406c-858f-49acd23d6c01  Enabled  False\r\n",
      "AG-AzureCAT-AITao-Test-COGSNonProd-IO1685743    AzureCloud   03909a66-bef8-4d52-8e9a-a346604e0902  Enabled  False\r\n"
     ]
    }
   ],
   "source": [
    "!az account list -o table"
   ]
  },
  {
   "cell_type": "markdown",
   "metadata": {},
   "source": [
    "Next we create the group that will hold all our Azure resources."
   ]
  },
  {
   "cell_type": "code",
   "execution_count": 12,
   "metadata": {},
   "outputs": [
    {
     "name": "stdout",
     "output_type": "stream",
     "text": [
      "Location    Name\r\n",
      "----------  -------------\r\n",
      "eastus      batchdtdemorg\r\n"
     ]
    }
   ],
   "source": [
    "!az group create -n $GROUP_NAME -l $LOCATION -o table"
   ]
  },
  {
   "cell_type": "markdown",
   "metadata": {},
   "source": [
    "We will create the storage account that will store our fileshare where all the outputs from the jobs will be stored."
   ]
  },
  {
   "cell_type": "code",
   "execution_count": 13,
   "metadata": {},
   "outputs": [
    {
     "name": "stdout",
     "output_type": "stream",
     "text": [
      "Storage account batchdtdemost provisioning state: Succeeded\n"
     ]
    }
   ],
   "source": [
    "json_data = !az storage account create -l $LOCATION -n $STORAGE_ACCOUNT_NAME -g $GROUP_NAME --sku Standard_LRS\n",
    "print('Storage account {} provisioning state: {}'.format(STORAGE_ACCOUNT_NAME, \n",
    "                                                         json.loads(''.join(json_data))['provisioningState']))"
   ]
  },
  {
   "cell_type": "code",
   "execution_count": 14,
   "metadata": {},
   "outputs": [],
   "source": [
    "json_data = !az storage account keys list -n $STORAGE_ACCOUNT_NAME -g $GROUP_NAME\n",
    "storage_account_key = json.loads(''.join([i for i in json_data if 'WARNING' not in i]))[0]['value']"
   ]
  },
  {
   "cell_type": "code",
   "execution_count": 15,
   "metadata": {},
   "outputs": [
    {
     "name": "stdout",
     "output_type": "stream",
     "text": [
      "{\r\n",
      "  \"created\": true\r\n",
      "}\r\n"
     ]
    }
   ],
   "source": [
    "!az storage share create --account-name $STORAGE_ACCOUNT_NAME \\\n",
    "--account-key $storage_account_key --name $FILE_SHARE_NAME"
   ]
  },
  {
   "cell_type": "code",
   "execution_count": 16,
   "metadata": {},
   "outputs": [
    {
     "name": "stdout",
     "output_type": "stream",
     "text": [
      "{\r\n",
      "  \"created\": true\r\n",
      "}\r\n"
     ]
    }
   ],
   "source": [
    "!az storage directory create --share-name $FILE_SHARE_NAME  --name scripts \\\n",
    "--account-name $STORAGE_ACCOUNT_NAME --account-key $storage_account_key"
   ]
  },
  {
   "cell_type": "markdown",
   "metadata": {},
   "source": [
    "Here we are setting some defaults so we don't have to keep adding them to every command"
   ]
  },
  {
   "cell_type": "code",
   "execution_count": 61,
   "metadata": {},
   "outputs": [],
   "source": [
    "!az configure --defaults location=$LOCATION\n",
    "!az configure --defaults group=$GROUP_NAME"
   ]
  },
  {
   "cell_type": "code",
   "execution_count": 62,
   "metadata": {
    "tags": [
     "stripout"
    ]
   },
   "outputs": [
    {
     "name": "stdout",
     "output_type": "stream",
     "text": [
      "env: AZURE_STORAGE_ACCOUNT=batchdtdemost\n",
      "env: AZURE_STORAGE_KEY=AtQA2uvmxTSvo0SXnI5FjMOXl+qp5fKwNcPL+Y2N0N/0+EhcRt4RhFuXf+YKvG9qDSrB6ZrgNmJ8fgloABMtSQ==\n"
     ]
    }
   ],
   "source": [
    "%env AZURE_STORAGE_ACCOUNT $STORAGE_ACCOUNT_NAME\n",
    "%env AZURE_STORAGE_KEY=$storage_account_key"
   ]
  },
  {
   "cell_type": "markdown",
   "metadata": {},
   "source": [
    "#### Create Workspace\n",
    "Batch AI has the concept of workspaces and experiments. Below we will create the workspace for our work."
   ]
  },
  {
   "cell_type": "code",
   "execution_count": 31,
   "metadata": {
    "scrolled": true,
    "tags": [
     "stripout"
    ]
   },
   "outputs": [
    {
     "name": "stdout",
     "output_type": "stream",
     "text": [
      "{\r\n",
      "  \"creationTime\": \"2018-12-17T11:28:01.861000+00:00\",\r\n",
      "  \"id\": \"/subscriptions/edf507a2-6235-46c5-b560-fd463ba2e771/resourceGroups/batchdtdemorg/providers/Microsoft.BatchAI/workspaces/workspace\",\r\n",
      "  \"location\": \"eastus\",\r\n",
      "  \"name\": \"workspace\",\r\n",
      "  \"provisioningState\": \"succeeded\",\r\n",
      "  \"provisioningStateTransitionTime\": \"2018-12-17T11:28:01.861000+00:00\",\r\n",
      "  \"resourceGroup\": \"batchdtdemorg\",\r\n",
      "  \"tags\": null,\r\n",
      "  \"type\": \"Microsoft.BatchAI/workspaces\"\r\n",
      "}\r\n"
     ]
    }
   ],
   "source": [
    "!az batchai workspace create -n $WORKSPACE -g $GROUP_NAME"
   ]
  },
  {
   "cell_type": "markdown",
   "metadata": {},
   "source": [
    "<a id='upload_data'></a>\n",
    "## Upload Data to Blob (Optional)\n",
    "In this section we will create a blob container and upload the imagenet data we prepared locally in the previous notebook.\n",
    "\n",
    "**You only need to run this section if you want to use real data. If USE_FAKE is set to False the commands below won't be executed.**\n"
   ]
  },
  {
   "cell_type": "code",
   "execution_count": 68,
   "metadata": {},
   "outputs": [
    {
     "name": "stdout",
     "output_type": "stream",
     "text": [
      "^C\r\n"
     ]
    }
   ],
   "source": [
    "if USE_FAKE is False:\n",
    "    !az storage container create --account-name {STORAGE_ACCOUNT_NAME} \\\n",
    "                                 --account-key {storage_account_key} \\\n",
    "                                 --name {CONTAINER_NAME}"
   ]
  },
  {
   "cell_type": "code",
   "execution_count": null,
   "metadata": {
    "scrolled": true,
    "tags": [
     "stripout"
    ]
   },
   "outputs": [
    {
     "name": "stdout",
     "output_type": "stream",
     "text": [
      "\u001b[?1h\u001b=\u001b[6nFinished: 0 file(s), 0 B; Average Speed:0 B/s.                                 \u001b[6n\u001b[1;1H\u001b[6nFinished: 0 file(s), 0 B; Average Speed:0 B/s.                                 \u001b[6n\u001b[1;1H\u001b[6nFinished: 0 file(s), 0 B; Average Speed:0 B/s.                                 \u001b[6n\u001b[1;1H\u001b[6nFinished: 0 file(s), 0 B; Average Speed:0 B/s.                                 \u001b[6n\u001b[1;1H\u001b[6nFinished: 0 file(s), 4 MB; Average Speed:436.59 KB/s.                          \u001b[6n\u001b[1;1H\u001b[6nFinished: 0 file(s), 100 MB; Average Speed:8.75 MB/s.                          \u001b[6n\u001b[1;1H\u001b[6nFinished: 0 file(s), 104 MB; Average Speed:7.34 MB/s.                          \u001b[6n\u001b[1;1H\u001b[6nFinished: 0 file(s), 128 MB; Average Speed:7.9 MB/s.                           \u001b[6n\u001b[1;1H\u001b[6nFinished: 0 file(s), 704 MB; Average Speed:38.58 MB/s.                         \u001b[6n\u001b[1;1H\u001b[6nFinished: 0 file(s), 728 MB; Average Speed:35.87 MB/s.                         \u001b[6n\u001b[1;1H\u001b[6nFinished: 0 file(s), 916 MB; Average Speed:41 MB/s.                            \u001b[6n\u001b[1;1H\u001b[6nFinished: 0 file(s), 1.258 GB; Average Speed:52.81 MB/s.                       \u001b[6n\u001b[1;1H\u001b[6nFinished: 0 file(s), 1.613 GB; Average Speed:62.49 MB/s.                       \u001b[6n\u001b[1;1H\u001b[6nFinished: 0 file(s), 1.754 GB; Average Speed:63.05 MB/s.                       \u001b[6n\u001b[1;1H\u001b[6nFinished: 0 file(s), 1.758 GB; Average Speed:43.13 MB/s.                       \u001b[6n\u001b[1;1H\u001b[6nFinished: 0 file(s), 1.93 GB; Average Speed:45.13 MB/s.                        \u001b[6n\u001b[1;1H\u001b[6nFinished: 0 file(s), 2.168 GB; Average Speed:48.44 MB/s.                       \u001b[6n\u001b[1;1H\u001b[6nFinished: 0 file(s), 2.5 GB; Average Speed:53.47 MB/s.                         \u001b[6n\u001b[1;1H\u001b[6nFinished: 0 file(s), 2.73 GB; Average Speed:56 MB/s.                           \u001b[6n\u001b[1;1H\u001b[6nFinished: 0 file(s), 3.055 GB; Average Speed:60.18 MB/s.                       \u001b[6n\u001b[1;1H\u001b[6nFinished: 0 file(s), 3.352 GB; Average Speed:63.53 MB/s.                       \u001b[6n\u001b[1;1H\u001b[6nFinished: 0 file(s), 3.785 GB; Average Speed:69.13 MB/s.                       \u001b[6n\u001b[1;1H\u001b[6nFinished: 0 file(s), 4.16 GB; Average Speed:73.3 MB/s.                         \u001b[6n\u001b[1;1H\u001b[6nFinished: 0 file(s), 4.492 GB; Average Speed:76.46 MB/s.                       \u001b[6n\u001b[1;1H\u001b[6nFinished: 0 file(s), 4.895 GB; Average Speed:80.56 MB/s.                       \u001b[6n\u001b[1;1H\u001b[6nFinished: 0 file(s), 5.273 GB; Average Speed:84.03 MB/s.                       \u001b[6n\u001b[1;1H\u001b[6nFinished: 0 file(s), 5.539 GB; Average Speed:85.54 MB/s.                       \u001b[6n\u001b[1;1H\u001b[6nFinished: 0 file(s), 5.656 GB; Average Speed:84.73 MB/s.                       \u001b[6n\u001b[1;1H\u001b[6nFinished: 0 file(s), 5.938 GB; Average Speed:86.36 MB/s.                       \u001b[6n\u001b[1;1H\u001b[6nFinished: 0 file(s), 6.398 GB; Average Speed:90.43 MB/s.                       \u001b[6n\u001b[1;1H\u001b[6nFinished: 0 file(s), 6.516 GB; Average Speed:89.55 MB/s.                       \u001b[6n\u001b[1;1H\u001b[6nFinished: 0 file(s), 6.871 GB; Average Speed:91.91 MB/s.                       \u001b[6n\u001b[1;1H\u001b[6nFinished: 0 file(s), 7.09 GB; Average Speed:92.37 MB/s.                        \u001b[6n\u001b[1;1H\u001b[6nFinished: 0 file(s), 7.473 GB; Average Speed:94.88 MB/s.                       \u001b[6n\u001b[1;1H\u001b[6nFinished: 0 file(s), 7.824 GB; Average Speed:96.89 MB/s.                       \u001b[6n\u001b[1;1H\u001b[6nFinished: 0 file(s), 8.105 GB; Average Speed:97.94 MB/s.                       \u001b[6n\u001b[1;1H\u001b[6nFinished: 0 file(s), 8.129 GB; Average Speed:95.91 MB/s.                       \u001b[6n\u001b[1;1H\u001b[6nFinished: 0 file(s), 8.488 GB; Average Speed:97.84 MB/s.                       \u001b[6n\u001b[1;1H\u001b[6nFinished: 0 file(s), 8.762 GB; Average Speed:98.72 MB/s.                       \u001b[6n\u001b[1;1H\u001b[6nFinished: 0 file(s), 9.242 GB; Average Speed:101.84 MB/s.                      \u001b[6n\u001b[1;1H\u001b[6nFinished: 0 file(s), 9.578 GB; Average Speed:103.26 MB/s.                      \u001b[6n\u001b[1;1H\u001b[6nFinished: 0 file(s), 9.648 GB; Average Speed:101.82 MB/s.                      \u001b[6n\u001b[1;1H\u001b[6nFinished: 0 file(s), 10.066 GB; Average Speed:104.04 MB/s.                     \u001b[6n\u001b[1;1H\u001b[6nFinished: 0 file(s), 10.551 GB; Average Speed:106.84 MB/s.                     \u001b[6n\u001b[1;1H\u001b[6nFinished: 0 file(s), 10.555 GB; Average Speed:104.76 MB/s.                     \u001b[6n\u001b[1;1H\u001b[6nFinished: 0 file(s), 10.777 GB; Average Speed:104.88 MB/s.                     \u001b[6n\u001b[1;1H\u001b[6nFinished: 0 file(s), 10.809 GB; Average Speed:103.18 MB/s.                     \u001b[6n\u001b[1;1H\u001b[6nFinished: 0 file(s), 11.246 GB; Average Speed:105.34 MB/s.                     \u001b[6n\u001b[1;1H\u001b[6nFinished: 0 file(s), 11.313 GB; Average Speed:104.02 MB/s.                     \u001b[6n\u001b[1;1H\u001b[6nFinished: 0 file(s), 11.504 GB; Average Speed:103.86 MB/s.                     \u001b[6n\u001b[1;1H\u001b[6nFinished: 0 file(s), 11.773 GB; Average Speed:104.42 MB/s.                     \u001b[6n\u001b[1;1H\u001b[6nFinished: 0 file(s), 11.777 GB; Average Speed:102.06 MB/s.                     \u001b[6n\u001b[1;1H\u001b[6nFinished: 0 file(s), 12.273 GB; Average Speed:104.56 MB/s.                     \u001b[6n\u001b[1;1H\u001b[6nFinished: 0 file(s), 12.473 GB; Average Speed:104.48 MB/s.                     \u001b[6n\u001b[1;1H\u001b[6nFinished: 0 file(s), 12.711 GB; Average Speed:104.72 MB/s.                     \u001b[6n\u001b[1;1H\u001b[6nFinished: 0 file(s), 13.055 GB; Average Speed:105.81 MB/s.                     \u001b[6n\u001b[1;1H\u001b[6nFinished: 0 file(s), 13.059 GB; Average Speed:104.15 MB/s.                     \u001b[6n\u001b[1;1H\u001b[6nFinished: 0 file(s), 13.516 GB; Average Speed:106.1 MB/s.                      \u001b[6n\u001b[1;1H\u001b[6nFinished: 0 file(s), 13.852 GB; Average Speed:107.06 MB/s.                     \u001b[6n\u001b[1;1H\u001b[6nFinished: 0 file(s), 14.09 GB; Average Speed:107.24 MB/s.                      \u001b[6n\u001b[1;1H\u001b[6nFinished: 0 file(s), 14.563 GB; Average Speed:109.18 MB/s.                     \u001b[6n\u001b[1;1H\u001b[6nFinished: 0 file(s), 14.906 GB; Average Speed:110.1 MB/s.                      \u001b[6n\u001b[1;1H\u001b[6nFinished: 0 file(s), 15.023 GB; Average Speed:109.36 MB/s.                     \u001b[6n\u001b[1;1H\u001b[6nFinished: 0 file(s), 15.527 GB; Average Speed:111.4 MB/s.                      \u001b[6n\u001b[1;1H\u001b[6nFinished: 0 file(s), 15.762 GB; Average Speed:111.48 MB/s.                     \u001b[6n\u001b[1;1H\u001b[6nFinished: 0 file(s), 16.184 GB; Average Speed:112.87 MB/s.                     \u001b[6n\u001b[1;1H\u001b[6nFinished: 0 file(s), 16.605 GB; Average Speed:114.22 MB/s.                     \u001b[6n\u001b[1;1H\u001b[6nFinished: 0 file(s), 16.859 GB; Average Speed:114.39 MB/s.                     \u001b[6n\u001b[1;1H\u001b[6nFinished: 0 file(s), 17.184 GB; Average Speed:115.03 MB/s.                     \u001b[6n\u001b[1;1H\u001b[6nFinished: 0 file(s), 17.535 GB; Average Speed:115.83 MB/s.                     \u001b[6n\u001b[1;1H\u001b[6nFinished: 0 file(s), 17.789 GB; Average Speed:115.98 MB/s.                     \u001b[6n\u001b[1;1H\u001b[6nFinished: 0 file(s), 18.016 GB; Average Speed:115.95 MB/s.                     \u001b[6n\u001b[1;1H\u001b[6nFinished: 0 file(s), 18.145 GB; Average Speed:115.29 MB/s.                     \u001b[6n\u001b[1;1H\u001b[6nFinished: 0 file(s), 18.527 GB; Average Speed:116.25 MB/s.                     \u001b[6n\u001b[1;1H\u001b[6nFinished: 0 file(s), 18.984 GB; Average Speed:117.64 MB/s.                     \u001b[6n\u001b[1;1H\u001b[6nFinished: 0 file(s), 18.988 GB; Average Speed:116.14 MB/s.                     \u001b[6n\u001b[1;1H\u001b[6nFinished: 0 file(s), 19.289 GB; Average Speed:116.57 MB/s.                     \u001b[6n\u001b[1;1H\u001b[6nFinished: 0 file(s), 19.348 GB; Average Speed:115.53 MB/s.                     \u001b[6n\u001b[1;1H\u001b[6nFinished: 0 file(s), 19.918 GB; Average Speed:117.53 MB/s.                     \u001b[6n\u001b[1;1H\u001b[6nFinished: 0 file(s), 20.105 GB; Average Speed:117.25 MB/s.                     \u001b[6n\u001b[1;1H\u001b[6nFinished: 0 file(s), 20.371 GB; Average Speed:117.43 MB/s.                     \u001b[6n\u001b[1;1H\u001b[6nFinished: 0 file(s), 20.477 GB; Average Speed:116.69 MB/s.                     \u001b[6n\u001b[1;1H\u001b[6nFinished: 0 file(s), 20.656 GB; Average Speed:116.39 MB/s.                     \u001b[6n\u001b[1;1H\u001b[6nFinished: 0 file(s), 21.207 GB; Average Speed:118.16 MB/s.                     \u001b[6n\u001b[1;1H\u001b[6nFinished: 0 file(s), 21.531 GB; Average Speed:118.65 MB/s.                     \u001b[6n\u001b[1;1H\u001b[6nFinished: 0 file(s), 21.918 GB; Average Speed:119.46 MB/s.                     \u001b[6n\u001b[1;1H\u001b[6nFinished: 0 file(s), 22.059 GB; Average Speed:118.93 MB/s.                     \u001b[6n\u001b[1;1H\u001b[6nFinished: 0 file(s), 22.063 GB; Average Speed:117.56 MB/s.                     \u001b[6n\u001b[1;1H\u001b[6n"
     ]
    },
    {
     "name": "stdout",
     "output_type": "stream",
     "text": [
      "Finished: 0 file(s), 22.48 GB; Average Speed:118.53 MB/s.                      \u001b[6n\u001b[1;1H\u001b[6nFinished: 0 file(s), 22.836 GB; Average Speed:119.15 MB/s.                     \u001b[6n\u001b[1;1H\u001b[6nFinished: 0 file(s), 22.84 GB; Average Speed:117.94 MB/s.                      \u001b[6n\u001b[1;1H\u001b[6nFinished: 0 file(s), 23.012 GB; Average Speed:117.61 MB/s.                     \u001b[6n\u001b[1;1H\u001b[6nFinished: 0 file(s), 23.379 GB; Average Speed:118.28 MB/s.                     \u001b[6n\u001b[1;1H\u001b[6nFinished: 0 file(s), 23.777 GB; Average Speed:119.09 MB/s.                     \u001b[6n\u001b[1;1H\u001b[6nFinished: 0 file(s), 24.223 GB; Average Speed:120.12 MB/s.                     \u001b[6n\u001b[1;1H\u001b[6nFinished: 0 file(s), 24.277 GB; Average Speed:119.2 MB/s.                      \u001b[6n\u001b[1;1H\u001b[6nFinished: 0 file(s), 24.664 GB; Average Speed:119.93 MB/s.                     \u001b[6n\u001b[1;1H\u001b[6nFinished: 0 file(s), 24.961 GB; Average Speed:120.2 MB/s.                      \u001b[6n\u001b[1;1H\u001b[6nFinished: 0 file(s), 24.965 GB; Average Speed:119.07 MB/s.                     \u001b[6n\u001b[1;1H\u001b[6nFinished: 0 file(s), 25.074 GB; Average Speed:118.46 MB/s.                     \u001b[6n\u001b[1;1H\u001b[6nFinished: 0 file(s), 25.246 GB; Average Speed:118.16 MB/s.                     \u001b[6n\u001b[1;1H\u001b[6nFinished: 0 file(s), 25.535 GB; Average Speed:118.4 MB/s.                      \u001b[6n\u001b[1;1H\u001b[6nFinished: 0 file(s), 25.633 GB; Average Speed:117.76 MB/s.                     \u001b[6n\u001b[1;1H\u001b[6nFinished: 0 file(s), 26.004 GB; Average Speed:118.38 MB/s.                     \u001b[6n\u001b[1;1H\u001b[6nFinished: 0 file(s), 26.016 GB; Average Speed:117.37 MB/s.                     \u001b[6n\u001b[1;1H\u001b[6nFinished: 0 file(s), 26.188 GB; Average Speed:117.09 MB/s.                     \u001b[6n\u001b[1;1H\u001b[6nFinished: 0 file(s), 26.191 GB; Average Speed:112.92 MB/s.                     \u001b[6n\u001b[1;1H\u001b[6nFinished: 0 file(s), 26.344 GB; Average Speed:112.61 MB/s.                     \u001b[6n\u001b[1;1H\u001b[6nFinished: 0 file(s), 26.594 GB; Average Speed:112.71 MB/s.                     \u001b[6n\u001b[1;1H\u001b[6nFinished: 0 file(s), 27.063 GB; Average Speed:113.74 MB/s.                     \u001b[6n\u001b[1;1H\u001b[6nFinished: 0 file(s), 27.102 GB; Average Speed:112.95 MB/s.                     \u001b[6n\u001b[1;1H\u001b[6nFinished: 0 file(s), 27.25 GB; Average Speed:112.63 MB/s.                      \u001b[6n\u001b[1;1H\u001b[6nFinished: 0 file(s), 27.406 GB; Average Speed:112.35 MB/s.                     \u001b[6n\u001b[1;1H\u001b[6nFinished: 0 file(s), 27.781 GB; Average Speed:112.96 MB/s.                     \u001b[6n\u001b[1;1H\u001b[6nFinished: 0 file(s), 28.172 GB; Average Speed:113.62 MB/s.                     \u001b[6n\u001b[1;1H\u001b[6nFinished: 0 file(s), 28.32 GB; Average Speed:113.31 MB/s.                      \u001b[6n\u001b[1;1H\u001b[6nFinished: 0 file(s), 28.656 GB; Average Speed:113.74 MB/s.                     \u001b[6n\u001b[1;1H\u001b[6nFinished: 0 file(s), 28.926 GB; Average Speed:113.91 MB/s.                     \u001b[6n\u001b[1;1H\u001b[6nFinished: 0 file(s), 29.102 GB; Average Speed:113.7 MB/s.                      \u001b[6n\u001b[1;1H\u001b[6nFinished: 0 file(s), 29.527 GB; Average Speed:114.47 MB/s.                     \u001b[6n\u001b[1;1H\u001b[6nFinished: 0 file(s), 29.578 GB; Average Speed:113.79 MB/s.                     \u001b[6n\u001b[1;1H\u001b[6nFinished: 0 file(s), 29.828 GB; Average Speed:113.87 MB/s.                     \u001b[6n\u001b[1;1H\u001b[6nFinished: 0 file(s), 30.176 GB; Average Speed:114.33 MB/s.                     \u001b[6n\u001b[1;1H\u001b[6nFinished: 0 file(s), 30.195 GB; Average Speed:113.54 MB/s.                     \u001b[6n\u001b[1;1H\u001b[6nFinished: 0 file(s), 30.625 GB; Average Speed:114.3 MB/s.                      \u001b[6n\u001b[1;1H\u001b[6nFinished: 0 file(s), 30.961 GB; Average Speed:114.69 MB/s.                     \u001b[6n\u001b[1;1H\u001b[6nFinished: 0 file(s), 30.969 GB; Average Speed:113.88 MB/s.                     \u001b[6n\u001b[1;1H\u001b[6nFinished: 0 file(s), 31.398 GB; Average Speed:114.62 MB/s.                     \u001b[6n\u001b[1;1H\u001b[6nFinished: 0 file(s), 31.527 GB; Average Speed:114.25 MB/s.                     \u001b[6n\u001b[1;1H\u001b[6nFinished: 0 file(s), 31.816 GB; Average Speed:114.47 MB/s.                     \u001b[6n\u001b[1;1H\u001b[6nFinished: 0 file(s), 32.063 GB; Average Speed:114.53 MB/s.                     \u001b[6n\u001b[1;1H\u001b[6nFinished: 0 file(s), 32.238 GB; Average Speed:114.34 MB/s.                     \u001b[6n\u001b[1;1H\u001b[6nFinished: 0 file(s), 32.605 GB; Average Speed:114.83 MB/s.                     \u001b[6n\u001b[1;1H\u001b[6nFinished: 0 file(s), 32.977 GB; Average Speed:115.33 MB/s.                     \u001b[6n\u001b[1;1H\u001b[6nFinished: 0 file(s), 33.082 GB; Average Speed:114.89 MB/s.                     \u001b[6n\u001b[1;1H\u001b[6nFinished: 0 file(s), 33.465 GB; Average Speed:115.42 MB/s.                     \u001b[6n\u001b[1;1H\u001b[6nFinished: 0 file(s), 33.832 GB; Average Speed:115.89 MB/s.                     \u001b[6n\u001b[1;1H\u001b[6nFinished: 0 file(s), 34.16 GB; Average Speed:116.21 MB/s.                      \u001b[6n\u001b[1;1H\u001b[6nFinished: 0 file(s), 34.164 GB; Average Speed:115.4 MB/s.                      \u001b[6n\u001b[1;1H\u001b[6nFinished: 0 file(s), 34.707 GB; Average Speed:116.45 MB/s.                     \u001b[6n\u001b[1;1H\u001b[6nFinished: 0 file(s), 34.875 GB; Average Speed:116.24 MB/s.                     \u001b[6n\u001b[1;1H\u001b[6nFinished: 0 file(s), 35.23 GB; Average Speed:116.64 MB/s.                      \u001b[6n\u001b[1;1H\u001b[6nFinished: 0 file(s), 35.664 GB; Average Speed:117.3 MB/s.                      \u001b[6n\u001b[1;1H\u001b[6nFinished: 0 file(s), 35.953 GB; Average Speed:117.48 MB/s.                     \u001b[6n\u001b[1;1H\u001b[6nFinished: 0 file(s), 36.367 GB; Average Speed:118.06 MB/s.                     \u001b[6n\u001b[1;1H\u001b[6nFinished: 0 file(s), 36.691 GB; Average Speed:118.35 MB/s.                     \u001b[6n\u001b[1;1H\u001b[6nFinished: 0 file(s), 36.723 GB; Average Speed:117.69 MB/s.                     \u001b[6n\u001b[1;1H\u001b[6nFinished: 0 file(s), 37.113 GB; Average Speed:118.18 MB/s.                     \u001b[6n\u001b[1;1H\u001b[6nFinished: 0 file(s), 37.504 GB; Average Speed:118.67 MB/s.                     \u001b[6n\u001b[1;1H\u001b[6nFinished: 0 file(s), 37.805 GB; Average Speed:118.87 MB/s.                     \u001b[6n\u001b[1;1H\u001b[6nFinished: 0 file(s), 37.895 GB; Average Speed:118.41 MB/s.                     \u001b[6n\u001b[1;1H\u001b[6nFinished: 0 file(s), 38.242 GB; Average Speed:118.75 MB/s.                     \u001b[6n\u001b[1;1H\u001b[6nFinished: 0 file(s), 38.488 GB; Average Speed:118.78 MB/s.                     \u001b[6n\u001b[1;1H\u001b[6nFinished: 0 file(s), 38.617 GB; Average Speed:118.44 MB/s.                     \u001b[6n\u001b[1;1H\u001b[6nFinished: 0 file(s), 39.012 GB; Average Speed:118.92 MB/s.                     \u001b[6n\u001b[1;1H\u001b[6nFinished: 0 file(s), 39.25 GB; Average Speed:118.93 MB/s.                      \u001b[6n\u001b[1;1H\u001b[6nFinished: 0 file(s), 39.59 GB; Average Speed:119.23 MB/s.                      \u001b[6n\u001b[1;1H\u001b[6nFinished: 0 file(s), 39.891 GB; Average Speed:119.42 MB/s.                     \u001b[6n\u001b[1;1H\u001b[6nFinished: 0 file(s), 40.301 GB; Average Speed:119.93 MB/s.                     \u001b[6n\u001b[1;1H\u001b[6nFinished: 0 file(s), 40.539 GB; Average Speed:119.92 MB/s.                     \u001b[6n\u001b[1;1H\u001b[6nFinished: 0 file(s), 41.047 GB; Average Speed:120.71 MB/s.                     \u001b[6n\u001b[1;1H\u001b[6nFinished: 0 file(s), 41.051 GB; Average Speed:120.02 MB/s.                     \u001b[6n\u001b[1;1H\u001b[6nFinished: 0 file(s), 41.473 GB; Average Speed:120.55 MB/s.                     \u001b[6n\u001b[1;1H\u001b[6nFinished: 0 file(s), 41.477 GB; Average Speed:119.82 MB/s.                     \u001b[6n\u001b[1;1H\u001b[6nFinished: 0 file(s), 41.926 GB; Average Speed:120.43 MB/s.                     \u001b[6n\u001b[1;1H\u001b[6nFinished: 0 file(s), 42.266 GB; Average Speed:120.71 MB/s.                     \u001b[6n\u001b[1;1H\u001b[6nFinished: 0 file(s), 42.27 GB; Average Speed:119.85 MB/s.                      \u001b[6n\u001b[1;1H\u001b[6nFinished: 0 file(s), 42.645 GB; Average Speed:120.23 MB/s.                     \u001b[6n\u001b[1;1H\u001b[6nFinished: 0 file(s), 42.824 GB; Average Speed:120.06 MB/s.                     \u001b[6n\u001b[1;1H\u001b[6nFinished: 0 file(s), 43.121 GB; Average Speed:120.22 MB/s.                     \u001b[6n\u001b[1;1H\u001b[6nFinished: 0 file(s), 43.57 GB; Average Speed:120.8 MB/s.                       \u001b[6n\u001b[1;1H\u001b[6nFinished: 0 file(s), 43.984 GB; Average Speed:121.27 MB/s.                     \u001b[6n\u001b[1;1H\u001b[6nFinished: 0 file(s), 44.051 GB; Average Speed:120.79 MB/s.                     \u001b[6n\u001b[1;1H\u001b[6nFinished: 0 file(s), 44.363 GB; Average Speed:120.98 MB/s.                     \u001b[6n\u001b[1;1H\u001b[6nFinished: 0 file(s), 44.676 GB; Average Speed:121.17 MB/s.                     \u001b[6n\u001b[1;1H\u001b[6nFinished: 0 file(s), 45.004 GB; Average Speed:121.4 MB/s.                      \u001b[6n\u001b[1;1H\u001b[6nFinished: 0 file(s), 45.488 GB; Average Speed:122.05 MB/s.                     \u001b[6n"
     ]
    },
    {
     "name": "stdout",
     "output_type": "stream",
     "text": [
      "\u001b[1;1H\u001b[6nFinished: 0 file(s), 45.535 GB; Average Speed:121.53 MB/s.                     \u001b[6n\u001b[1;1H\u001b[6nFinished: 0 file(s), 45.988 GB; Average Speed:122.08 MB/s.                     \u001b[6n\u001b[1;1H\u001b[6nFinished: 0 file(s), 46.254 GB; Average Speed:122.14 MB/s.                     \u001b[6n\u001b[1;1H\u001b[6nFinished: 0 file(s), 46.27 GB; Average Speed:121.54 MB/s.                      \u001b[6n\u001b[1;1H\u001b[6nFinished: 0 file(s), 46.688 GB; Average Speed:122 MB/s.                        \u001b[6n\u001b[1;1H\u001b[6nFinished: 0 file(s), 47.031 GB; Average Speed:122.26 MB/s.                     \u001b[6n\u001b[1;1H\u001b[6nFinished: 0 file(s), 47.617 GB; Average Speed:123.14 MB/s.                     \u001b[6n\u001b[1;1H\u001b[6nFinished: 0 file(s), 47.688 GB; Average Speed:122.69 MB/s.                     \u001b[6n\u001b[1;1H\u001b[6nFinished: 0 file(s), 48.113 GB; Average Speed:123.15 MB/s.                     \u001b[6n\u001b[1;1H\u001b[6nFinished: 0 file(s), 48.598 GB; Average Speed:123.75 MB/s.                     \u001b[6n\u001b[1;1H\u001b[6nFinished: 0 file(s), 48.824 GB; Average Speed:123.7 MB/s.                      \u001b[6n\u001b[1;1H\u001b[6nFinished: 0 file(s), 49.316 GB; Average Speed:124.32 MB/s.                     \u001b[6n\u001b[1;1H\u001b[6nFinished: 0 file(s), 49.41 GB; Average Speed:123.93 MB/s.                      \u001b[6n\u001b[1;1H\u001b[6nFinished: 0 file(s), 49.809 GB; Average Speed:124.31 MB/s.                     \u001b[6n\u001b[1;1H\u001b[6nFinished: 0 file(s), 50.309 GB; Average Speed:124.93 MB/s.                     \u001b[6n\u001b[1;1H\u001b[6nFinished: 0 file(s), 50.781 GB; Average Speed:125.48 MB/s.                     \u001b[6n\u001b[1;1H\u001b[6nFinished: 0 file(s), 50.898 GB; Average Speed:125.15 MB/s.                     \u001b[6n\u001b[1;1H\u001b[6nFinished: 0 file(s), 51.258 GB; Average Speed:125.42 MB/s.                     \u001b[6n\u001b[1;1H\u001b[6nFinished: 0 file(s), 51.758 GB; Average Speed:126.03 MB/s.                     \u001b[6n\u001b[1;1H\u001b[6nFinished: 0 file(s), 51.875 GB; Average Speed:125.7 MB/s.                      \u001b[6n\u001b[1;1H\u001b[6nFinished: 0 file(s), 51.879 GB; Average Speed:123.7 MB/s.                      \u001b[6n\u001b[1;1H\u001b[6nFinished: 0 file(s), 51.988 GB; Average Speed:123.38 MB/s.                     \u001b[6n\u001b[1;1H\u001b[6nFinished: 0 file(s), 51.992 GB; Average Speed:121.85 MB/s.                     \u001b[6n\u001b[1;1H\u001b[6nFinished: 0 file(s), 52.117 GB; Average Speed:121.58 MB/s.                     \u001b[6n\u001b[1;1H\u001b[6nFinished: 0 file(s), 52.43 GB; Average Speed:121.74 MB/s.                      \u001b[6n\u001b[1;1H\u001b[6nFinished: 0 file(s), 52.809 GB; Average Speed:122.06 MB/s.                     \u001b[6n\u001b[1;1H\u001b[6nFinished: 0 file(s), 53.254 GB; Average Speed:122.52 MB/s.                     \u001b[6n\u001b[1;1H\u001b[6nFinished: 0 file(s), 53.555 GB; Average Speed:122.65 MB/s.                     \u001b[6n\u001b[1;1H\u001b[6nFinished: 0 file(s), 53.82 GB; Average Speed:122.69 MB/s.                      \u001b[6n\u001b[1;1H\u001b[6nFinished: 0 file(s), 54.23 GB; Average Speed:123.07 MB/s.                      \u001b[6n\u001b[1;1H\u001b[6nFinished: 0 file(s), 54.371 GB; Average Speed:122.83 MB/s.                     \u001b[6n\u001b[1;1H\u001b[6nFinished: 0 file(s), 54.66 GB; Average Speed:122.93 MB/s.                      \u001b[6n\u001b[1;1H\u001b[6nFinished: 0 file(s), 55.078 GB; Average Speed:123.31 MB/s.                     \u001b[6n\u001b[1;1H\u001b[6nFinished: 0 file(s), 55.527 GB; Average Speed:123.76 MB/s.                     \u001b[6n\u001b[1;1H\u001b[6nFinished: 0 file(s), 55.746 GB; Average Speed:123.7 MB/s.                      \u001b[6n\u001b[1;1H\u001b[6nFinished: 0 file(s), 56.102 GB; Average Speed:123.94 MB/s.                     \u001b[6n\u001b[1;1H\u001b[6nFinished: 0 file(s), 56.375 GB; Average Speed:123.99 MB/s.                     \u001b[6n\u001b[1;1H\u001b[6nFinished: 0 file(s), 56.758 GB; Average Speed:124.29 MB/s.                     \u001b[6n\u001b[1;1H\u001b[6nFinished: 0 file(s), 56.762 GB; Average Speed:123.73 MB/s.                     \u001b[6n\u001b[1;1H\u001b[6nFinished: 0 file(s), 57.215 GB; Average Speed:124.18 MB/s.                     \u001b[6n\u001b[1;1H\u001b[6nFinished: 0 file(s), 57.516 GB; Average Speed:124.3 MB/s.                      \u001b[6n\u001b[1;1H\u001b[6nFinished: 0 file(s), 57.898 GB; Average Speed:124.59 MB/s.                     \u001b[6n\u001b[1;1H\u001b[6nFinished: 0 file(s), 58.137 GB; Average Speed:124.56 MB/s.                     \u001b[6n\u001b[1;1H\u001b[6nFinished: 0 file(s), 58.359 GB; Average Speed:124.51 MB/s.                     \u001b[6n\u001b[1;1H\u001b[6nFinished: 0 file(s), 58.914 GB; Average Speed:125.16 MB/s.                     \u001b[6n\u001b[1;1H\u001b[6nFinished: 0 file(s), 58.918 GB; Average Speed:124.63 MB/s.                     \u001b[6n\u001b[1;1H\u001b[6nFinished: 0 file(s), 59.324 GB; Average Speed:124.97 MB/s.                     \u001b[6n\u001b[1;1H\u001b[6nFinished: 0 file(s), 59.691 GB; Average Speed:125.21 MB/s.                     \u001b[6n\u001b[1;1H\u001b[6nFinished: 0 file(s), 59.727 GB; Average Speed:124.76 MB/s.                     \u001b[6n\u001b[1;1H\u001b[6nFinished: 0 file(s), 59.996 GB; Average Speed:124.8 MB/s.                      \u001b[6n\u001b[1;1H\u001b[6nFinished: 0 file(s), 60.297 GB; Average Speed:124.91 MB/s.                     \u001b[6n\u001b[1;1H\u001b[6nFinished: 0 file(s), 60.605 GB; Average Speed:125.03 MB/s.                     \u001b[6n\u001b[1;1H\u001b[6nFinished: 0 file(s), 60.668 GB; Average Speed:124.65 MB/s.                     \u001b[6n\u001b[1;1H\u001b[6nFinished: 0 file(s), 60.914 GB; Average Speed:124.64 MB/s.                     \u001b[6n\u001b[1;1H\u001b[6nFinished: 0 file(s), 61.313 GB; Average Speed:124.94 MB/s.                     \u001b[6n\u001b[1;1H\u001b[6nFinished: 0 file(s), 61.609 GB; Average Speed:125.04 MB/s.                     \u001b[6n\u001b[1;1H\u001b[6nFinished: 0 file(s), 61.738 GB; Average Speed:124.79 MB/s.                     \u001b[6n\u001b[1;1H\u001b[6nFinished: 0 file(s), 62.055 GB; Average Speed:124.93 MB/s.                     \u001b[6n\u001b[1;1H\u001b[6nFinished: 0 file(s), 62.203 GB; Average Speed:124.72 MB/s.                     \u001b[6n\u001b[1;1H\u001b[6nFinished: 0 file(s), 62.762 GB; Average Speed:125.34 MB/s.                     \u001b[6n\u001b[1;1H\u001b[6nFinished: 0 file(s), 62.949 GB; Average Speed:125.22 MB/s.                     \u001b[6n\u001b[1;1H\u001b[6nFinished: 0 file(s), 63.316 GB; Average Speed:125.45 MB/s.                     \u001b[6n\u001b[1;1H\u001b[6nFinished: 0 file(s), 63.539 GB; Average Speed:125.39 MB/s.                     \u001b[6n\u001b[1;1H\u001b[6nFinished: 0 file(s), 63.719 GB; Average Speed:125.25 MB/s.                     \u001b[6n\u001b[1;1H\u001b[6nFinished: 0 file(s), 64.148 GB; Average Speed:125.6 MB/s.                      \u001b[6n\u001b[1;1H\u001b[6nFinished: 0 file(s), 64.512 GB; Average Speed:125.82 MB/s.                     \u001b[6n\u001b[1;1H\u001b[6nFinished: 0 file(s), 64.516 GB; Average Speed:125.05 MB/s.                     \u001b[6n\u001b[1;1H\u001b[6nFinished: 0 file(s), 65.047 GB; Average Speed:125.59 MB/s.                     \u001b[6n\u001b[1;1H\u001b[6nFinished: 0 file(s), 65.32 GB; Average Speed:125.63 MB/s.                      \u001b[6n\u001b[1;1H\u001b[6nFinished: 0 file(s), 65.582 GB; Average Speed:125.65 MB/s.                     \u001b[6n\u001b[1;1H\u001b[6nFinished: 0 file(s), 65.797 GB; Average Speed:125.58 MB/s.                     \u001b[6n\u001b[1;1H\u001b[6nFinished: 0 file(s), 66.176 GB; Average Speed:125.82 MB/s.                     \u001b[6n\u001b[1;1H\u001b[6nFinished: 0 file(s), 66.359 GB; Average Speed:125.69 MB/s.                     \u001b[6n\u001b[1;1H\u001b[6nFinished: 0 file(s), 66.668 GB; Average Speed:125.8 MB/s.                      \u001b[6n\u001b[1;1H\u001b[6nFinished: 0 file(s), 66.984 GB; Average Speed:125.92 MB/s.                     \u001b[6n\u001b[1;1H\u001b[6nFinished: 0 file(s), 67.402 GB; Average Speed:126.24 MB/s.                     \u001b[6n\u001b[1;1H\u001b[6nFinished: 0 file(s), 67.406 GB; Average Speed:125.77 MB/s.                     \u001b[6n\u001b[1;1H\u001b[6nFinished: 0 file(s), 67.914 GB; Average Speed:126.25 MB/s.                     \u001b[6n\u001b[1;1H\u001b[6nFinished: 0 file(s), 68.285 GB; Average Speed:126.47 MB/s.                     \u001b[6n\u001b[1;1H\u001b[6nFinished: 0 file(s), 68.316 GB; Average Speed:126.06 MB/s.                     \u001b[6n\u001b[1;1H\u001b[6nFinished: 0 file(s), 68.684 GB; Average Speed:126.27 MB/s.                     \u001b[6n\u001b[1;1H\u001b[6nFinished: 0 file(s), 69.023 GB; Average Speed:126.43 MB/s.                     \u001b[6n\u001b[1;1H\u001b[6nFinished: 0 file(s), 69.027 GB; Average Speed:125.98 MB/s.                     \u001b[6n\u001b[1;1H\u001b[6nFinished: 0 file(s), 69.457 GB; Average Speed:126.3 MB/s.                      \u001b[6n\u001b[1;1H\u001b[6nFinished: 0 file(s), 69.461 GB; Average Speed:125.63 MB/s.                     \u001b[6n\u001b[1;1H\u001b[6nFinished: 0 file(s), 69.918 GB; Average Speed:126 MB/s.                        \u001b[6n\u001b[1;1H\u001b[6nFinished: 0 file(s), 69.941 GB; Average Speed:125.59 MB/s.                     \u001b[6n\u001b[1;1H\u001b[6nFinished: 0 file(s), 70.281 GB; Average Speed:125.75 MB/s.                     \u001b[6n\u001b[1;1H\u001b[6n"
     ]
    },
    {
     "name": "stdout",
     "output_type": "stream",
     "text": [
      "Finished: 0 file(s), 70.676 GB; Average Speed:126 MB/s.                        \u001b[6n\u001b[1;1H\u001b[6nFinished: 0 file(s), 70.957 GB; Average Speed:126.05 MB/s.                     \u001b[6n\u001b[1;1H\u001b[6nFinished: 0 file(s), 71.168 GB; Average Speed:125.98 MB/s.                     \u001b[6n\u001b[1;1H\u001b[6nFinished: 0 file(s), 71.469 GB; Average Speed:126.07 MB/s.                     \u001b[6n\u001b[1;1H\u001b[6nFinished: 0 file(s), 71.957 GB; Average Speed:126.48 MB/s.                     \u001b[6n\u001b[1;1H\u001b[6nFinished: 0 file(s), 72.203 GB; Average Speed:126.47 MB/s.                     \u001b[6n\u001b[1;1H\u001b[6nFinished: 0 file(s), 72.305 GB; Average Speed:126.21 MB/s.                     \u001b[6n\u001b[1;1H\u001b[6nFinished: 0 file(s), 72.848 GB; Average Speed:126.71 MB/s.                     \u001b[6n\u001b[1;1H\u001b[6nFinished: 0 file(s), 73.145 GB; Average Speed:126.79 MB/s.                     \u001b[6n\u001b[1;1H\u001b[6nFinished: 0 file(s), 73.242 GB; Average Speed:126.52 MB/s.                     \u001b[6n\u001b[1;1H\u001b[6nFinished: 0 file(s), 73.559 GB; Average Speed:126.63 MB/s.                     \u001b[6n\u001b[1;1H\u001b[6nFinished: 0 file(s), 73.98 GB; Average Speed:126.92 MB/s.                      \u001b[6n\u001b[1;1H\u001b[6nFinished: 0 file(s), 74.539 GB; Average Speed:127.44 MB/s.                     \u001b[6n\u001b[1;1H\u001b[6nFinished: 0 file(s), 74.594 GB; Average Speed:127.1 MB/s.                      \u001b[6n\u001b[1;1H\u001b[6nFinished: 0 file(s), 74.988 GB; Average Speed:127.33 MB/s.                     \u001b[6n\u001b[1;1H\u001b[6nFinished: 0 file(s), 75.555 GB; Average Speed:127.86 MB/s.                     \u001b[6n\u001b[1;1H\u001b[6nFinished: 0 file(s), 75.91 GB; Average Speed:128.03 MB/s.                      \u001b[6n\u001b[1;1H\u001b[6nFinished: 0 file(s), 76.035 GB; Average Speed:127.81 MB/s.                     \u001b[6n\u001b[1;1H\u001b[6nFinished: 0 file(s), 76.434 GB; Average Speed:128.05 MB/s.                     \u001b[6n\u001b[1;1H\u001b[6nFinished: 0 file(s), 76.438 GB; Average Speed:127.63 MB/s.                     \u001b[6n\u001b[1;1H\u001b[6nFinished: 0 file(s), 76.793 GB; Average Speed:127.79 MB/s.                     \u001b[6n\u001b[1;1H\u001b[6nFinished: 0 file(s), 77.113 GB; Average Speed:127.9 MB/s.                      \u001b[6n\u001b[1;1H\u001b[6nFinished: 0 file(s), 77.152 GB; Average Speed:127.54 MB/s.                     \u001b[6n\u001b[1;1H\u001b[6nFinished: 0 file(s), 77.551 GB; Average Speed:127.78 MB/s.                     \u001b[6n\u001b[1;1H\u001b[6nFinished: 0 file(s), 77.555 GB; Average Speed:127.37 MB/s.                     \u001b[6n\u001b[1;1H\u001b[6nFinished: 0 file(s), 77.715 GB; Average Speed:127.21 MB/s.                     \u001b[6n\u001b[1;1H\u001b[6nFinished: 0 file(s), 78.082 GB; Average Speed:127.4 MB/s.                      \u001b[6n\u001b[1;1H\u001b[6nFinished: 0 file(s), 78.086 GB; Average Speed:126.96 MB/s.                     \u001b[6n\u001b[1;1H\u001b[6nFinished: 0 file(s), 78.527 GB; Average Speed:127.27 MB/s.                     \u001b[6n\u001b[1;1H\u001b[6nFinished: 0 file(s), 78.738 GB; Average Speed:127.19 MB/s.                     \u001b[6n\u001b[1;1H\u001b[6nFinished: 0 file(s), 79.141 GB; Average Speed:127.43 MB/s.                     \u001b[6n\u001b[1;1H\u001b[6nFinished: 0 file(s), 79.512 GB; Average Speed:127.62 MB/s.                     \u001b[6n\u001b[1;1H\u001b[6nFinished: 0 file(s), 79.559 GB; Average Speed:127.29 MB/s.                     \u001b[6n\u001b[1;1H\u001b[6nFinished: 0 file(s), 79.965 GB; Average Speed:127.53 MB/s.                     \u001b[6n\u001b[1;1H\u001b[6nFinished: 0 file(s), 80.313 GB; Average Speed:127.68 MB/s.                     \u001b[6n\u001b[1;1H\u001b[6nFinished: 0 file(s), 80.586 GB; Average Speed:127.7 MB/s.                      \u001b[6n\u001b[1;1H\u001b[6nFinished: 0 file(s), 80.762 GB; Average Speed:127.58 MB/s.                     \u001b[6n\u001b[1;1H\u001b[6nFinished: 0 file(s), 81.121 GB; Average Speed:127.74 MB/s.                     \u001b[6n\u001b[1;1H\u001b[6nFinished: 0 file(s), 81.473 GB; Average Speed:127.89 MB/s.                     \u001b[6n\u001b[1;1H\u001b[6nFinished: 0 file(s), 81.902 GB; Average Speed:128.17 MB/s.                     \u001b[6n\u001b[1;1H\u001b[6nFinished: 0 file(s), 82.168 GB; Average Speed:128.18 MB/s.                     \u001b[6n\u001b[1;1H\u001b[6nFinished: 0 file(s), 82.211 GB; Average Speed:127.85 MB/s.                     \u001b[6n\u001b[1;1H\u001b[6nFinished: 0 file(s), 82.609 GB; Average Speed:128.07 MB/s.                     \u001b[6n\u001b[1;1H\u001b[6nFinished: 0 file(s), 83.02 GB; Average Speed:128.31 MB/s.                      \u001b[6n\u001b[1;1H\u001b[6nFinished: 0 file(s), 83.176 GB; Average Speed:128.15 MB/s.                     \u001b[6n\u001b[1;1H\u001b[6nFinished: 0 file(s), 83.195 GB; Average Speed:127.79 MB/s.                     \u001b[6n\u001b[1;1H\u001b[6nFinished: 0 file(s), 83.594 GB; Average Speed:128.01 MB/s.                     \u001b[6n\u001b[1;1H\u001b[6nFinished: 0 file(s), 83.855 GB; Average Speed:128.02 MB/s.                     \u001b[6n\u001b[1;1H\u001b[6nFinished: 0 file(s), 83.871 GB; Average Speed:127.65 MB/s.                     \u001b[6n\u001b[1;1H\u001b[6nFinished: 0 file(s), 84.266 GB; Average Speed:127.86 MB/s.                     \u001b[6n\u001b[1;1H\u001b[6nFinished: 0 file(s), 84.445 GB; Average Speed:127.75 MB/s.                     \u001b[6n\u001b[1;1H\u001b[6nFinished: 0 file(s), 84.539 GB; Average Speed:127.5 MB/s.                      \u001b[6n\u001b[1;1H\u001b[6nFinished: 0 file(s), 84.855 GB; Average Speed:127.6 MB/s.                      \u001b[6n\u001b[1;1H\u001b[6nFinished: 0 file(s), 85.195 GB; Average Speed:127.72 MB/s.                     \u001b[6n\u001b[1;1H\u001b[6nFinished: 0 file(s), 85.68 GB; Average Speed:128.06 MB/s.                      \u001b[6n\u001b[1;1H\u001b[6nFinished: 0 file(s), 85.867 GB; Average Speed:127.96 MB/s.                     \u001b[6n\u001b[1;1H\u001b[6nFinished: 0 file(s), 85.887 GB; Average Speed:127.61 MB/s.                     \u001b[6n\u001b[1;1H\u001b[6nFinished: 0 file(s), 86.207 GB; Average Speed:127.71 MB/s.                     \u001b[6n\u001b[1;1H\u001b[6nFinished: 0 file(s), 86.598 GB; Average Speed:127.91 MB/s.                     \u001b[6n\u001b[1;1H\u001b[6nFinished: 0 file(s), 86.953 GB; Average Speed:128.05 MB/s.                     \u001b[6n\u001b[1;1H\u001b[6nFinished: 0 file(s), 87.227 GB; Average Speed:128.08 MB/s.                     \u001b[6n\u001b[1;1H\u001b[6nFinished: 0 file(s), 87.387 GB; Average Speed:127.94 MB/s.                     \u001b[6n\u001b[1;1H\u001b[6nFinished: 0 file(s), 87.754 GB; Average Speed:128.1 MB/s.                      \u001b[6n\u001b[1;1H\u001b[6nFinished: 0 file(s), 88.195 GB; Average Speed:128.37 MB/s.                     \u001b[6n\u001b[1;1H\u001b[6nFinished: 0 file(s), 88.582 GB; Average Speed:128.56 MB/s.                     \u001b[6n\u001b[1;1H\u001b[6nFinished: 0 file(s), 88.746 GB; Average Speed:128.42 MB/s.                     \u001b[6n\u001b[1;1H\u001b[6nFinished: 0 file(s), 89.207 GB; Average Speed:128.72 MB/s.                     \u001b[6n\u001b[1;1H\u001b[6nFinished: 0 file(s), 89.453 GB; Average Speed:128.7 MB/s.                      \u001b[6n\u001b[1;1H\u001b[6nFinished: 0 file(s), 89.773 GB; Average Speed:128.79 MB/s.                     \u001b[6n\u001b[1;1H\u001b[6nFinished: 0 file(s), 90.285 GB; Average Speed:129.16 MB/s.                     \u001b[6n\u001b[1;1H\u001b[6nFinished: 0 file(s), 90.328 GB; Average Speed:128.85 MB/s.                     \u001b[6n\u001b[1;1H\u001b[6nFinished: 0 file(s), 90.758 GB; Average Speed:129.09 MB/s.                     \u001b[6n\u001b[1;1H\u001b[6nFinished: 0 file(s), 91.063 GB; Average Speed:129.16 MB/s.                     \u001b[6n\u001b[1;1H\u001b[6nFinished: 0 file(s), 91.07 GB; Average Speed:128.81 MB/s.                      \u001b[6n\u001b[1;1H\u001b[6nFinished: 0 file(s), 91.086 GB; Average Speed:128.46 MB/s.                     \u001b[6n\u001b[1;1H\u001b[6nFinished: 0 file(s), 91.598 GB; Average Speed:128.82 MB/s.                     \u001b[6n\u001b[1;1H\u001b[6nFinished: 0 file(s), 91.691 GB; Average Speed:128.59 MB/s.                     \u001b[6n\u001b[1;1H\u001b[6nFinished: 0 file(s), 92.066 GB; Average Speed:128.76 MB/s.                     \u001b[6n\u001b[1;1H\u001b[6nFinished: 0 file(s), 92.07 GB; Average Speed:128.38 MB/s.                      \u001b[6n\u001b[1;1H\u001b[6nFinished: 0 file(s), 92.488 GB; Average Speed:128.61 MB/s.                     \u001b[6n\u001b[1;1H\u001b[6nFinished: 0 file(s), 92.727 GB; Average Speed:128.58 MB/s.                     \u001b[6n\u001b[1;1H\u001b[6nFinished: 0 file(s), 92.82 GB; Average Speed:128.35 MB/s.                      \u001b[6n\u001b[1;1H\u001b[6nFinished: 0 file(s), 93.199 GB; Average Speed:128.52 MB/s.                     \u001b[6n\u001b[1;1H\u001b[6nFinished: 0 file(s), 93.672 GB; Average Speed:128.82 MB/s.                     \u001b[6n\u001b[1;1H\u001b[6nFinished: 0 file(s), 94.039 GB; Average Speed:128.97 MB/s.                     \u001b[6n\u001b[1;1H\u001b[6nFinished: 0 file(s), 94.48 GB; Average Speed:129.22 MB/s.                      \u001b[6n\u001b[1;1H\u001b[6nFinished: 0 file(s), 94.641 GB; Average Speed:129.09 MB/s.                     \u001b[6n\u001b[1;1H\u001b[6nFinished: 0 file(s), 94.832 GB; Average Speed:128.99 MB/s.                     \u001b[6n\u001b[1;1H\u001b[6nFinished: 0 file(s), 95.332 GB; Average Speed:129.32 MB/s.                     \u001b[6n"
     ]
    },
    {
     "name": "stdout",
     "output_type": "stream",
     "text": [
      "\u001b[1;1H\u001b[6nFinished: 0 file(s), 95.391 GB; Average Speed:129.05 MB/s.                     \u001b[6n\u001b[1;1H\u001b[6nFinished: 0 file(s), 95.828 GB; Average Speed:129.29 MB/s.                     \u001b[6n\u001b[1;1H\u001b[6nFinished: 0 file(s), 95.84 GB; Average Speed:128.96 MB/s.                      \u001b[6n\u001b[1;1H\u001b[6nFinished: 0 file(s), 96.063 GB; Average Speed:128.91 MB/s.                     \u001b[6n\u001b[1;1H\u001b[6nFinished: 0 file(s), 96.391 GB; Average Speed:129.01 MB/s.                     \u001b[6n\u001b[1;1H\u001b[6nFinished: 0 file(s), 96.441 GB; Average Speed:128.73 MB/s.                     \u001b[6n\u001b[1;1H\u001b[6nFinished: 0 file(s), 96.898 GB; Average Speed:129 MB/s.                        \u001b[6n\u001b[1;1H\u001b[6nFinished: 0 file(s), 97.16 GB; Average Speed:129 MB/s.                         \u001b[6n\u001b[1;1H\u001b[6nFinished: 0 file(s), 97.277 GB; Average Speed:128.82 MB/s.                     \u001b[6n\u001b[1;1H\u001b[6nFinished: 0 file(s), 97.746 GB; Average Speed:129.1 MB/s.                      \u001b[6n\u001b[1;1H\u001b[6nFinished: 0 file(s), 97.75 GB; Average Speed:128.67 MB/s.                      \u001b[6n\u001b[1;1H\u001b[6nFinished: 0 file(s), 98.168 GB; Average Speed:128.88 MB/s.                     \u001b[6n\u001b[1;1H\u001b[6nFinished: 0 file(s), 98.574 GB; Average Speed:129.08 MB/s.                     \u001b[6n\u001b[1;1H\u001b[6nFinished: 0 file(s), 98.695 GB; Average Speed:128.9 MB/s.                      \u001b[6n\u001b[1;1H\u001b[6nFinished: 0 file(s), 99.066 GB; Average Speed:129.04 MB/s.                     \u001b[6n\u001b[1;1H\u001b[6nFinished: 0 file(s), 99.246 GB; Average Speed:128.94 MB/s.                     \u001b[6n\u001b[1;1H\u001b[6nFinished: 0 file(s), 99.41 GB; Average Speed:128.82 MB/s.                      \u001b[6n\u001b[1;1H\u001b[6nFinished: 0 file(s), 99.625 GB; Average Speed:128.77 MB/s.                     \u001b[6n\u001b[1;1H\u001b[6nFinished: 0 file(s), 99.648 GB; Average Speed:128.46 MB/s.                     \u001b[6n\u001b[1;1H\u001b[6nFinished: 0 file(s), 100.125 GB; Average Speed:128.75 MB/s.                    \u001b[6n\u001b[1;1H\u001b[6nFinished: 0 file(s), 100.129 GB; Average Speed:128.42 MB/s.                    \u001b[6n\u001b[1;1H\u001b[6nFinished: 0 file(s), 100.152 GB; Average Speed:128.12 MB/s.                    \u001b[6n\u001b[1;1H\u001b[6nFinished: 0 file(s), 100.512 GB; Average Speed:128.25 MB/s.                    \u001b[6n\u001b[1;1H\u001b[6nFinished: 0 file(s), 100.855 GB; Average Speed:128.36 MB/s.                    \u001b[6n\u001b[1;1H\u001b[6nFinished: 0 file(s), 100.965 GB; Average Speed:128.18 MB/s.                    \u001b[6n\u001b[1;1H\u001b[6nFinished: 0 file(s), 101.277 GB; Average Speed:128.25 MB/s.                    \u001b[6n\u001b[1;1H\u001b[6nFinished: 0 file(s), 101.281 GB; Average Speed:127.93 MB/s.                    \u001b[6n\u001b[1;1H\u001b[6nFinished: 0 file(s), 101.715 GB; Average Speed:128.15 MB/s.                    \u001b[6n\u001b[1;1H\u001b[6nFinished: 0 file(s), 101.918 GB; Average Speed:128.09 MB/s.                    \u001b[6n\u001b[1;1H\u001b[6nFinished: 0 file(s), 101.945 GB; Average Speed:127.8 MB/s.                     \u001b[6n\u001b[1;1H\u001b[6nFinished: 0 file(s), 102.395 GB; Average Speed:128.04 MB/s.                    \u001b[6n\u001b[1;1H\u001b[6nFinished: 0 file(s), 102.691 GB; Average Speed:128.09 MB/s.                    \u001b[6n\u001b[1;1H\u001b[6nFinished: 0 file(s), 102.914 GB; Average Speed:128.05 MB/s.                    \u001b[6n\u001b[1;1H\u001b[6nFinished: 0 file(s), 103.301 GB; Average Speed:128.21 MB/s.                    \u001b[6n\u001b[1;1H\u001b[6nFinished: 0 file(s), 103.473 GB; Average Speed:128.11 MB/s.                    \u001b[6n\u001b[1;1H\u001b[6nFinished: 0 file(s), 103.777 GB; Average Speed:128.17 MB/s.                    \u001b[6n\u001b[1;1H\u001b[6nFinished: 0 file(s), 104.047 GB; Average Speed:128.19 MB/s.                    \u001b[6n\u001b[1;1H\u001b[6nFinished: 0 file(s), 104.07 GB; Average Speed:127.9 MB/s.                      \u001b[6n\u001b[1;1H\u001b[6nFinished: 0 file(s), 104.547 GB; Average Speed:128.17 MB/s.                    \u001b[6n\u001b[1;1H\u001b[6nFinished: 0 file(s), 104.617 GB; Average Speed:127.94 MB/s.                    \u001b[6n\u001b[1;1H\u001b[6nFinished: 0 file(s), 104.789 GB; Average Speed:127.84 MB/s.                    \u001b[6n\u001b[1;1H\u001b[6nFinished: 0 file(s), 105.148 GB; Average Speed:127.97 MB/s.                    \u001b[6n\u001b[1;1H\u001b[6nFinished: 0 file(s), 105.477 GB; Average Speed:128.05 MB/s.                    \u001b[6n\u001b[1;1H\u001b[6nFinished: 0 file(s), 105.492 GB; Average Speed:127.76 MB/s.                    \u001b[6n\u001b[1;1H\u001b[6nFinished: 0 file(s), 106.02 GB; Average Speed:128.09 MB/s.                     \u001b[6n\u001b[1;1H\u001b[6nFinished: 0 file(s), 106.023 GB; Average Speed:127.79 MB/s.                    \u001b[6n\u001b[1;1H\u001b[6nFinished: 0 file(s), 106.367 GB; Average Speed:127.89 MB/s.                    \u001b[6n\u001b[1;1H\u001b[6nFinished: 0 file(s), 106.574 GB; Average Speed:127.83 MB/s.                    \u001b[6n\u001b[1;1H\u001b[6nFinished: 0 file(s), 106.578 GB; Average Speed:127.53 MB/s.                    \u001b[6n\u001b[1;1H\u001b[6nFinished: 0 file(s), 106.887 GB; Average Speed:127.6 MB/s.                     \u001b[6n\u001b[1;1H\u001b[6nFinished: 0 file(s), 106.891 GB; Average Speed:127.24 MB/s.                    \u001b[6n\u001b[1;1H\u001b[6nFinished: 0 file(s), 107.262 GB; Average Speed:127.37 MB/s.                    \u001b[6n\u001b[1;1H\u001b[6nFinished: 0 file(s), 107.602 GB; Average Speed:127.47 MB/s.                    \u001b[6n\u001b[1;1H\u001b[6nFinished: 0 file(s), 107.605 GB; Average Speed:127.18 MB/s.                    \u001b[6n\u001b[1;1H\u001b[6nFinished: 0 file(s), 107.785 GB; Average Speed:127.09 MB/s.                    \u001b[6n\u001b[1;1H\u001b[6nFinished: 0 file(s), 108.008 GB; Average Speed:127.05 MB/s.                    \u001b[6n\u001b[1;1H\u001b[6nFinished: 0 file(s), 108.227 GB; Average Speed:127.01 MB/s.                    \u001b[6n\u001b[1;1H\u001b[6nFinished: 0 file(s), 108.609 GB; Average Speed:127.16 MB/s.                    \u001b[6n\u001b[1;1H\u001b[6nFinished: 0 file(s), 108.613 GB; Average Speed:126.78 MB/s.                    \u001b[6n\u001b[1;1H\u001b[6nFinished: 0 file(s), 109.145 GB; Average Speed:127.11 MB/s.                    \u001b[6n\u001b[1;1H\u001b[6nFinished: 0 file(s), 109.484 GB; Average Speed:127.2 MB/s.                     \u001b[6n\u001b[1;1H\u001b[6nFinished: 0 file(s), 109.828 GB; Average Speed:127.31 MB/s.                    \u001b[6n\u001b[1;1H\u001b[6nFinished: 0 file(s), 110.168 GB; Average Speed:127.41 MB/s.                    \u001b[6n\u001b[1;1H\u001b[6nFinished: 0 file(s), 110.305 GB; Average Speed:127.27 MB/s.                    \u001b[6n\u001b[1;1H\u001b[6nFinished: 0 file(s), 110.664 GB; Average Speed:127.39 MB/s.                    \u001b[6n\u001b[1;1H\u001b[6nFinished: 0 file(s), 111.012 GB; Average Speed:127.5 MB/s.                     \u001b[6n\u001b[1;1H\u001b[6nFinished: 0 file(s), 111.313 GB; Average Speed:127.55 MB/s.                    \u001b[6n\u001b[1;1H\u001b[6nFinished: 0 file(s), 111.367 GB; Average Speed:127.32 MB/s.                    \u001b[6n\u001b[1;1H\u001b[6nFinished: 0 file(s), 111.77 GB; Average Speed:127.49 MB/s.                     \u001b[6n\u001b[1;1H\u001b[6nFinished: 0 file(s), 111.773 GB; Average Speed:127.13 MB/s.                    \u001b[6n\u001b[1;1H\u001b[6nFinished: 0 file(s), 112.195 GB; Average Speed:127.33 MB/s.                    \u001b[6n\u001b[1;1H\u001b[6nFinished: 0 file(s), 112.457 GB; Average Speed:127.33 MB/s.                    \u001b[6n\u001b[1;1H\u001b[6nFinished: 0 file(s), 112.633 GB; Average Speed:127.25 MB/s.                    \u001b[6n\u001b[1;1H\u001b[6nFinished: 0 file(s), 112.898 GB; Average Speed:127.26 MB/s.                    \u001b[6n\u001b[1;1H\u001b[6nFinished: 0 file(s), 112.902 GB; Average Speed:126.98 MB/s.                    \u001b[6n\u001b[1;1H\u001b[6nFinished: 0 file(s), 113.273 GB; Average Speed:127.11 MB/s.                    \u001b[6n\u001b[1;1H\u001b[6nFinished: 0 file(s), 113.605 GB; Average Speed:127.19 MB/s.                    \u001b[6n\u001b[1;1H\u001b[6nFinished: 0 file(s), 113.719 GB; Average Speed:127.04 MB/s.                    \u001b[6n\u001b[1;1H\u001b[6nFinished: 0 file(s), 114.02 GB; Average Speed:127.09 MB/s.                     \u001b[6n\u001b[1;1H\u001b[6nFinished: 0 file(s), 114.043 GB; Average Speed:126.83 MB/s.                    \u001b[6n\u001b[1;1H\u001b[6nFinished: 0 file(s), 114.285 GB; Average Speed:126.82 MB/s.                    \u001b[6n\u001b[1;1H\u001b[6nFinished: 0 file(s), 114.672 GB; Average Speed:126.97 MB/s.                    \u001b[6n\u001b[1;1H\u001b[6nFinished: 0 file(s), 115.086 GB; Average Speed:127.14 MB/s.                    \u001b[6n\u001b[1;1H\u001b[6nFinished: 0 file(s), 115.113 GB; Average Speed:126.89 MB/s.                    \u001b[6n\u001b[1;1H\u001b[6nFinished: 0 file(s), 115.523 GB; Average Speed:127.07 MB/s.                    \u001b[6n\u001b[1;1H\u001b[6nFinished: 0 file(s), 115.746 GB; Average Speed:127.03 MB/s.                    \u001b[6n\u001b[1;1H\u001b[6nFinished: 0 file(s), 116.086 GB; Average Speed:127.13 MB/s.                    \u001b[6n\u001b[1;1H\u001b[6nFinished: 0 file(s), 116.438 GB; Average Speed:127.23 MB/s.                    \u001b[6n\u001b[1;1H\u001b[6n"
     ]
    },
    {
     "name": "stdout",
     "output_type": "stream",
     "text": [
      "Finished: 0 file(s), 116.68 GB; Average Speed:127.22 MB/s.                     \u001b[6n\u001b[1;1H\u001b[6nFinished: 0 file(s), 117.098 GB; Average Speed:127.4 MB/s.                     \u001b[6n\u001b[1;1H\u001b[6nFinished: 0 file(s), 117.371 GB; Average Speed:127.42 MB/s.                    \u001b[6n\u001b[1;1H\u001b[6nFinished: 0 file(s), 117.77 GB; Average Speed:127.57 MB/s.                     \u001b[6n\u001b[1;1H\u001b[6nFinished: 0 file(s), 118.23 GB; Average Speed:127.79 MB/s.                     \u001b[6n\u001b[1;1H"
     ]
    }
   ],
   "source": [
    "if USE_FAKE is False:\n",
    "    # Should take about 20 minutes\n",
    "    !azcopy --source {DATA/\"train.tar.gz\"} \\\n",
    "    --destination https://{STORAGE_ACCOUNT_NAME}.blob.core.windows.net/{CONTAINER_NAME}/train.tar.gz \\\n",
    "    --dest-key {storage_account_key} --quiet"
   ]
  },
  {
   "cell_type": "code",
   "execution_count": 24,
   "metadata": {
    "tags": [
     "stripout"
    ]
   },
   "outputs": [
    {
     "name": "stdout",
     "output_type": "stream",
     "text": [
      "\u001b[?1h\u001b=\u001b[6nFinished: 0 file(s), 0 B; Average Speed:0 B/s.                                 \u001b[6n\u001b[1;1H\u001b[6nFinished: 0 file(s), 0 B; Average Speed:0 B/s.                                 \u001b[6n\u001b[1;1H\u001b[6nFinished: 0 file(s), 0 B; Average Speed:0 B/s.                                 \u001b[6n\u001b[1;1H\u001b[6nFinished: 0 file(s), 0 B; Average Speed:0 B/s.                                 \u001b[6n\u001b[1;1H\u001b[6nFinished: 0 file(s), 4 MB; Average Speed:450.13 KB/s.                          \u001b[6n\u001b[1;1H\u001b[6nFinished: 0 file(s), 164 MB; Average Speed:14.72 MB/s.                         \u001b[6n\u001b[1;1H\u001b[6nFinished: 0 file(s), 604 MB; Average Speed:45.81 MB/s.                         \u001b[6n\u001b[1;1H\u001b[6nFinished: 0 file(s), 988 MB; Average Speed:64.87 MB/s.                         \u001b[6n\u001b[1;1H\u001b[6nFinished: 0 file(s), 1.012 GB; Average Speed:59.96 MB/s.                       \u001b[6n\u001b[1;1H\u001b[6nFinished: 0 file(s), 1.277 GB; Average Speed:67.68 MB/s.                       \u001b[6n\u001b[1;1H\u001b[6nFinished: 0 file(s), 1.367 GB; Average Speed:65.5 MB/s.                        \u001b[6n\u001b[1;1H\u001b[6nFinished: 0 file(s), 1.66 GB; Average Speed:72.58 MB/s.                        \u001b[6n\u001b[1;1H\u001b[6nFinished: 0 file(s), 2.141 GB; Average Speed:86.06 MB/s.                       \u001b[6n\u001b[1;1H\u001b[6nFinished: 0 file(s), 2.145 GB; Average Speed:78.4 MB/s.                        \u001b[6n\u001b[1;1H\u001b[6nFinished: 0 file(s), 2.57 GB; Average Speed:87.59 MB/s.                        \u001b[6n\u001b[1;1H\u001b[6nFinished: 0 file(s), 2.602 GB; Average Speed:83 MB/s.                          \u001b[6n\u001b[1;1H\u001b[6nFinished: 0 file(s), 2.797 GB; Average Speed:83.88 MB/s.                       \u001b[6n\u001b[1;1H\u001b[6nFinished: 0 file(s), 3.195 GB; Average Speed:90.41 MB/s.                       \u001b[6n\u001b[1;1H\u001b[6nFinished: 0 file(s), 3.586 GB; Average Speed:96.03 MB/s.                       \u001b[6n\u001b[1;1H\u001b[6nFinished: 0 file(s), 3.621 GB; Average Speed:92.04 MB/s.                       \u001b[6n\u001b[1;1H\u001b[6nFinished: 0 file(s), 4.07 GB; Average Speed:98.45 MB/s.                        \u001b[6n\u001b[1;1H\u001b[6nFinished: 0 file(s), 4.074 GB; Average Speed:91.21 MB/s.                       \u001b[6n\u001b[1;1H\u001b[6nFinished: 0 file(s), 4.398 GB; Average Speed:94.27 MB/s.                       \u001b[6n\u001b[1;1H\u001b[6nFinished: 0 file(s), 4.699 GB; Average Speed:96.58 MB/s.                       \u001b[6n\u001b[1;1H\u001b[6nFinished: 0 file(s), 4.715 GB; Average Speed:93.08 MB/s.                       \u001b[6n\u001b[1;1H\u001b[6nFinished: 0 file(s), 5.172 GB; Average Speed:98.22 MB/s.                       \u001b[6n\u001b[1;1H\u001b[6nFinished: 0 file(s), 5.543 GB; Average Speed:101.42 MB/s.                      \u001b[6n\u001b[1;1H\u001b[6nFinished: 0 file(s), 5.727 GB; Average Speed:101.08 MB/s.                      \u001b[6n\u001b[1;1H\u001b[6nFinished: 0 file(s), 5.785 GB; Average Speed:98.63 MB/s.                       \u001b[6n\u001b[1;1H\u001b[6nFinished: 0 file(s), 6.09 GB; Average Speed:100.41 MB/s.                       \u001b[6n\u001b[1;1H\u001b[6nFinished: 0 file(s), 6.196 GB; Average Speed:98.89 MB/s.                       \u001b[6n\u001b[1;1H\u001b[6nFinished: 0 file(s), 6.204 GB; Average Speed:95.95 MB/s.                       \u001b[6n\u001b[1;1H\u001b[6nFinished: 0 file(s), 6.207 GB; Average Speed:60.96 MB/s.                       \u001b[6n\u001b[1;1H\u001b[6nFinished: 1 file(s), 6.207 GB; Average Speed:59.61 MB/s.                       \u001b[6n\u001b[1;1H\u001b[6n                                                                               \u001b[6n\u001b[1;1HFinished 1 of total 1 file(s).\n",
      "\u001b[6n                                                                               \u001b[6n\u001b[1;1H[2018/12/17 10:49:00] Transfer summary:\n",
      "-----------------\n",
      "Total files transferred: 1\n",
      "Transfer successfully:   1\n",
      "Transfer skipped:        0\n",
      "Transfer failed:         0\n",
      "Elapsed time:            00.00:01:50\n"
     ]
    }
   ],
   "source": [
    "if USE_FAKE is False:\n",
    "    !azcopy --source {DATA/\"validation.tar.gz\"} \\\n",
    "    --destination https://{STORAGE_ACCOUNT_NAME}.blob.core.windows.net/{CONTAINER_NAME}/validation.tar.gz \\\n",
    "    --dest-key {storage_account_key} --quiet"
   ]
  },
  {
   "cell_type": "markdown",
   "metadata": {},
   "source": [
    "<a id='create_fileshare'></a>\n",
    "## Create Fileserver\n",
    "In this example we will store the data on an NFS fileshare. It is possible to use many storage solutions with Batch AI. NFS offers the best tradeoff between performance and ease of use. The best performance is achieved by loading the data locally but this can be cumbersome since it requires that the data is download by the all the nodes which with the ImageNet dataset can take hours. If you are using fake data we won't be using the fileserver but we will create one so that if you want to run the real ImageNet data later the server is ready."
   ]
  },
  {
   "cell_type": "code",
   "execution_count": 33,
   "metadata": {
    "tags": [
     "stripout"
    ]
   },
   "outputs": [
    {
     "name": "stdout",
     "output_type": "stream",
     "text": [
      "\u001b[K{- Finished ..\n",
      "  \"creationTime\": \"2018-12-17T11:28:16.993000+00:00\",\n",
      "  \"dataDisks\": {\n",
      "    \"cachingType\": \"none\",\n",
      "    \"diskCount\": 4,\n",
      "    \"diskSizeInGb\": 250,\n",
      "    \"storageAccountType\": \"Premium_LRS\"\n",
      "  },\n",
      "  \"id\": \"/subscriptions/edf507a2-6235-46c5-b560-fd463ba2e771/resourceGroups/batchdtdemorg/providers/Microsoft.BatchAI/workspaces/workspace/fileservers/batchdtdemonfs\",\n",
      "  \"mountSettings\": {\n",
      "    \"fileServerInternalIp\": \"10.0.0.4\",\n",
      "    \"fileServerPublicIp\": \"104.211.11.81\",\n",
      "    \"mountPoint\": \"/data\"\n",
      "  },\n",
      "  \"name\": \"batchdtdemonfs\",\n",
      "  \"provisioningState\": \"succeeded\",\n",
      "  \"provisioningStateTransitionTime\": \"2018-12-17T11:37:33.643000+00:00\",\n",
      "  \"resourceGroup\": \"batchdtdemorg\",\n",
      "  \"sshConfiguration\": {\n",
      "    \"publicIpsToAllow\": null,\n",
      "    \"userAccountSettings\": {\n",
      "      \"adminUserName\": \"batchai_user\",\n",
      "      \"adminUserPassword\": null,\n",
      "      \"adminUserSshPublicKey\": null\n",
      "    }\n",
      "  },\n",
      "  \"subnet\": {\n",
      "    \"id\": \"/subscriptions/edf507a2-6235-46c5-b560-fd463ba2e771/resourceGroups/fileserverrg-3080f303-f4a2-419d-8fcd-4d18ec5118be/providers/Microsoft.Network/virtualNetworks/3080f303-f4a2-419d-8fcd-4d18ec5118bevnet/subnets/Subnet-1\",\n",
      "    \"resourceGroup\": \"fileserverrg-3080f303-f4a2-419d-8fcd-4d18ec5118be\"\n",
      "  },\n",
      "  \"type\": \"Microsoft.BatchAI/workspaces/fileservers\",\n",
      "  \"vmSize\": \"Standard_DS4_v2\"\n",
      "}\n",
      "\u001b[0m"
     ]
    }
   ],
   "source": [
    "!az batchai file-server create -n $NFS_NAME --disk-count 4 --disk-size 250 -w $WORKSPACE \\\n",
    "-s Standard_DS4_v2 -u $USERNAME -p {get_password(dotenv_for())} -g $GROUP_NAME --storage-sku Premium_LRS"
   ]
  },
  {
   "cell_type": "code",
   "execution_count": 34,
   "metadata": {},
   "outputs": [
    {
     "name": "stdout",
     "output_type": "stream",
     "text": [
      "Name            Resource Group    Size             Disks       Public IP      Internal IP    Mount Point\r\n",
      "--------------  ----------------  ---------------  ----------  -------------  -------------  -------------\r\n",
      "batchdtdemonfs  batchdtdemorg     Standard_DS4_v2  4 x 250 Gb  104.211.11.81  10.0.0.4       /data\r\n"
     ]
    }
   ],
   "source": [
    "!az batchai file-server list -o table -w $WORKSPACE -g $GROUP_NAME"
   ]
  },
  {
   "cell_type": "code",
   "execution_count": 35,
   "metadata": {},
   "outputs": [],
   "source": [
    "json_data = !az batchai file-server list -w $WORKSPACE -g $GROUP_NAME\n",
    "nfs_ip=json.loads(''.join([i for i in json_data if 'WARNING' not in i]))[0]['mountSettings']['fileServerPublicIp']"
   ]
  },
  {
   "cell_type": "markdown",
   "metadata": {},
   "source": [
    "After we have created the NFS share we need to copy the data to it. To do this we write the script below which will be executed on the fileserver. It installs a tool called azcopy and then downloads and extracts the data to the appropriate directory."
   ]
  },
  {
   "cell_type": "code",
   "execution_count": 36,
   "metadata": {},
   "outputs": [],
   "source": [
    "nodeprep_script = f\"\"\"\n",
    "#!/usr/bin/env bash\n",
    "wget https://gist.githubusercontent.com/msalvaris/073c28a9993d58498957294d20d74202/raw/87a78275879f7c9bb8d6fb9de8a2d2996bb66c24/install_azcopy\n",
    "chmod 777 install_azcopy\n",
    "sudo ./install_azcopy\n",
    "\n",
    "mkdir -p /data/imagenet\n",
    "\n",
    "azcopy --source https://{STORAGE_ACCOUNT_NAME}.blob.core.windows.net/{CONTAINER_NAME}/validation.tar.gz \\\n",
    "        --destination  /data/imagenet/validation.tar.gz\\\n",
    "        --source-key {storage_account_key}\\\n",
    "        --quiet\n",
    "\n",
    "\n",
    "azcopy --source https://{STORAGE_ACCOUNT_NAME}.blob.core.windows.net/{CONTAINER_NAME}/train.tar.gz \\\n",
    "        --destination  /data/imagenet/train.tar.gz\\\n",
    "        --source-key {storage_account_key}\\\n",
    "        --quiet\n",
    "\n",
    "cd /data/imagenet\n",
    "tar -xzf train.tar.gz\n",
    "tar -xzf validation.tar.gz\n",
    "\"\"\""
   ]
  },
  {
   "cell_type": "code",
   "execution_count": 37,
   "metadata": {},
   "outputs": [],
   "source": [
    "with open('nodeprep.sh', 'w') as f:\n",
    "    f.write(nodeprep_script)"
   ]
  },
  {
   "cell_type": "markdown",
   "metadata": {
    "lines_to_next_cell": 2
   },
   "source": [
    "Next we will copy the file over and run it on the NFS VM. This will install azcopy and download and prepare the data"
   ]
  },
  {
   "cell_type": "code",
   "execution_count": 38,
   "metadata": {},
   "outputs": [],
   "source": [
    "if USE_FAKE:\n",
    "    raise Warning(\"You should not be running this section if you simply want to use fake data\")"
   ]
  },
  {
   "cell_type": "code",
   "execution_count": 39,
   "metadata": {
    "tags": [
     "stripout"
    ]
   },
   "outputs": [
    {
     "name": "stdout",
     "output_type": "stream",
     "text": [
      "ssh: connect to host 104.211.11.81 port 22: Connection timed out\r",
      "\r\n",
      "lost connection\r\n"
     ]
    }
   ],
   "source": [
    "if USE_FAKE is False:\n",
    "    !sshpass -p {get_password(dotenv_for())} scp -o \"StrictHostKeyChecking=no\" nodeprep.sh $USERNAME@{nfs_ip}:~/"
   ]
  },
  {
   "cell_type": "code",
   "execution_count": 46,
   "metadata": {
    "scrolled": true,
    "tags": [
     "stripout"
    ]
   },
   "outputs": [
    {
     "name": "stdout",
     "output_type": "stream",
     "text": [
      "--2018-11-28 11:27:12--  https://gist.githubusercontent.com/msalvaris/073c28a9993d58498957294d20d74202/raw/87a78275879f7c9bb8d6fb9de8a2d2996bb66c24/install_azcopy\n",
      "Resolving gist.githubusercontent.com (gist.githubusercontent.com)... 151.101.32.133\n",
      "Connecting to gist.githubusercontent.com (gist.githubusercontent.com)|151.101.32.133|:443... connected.\n",
      "HTTP request sent, awaiting response... 200 OK\n",
      "Length: 481 [text/plain]\n",
      "Saving to: ‘install_azcopy’\n",
      "\n",
      "     0K                                                       100%  107M=0s\n",
      "\n",
      "2018-11-28 11:27:12 (107 MB/s) - ‘install_azcopy’ saved [481/481]\n",
      "\n",
      "  % Total    % Received % Xferd  Average Speed   Time    Time     Time  Current\n",
      "                                 Dload  Upload   Total   Spent    Left  Speed\n",
      "100   983  100   983    0     0   4168      0 --:--:-- --:--:-- --:--:--  4182\n",
      "Hit:1 http://azure.archive.ubuntu.com/ubuntu xenial InRelease\n",
      "Get:2 http://azure.archive.ubuntu.com/ubuntu xenial-updates InRelease [109 kB]\n",
      "Get:3 http://azure.archive.ubuntu.com/ubuntu xenial-backports InRelease [107 kB]\n",
      "Get:4 https://packages.microsoft.com/repos/microsoft-ubuntu-xenial-prod xenial InRelease [2,846 B]\n",
      "Get:5 http://security.ubuntu.com/ubuntu xenial-security InRelease [107 kB]\n",
      "Get:6 http://azure.archive.ubuntu.com/ubuntu xenial/main Sources [868 kB]\n",
      "Get:7 http://azure.archive.ubuntu.com/ubuntu xenial/restricted Sources [4,808 B]\n",
      "Get:8 http://azure.archive.ubuntu.com/ubuntu xenial/universe Sources [7,728 kB]\n",
      "Get:9 http://azure.archive.ubuntu.com/ubuntu xenial/multiverse Sources [179 kB]\n",
      "Get:10 http://azure.archive.ubuntu.com/ubuntu xenial-updates/main Sources [327 kB]\n",
      "Get:11 http://azure.archive.ubuntu.com/ubuntu xenial-updates/restricted Sources [2,528 B]\n",
      "Get:12 http://azure.archive.ubuntu.com/ubuntu xenial-updates/universe Sources [233 kB]\n",
      "Get:13 http://azure.archive.ubuntu.com/ubuntu xenial-updates/multiverse Sources [8,740 B]\n",
      "Get:14 http://azure.archive.ubuntu.com/ubuntu xenial-updates/main amd64 Packages [884 kB]\n",
      "Get:15 http://azure.archive.ubuntu.com/ubuntu xenial-updates/main Translation-en [359 kB]\n",
      "Get:16 http://azure.archive.ubuntu.com/ubuntu xenial-updates/universe amd64 Packages [707 kB]\n",
      "Get:17 http://azure.archive.ubuntu.com/ubuntu xenial-updates/universe Translation-en [289 kB]\n",
      "Get:18 http://azure.archive.ubuntu.com/ubuntu xenial-updates/multiverse amd64 Packages [16.6 kB]\n",
      "Get:19 https://packages.microsoft.com/repos/microsoft-ubuntu-xenial-prod xenial/main amd64 Packages [58.9 kB]\n",
      "Get:20 http://azure.archive.ubuntu.com/ubuntu xenial-backports/main Sources [4,856 B]\n",
      "Get:21 http://azure.archive.ubuntu.com/ubuntu xenial-backports/universe Sources [6,740 B]\n",
      "Get:22 http://security.ubuntu.com/ubuntu xenial-security/main Sources [138 kB]\n",
      "Get:23 http://security.ubuntu.com/ubuntu xenial-security/restricted Sources [2,116 B]\n",
      "Get:24 http://security.ubuntu.com/ubuntu xenial-security/universe Sources [86.8 kB]\n",
      "Get:25 http://security.ubuntu.com/ubuntu xenial-security/multiverse Sources [2,468 B]\n",
      "Get:26 http://security.ubuntu.com/ubuntu xenial-security/main amd64 Packages [585 kB]\n",
      "Get:27 http://security.ubuntu.com/ubuntu xenial-security/main Translation-en [244 kB]\n",
      "Get:28 http://security.ubuntu.com/ubuntu xenial-security/universe amd64 Packages [401 kB]\n",
      "Get:29 http://security.ubuntu.com/ubuntu xenial-security/universe Translation-en [156 kB]\n",
      "Get:30 http://security.ubuntu.com/ubuntu xenial-security/multiverse amd64 Packages [3,724 B]\n",
      "Fetched 13.6 MB in 2s (5,301 kB/s)\n",
      "Reading package lists...\n",
      "Reading package lists...\n",
      "Building dependency tree...\n",
      "Reading state information...\n",
      "The following additional packages will be installed:\n",
      "  aspnetcore-store-2.0.0 dotnet-host dotnet-hostfxr-2.0.0 dotnet-runtime-2.0.0\n",
      "  libcurl3 liblttng-ust-ctl2 liblttng-ust0 liburcu4\n",
      "The following NEW packages will be installed:\n",
      "  aspnetcore-store-2.0.0 dotnet-host dotnet-hostfxr-2.0.0 dotnet-runtime-2.0.0\n",
      "  dotnet-sdk-2.0.2 libcurl3 liblttng-ust-ctl2 liblttng-ust0 liburcu4\n",
      "0 upgraded, 9 newly installed, 0 to remove and 25 not upgraded.\n",
      "Need to get 108 MB of archives.\n",
      "After this operation, 311 MB of additional disk space will be used.\n",
      "Get:1 http://azure.archive.ubuntu.com/ubuntu xenial-updates/main amd64 libcurl3 amd64 7.47.0-1ubuntu2.11 [186 kB]\n",
      "Get:2 http://azure.archive.ubuntu.com/ubuntu xenial/universe amd64 liburcu4 amd64 0.9.1-3 [47.3 kB]\n",
      "Get:3 http://azure.archive.ubuntu.com/ubuntu xenial/universe amd64 liblttng-ust-ctl2 amd64 2.7.1-1 [72.2 kB]\n",
      "Get:4 http://azure.archive.ubuntu.com/ubuntu xenial/universe amd64 liblttng-ust0 amd64 2.7.1-1 [127 kB]\n",
      "Get:5 https://packages.microsoft.com/repos/microsoft-ubuntu-xenial-prod xenial/main amd64 aspnetcore-store-2.0.0 amd64 2.0.0-1 [18.1 MB]\n",
      "Get:6 https://packages.microsoft.com/repos/microsoft-ubuntu-xenial-prod xenial/main amd64 dotnet-host amd64 2.1.6-1 [36.4 kB]\n",
      "Get:7 https://packages.microsoft.com/repos/microsoft-ubuntu-xenial-prod xenial/main amd64 dotnet-hostfxr-2.0.0 amd64 2.0.0-1 [135 kB]\n",
      "Get:8 https://packages.microsoft.com/repos/microsoft-ubuntu-xenial-prod xenial/main amd64 dotnet-runtime-2.0.0 amd64 2.0.0-1 [18.6 MB]\n",
      "Get:9 https://packages.microsoft.com/repos/microsoft-ubuntu-xenial-prod xenial/main amd64 dotnet-sdk-2.0.2 amd64 2.0.2-1 [70.5 MB]\n",
      "debconf: unable to initialize frontend: Dialog\n",
      "debconf: (Dialog frontend will not work on a dumb terminal, an emacs shell buffer, or without a controlling terminal.)\n",
      "debconf: falling back to frontend: Readline\n",
      "debconf: unable to initialize frontend: Readline\n",
      "debconf: (This frontend requires a controlling tty.)\n",
      "debconf: falling back to frontend: Teletype\n",
      "dpkg-preconfigure: unable to re-open stdin: \n",
      "Fetched 108 MB in 2s (38.5 MB/s)\n",
      "Selecting previously unselected package aspnetcore-store-2.0.0.\n",
      "(Reading database ... 55238 files and directories currently installed.)\n",
      "Preparing to unpack .../aspnetcore-store-2.0.0_2.0.0-1_amd64.deb ...\n",
      "Unpacking aspnetcore-store-2.0.0 (2.0.0-1) ...\n",
      "Selecting previously unselected package dotnet-host.\n",
      "Preparing to unpack .../dotnet-host_2.1.6-1_amd64.deb ...\n",
      "Unpacking dotnet-host (2.1.6-1) ...\n",
      "Selecting previously unselected package dotnet-hostfxr-2.0.0.\n",
      "Preparing to unpack .../dotnet-hostfxr-2.0.0_2.0.0-1_amd64.deb ...\n",
      "Unpacking dotnet-hostfxr-2.0.0 (2.0.0-1) ...\n",
      "Selecting previously unselected package libcurl3:amd64.\n",
      "Preparing to unpack .../libcurl3_7.47.0-1ubuntu2.11_amd64.deb ...\n",
      "Unpacking libcurl3:amd64 (7.47.0-1ubuntu2.11) ...\n",
      "Selecting previously unselected package liburcu4:amd64.\n",
      "Preparing to unpack .../liburcu4_0.9.1-3_amd64.deb ...\n",
      "Unpacking liburcu4:amd64 (0.9.1-3) ...\n",
      "Selecting previously unselected package liblttng-ust-ctl2:amd64.\n",
      "Preparing to unpack .../liblttng-ust-ctl2_2.7.1-1_amd64.deb ...\n",
      "Unpacking liblttng-ust-ctl2:amd64 (2.7.1-1) ...\n",
      "Selecting previously unselected package liblttng-ust0:amd64.\n",
      "Preparing to unpack .../liblttng-ust0_2.7.1-1_amd64.deb ...\n",
      "Unpacking liblttng-ust0:amd64 (2.7.1-1) ...\n",
      "Selecting previously unselected package dotnet-runtime-2.0.0.\n",
      "Preparing to unpack .../dotnet-runtime-2.0.0_2.0.0-1_amd64.deb ...\n",
      "Unpacking dotnet-runtime-2.0.0 (2.0.0-1) ...\n",
      "Selecting previously unselected package dotnet-sdk-2.0.2.\n",
      "Preparing to unpack .../dotnet-sdk-2.0.2_2.0.2-1_amd64.deb ...\n",
      "Unpacking dotnet-sdk-2.0.2 (2.0.2-1) ...\n",
      "Processing triggers for man-db (2.7.5-1) ...\n",
      "Processing triggers for libc-bin (2.23-0ubuntu10) ...\n",
      "Setting up aspnetcore-store-2.0.0 (2.0.0-1) ...\n",
      "Setting up dotnet-host (2.1.6-1) ...\n",
      "Setting up dotnet-hostfxr-2.0.0 (2.0.0-1) ...\n",
      "Setting up libcurl3:amd64 (7.47.0-1ubuntu2.11) ...\n",
      "Setting up liburcu4:amd64 (0.9.1-3) ...\n",
      "Setting up liblttng-ust-ctl2:amd64 (2.7.1-1) ...\n",
      "Setting up liblttng-ust0:amd64 (2.7.1-1) ...\n",
      "Setting up dotnet-runtime-2.0.0 (2.0.0-1) ...\n",
      "Setting up dotnet-sdk-2.0.2 (2.0.2-1) ...\n",
      "This software may collect information about you and your use of the software, and send that to Microsoft.\n",
      "Please visit http://aka.ms/dotnet-cli-eula for more information.\n",
      "Welcome to .NET Core!\n",
      "---------------------\n",
      "Learn more about .NET Core @ https://aka.ms/dotnet-docs. Use dotnet --help to see available commands or go to https://aka.ms/dotnet-cli-docs.\n",
      "\n",
      ".NET Core Tools Telemetry\n",
      "--------------\n",
      "The .NET Core Tools include a telemetry feature that collects usage information. It is important that the .NET Team understands how the tools are being used so that we can improve them.\n",
      "\n",
      "The data collected is anonymous and will be published in an aggregated form for use by both Microsoft and community engineers under the Creative Commons Attribution License.\n",
      "\n",
      "The .NET Core Tools telemetry feature is enabled by default. You can opt-out of the telemetry feature by setting an environment variable DOTNET_CLI_TELEMETRY_OPTOUT (for example, 'export' on macOS/Linux, 'set' on Windows) to true (for example, 'true', 1). You can read more about .NET Core tools telemetry at https://aka.ms/dotnet-cli-telemetry.\n",
      "\n",
      "Installation Note\n",
      "--------------\n",
      "A command will be run during the install process that will improve project restore speed and enable offline access. It will take up to a minute to complete.\n"
     ]
    },
    {
     "name": "stdout",
     "output_type": "stream",
     "text": [
      "Processing triggers for libc-bin (2.23-0ubuntu10) ...\n",
      "--2018-11-28 11:27:59--  https://aka.ms/downloadazcopyprlinux\n",
      "Resolving aka.ms (aka.ms)... 23.222.209.19\n",
      "Connecting to aka.ms (aka.ms)|23.222.209.19|:443... connected.\n",
      "HTTP request sent, awaiting response... 301 Moved Permanently\n",
      "Location: https://azcopy.azureedge.net/azcopy-7-1-0-netcorepreview/azcopy_7.1.0-netcorepreview_all.tar.gz [following]\n",
      "--2018-11-28 11:27:59--  https://azcopy.azureedge.net/azcopy-7-1-0-netcorepreview/azcopy_7.1.0-netcorepreview_all.tar.gz\n",
      "Resolving azcopy.azureedge.net (azcopy.azureedge.net)... 72.21.81.200, 2606:2800:11f:17a5:191a:18d5:537:22f9\n",
      "Connecting to azcopy.azureedge.net (azcopy.azureedge.net)|72.21.81.200|:443... connected.\n",
      "HTTP request sent, awaiting response... 200 OK\n",
      "Length: 3841375 (3.7M) [application/octet-stream]\n",
      "Saving to: ‘azcopy.tar.gz’\n",
      "\n",
      "     0K .......... .......... .......... .......... ..........  1% 23.7M 0s\n",
      "    50K .......... .......... .......... .......... ..........  2%  211M 0s\n",
      "   100K .......... .......... .......... .......... ..........  3% 24.5M 0s\n",
      "   150K .......... .......... .......... .......... ..........  5%  145M 0s\n",
      "   200K .......... .......... .......... .......... ..........  6%  147M 0s\n",
      "   250K .......... .......... .......... .......... ..........  7% 47.4M 0s\n",
      "   300K .......... .......... .......... .......... ..........  9% 35.7M 0s\n",
      "   350K .......... .......... .......... .......... .......... 10%  127M 0s\n",
      "   400K .......... .......... .......... .......... .......... 11%  133M 0s\n",
      "   450K .......... .......... .......... .......... .......... 13%  195M 0s\n",
      "   500K .......... .......... .......... .......... .......... 14%  163M 0s\n",
      "   550K .......... .......... .......... .......... .......... 15%  153M 0s\n",
      "   600K .......... .......... .......... .......... .......... 17%  149M 0s\n",
      "   650K .......... .......... .......... .......... .......... 18% 96.8M 0s\n",
      "   700K .......... .......... .......... .......... .......... 19%  153M 0s\n",
      "   750K .......... .......... .......... .......... .......... 21%  118M 0s\n",
      "   800K .......... .......... .......... .......... .......... 22%  118M 0s\n",
      "   850K .......... .......... .......... .......... .......... 23%  112M 0s\n",
      "   900K .......... .......... .......... .......... .......... 25%  212M 0s\n",
      "   950K .......... .......... .......... .......... .......... 26%  114M 0s\n",
      "  1000K .......... .......... .......... .......... .......... 27%  129M 0s\n",
      "  1050K .......... .......... .......... .......... .......... 29% 95.2M 0s\n",
      "  1100K .......... .......... .......... .......... .......... 30%  167M 0s\n",
      "  1150K .......... .......... .......... .......... .......... 31%  108M 0s\n",
      "  1200K .......... .......... .......... .......... .......... 33%  136M 0s\n",
      "  1250K .......... .......... .......... .......... .......... 34%  135M 0s\n",
      "  1300K .......... .......... .......... .......... .......... 35% 65.3M 0s\n",
      "  1350K .......... .......... .......... .......... .......... 37% 63.5M 0s\n",
      "  1400K .......... .......... .......... .......... .......... 38%  213M 0s\n",
      "  1450K .......... .......... .......... .......... .......... 39%  134M 0s\n",
      "  1500K .......... .......... .......... .......... .......... 41%  118M 0s\n",
      "  1550K .......... .......... .......... .......... .......... 42%  115M 0s\n",
      "  1600K .......... .......... .......... .......... .......... 43%  134M 0s\n",
      "  1650K .......... .......... .......... .......... .......... 45%  126M 0s\n",
      "  1700K .......... .......... .......... .......... .......... 46%  202M 0s\n",
      "  1750K .......... .......... .......... .......... .......... 47%  110M 0s\n",
      "  1800K .......... .......... .......... .......... .......... 49%  205M 0s\n",
      "  1850K .......... .......... .......... .......... .......... 50%  146M 0s\n",
      "  1900K .......... .......... .......... .......... .......... 51%  142M 0s\n",
      "  1950K .......... .......... .......... .......... .......... 53%  144M 0s\n",
      "  2000K .......... .......... .......... .......... .......... 54%  156M 0s\n",
      "  2050K .......... .......... .......... .......... .......... 55%  146M 0s\n",
      "  2100K .......... .......... .......... .......... .......... 57%  117M 0s\n",
      "  2150K .......... .......... .......... .......... .......... 58%  121M 0s\n",
      "  2200K .......... .......... .......... .......... .......... 59%  125M 0s\n",
      "  2250K .......... .......... .......... .......... .......... 61%  151M 0s\n",
      "  2300K .......... .......... .......... .......... .......... 62%  209M 0s\n",
      "  2350K .......... .......... .......... .......... .......... 63%  145M 0s\n",
      "  2400K .......... .......... .......... .......... .......... 65%  150M 0s\n",
      "  2450K .......... .......... .......... .......... .......... 66%  140M 0s\n",
      "  2500K .......... .......... .......... .......... .......... 67%  108M 0s\n",
      "  2550K .......... .......... .......... .......... .......... 69% 78.9M 0s\n",
      "  2600K .......... .......... .......... .......... .......... 70%  102M 0s\n",
      "  2650K .......... .......... .......... .......... .......... 71%  128M 0s\n",
      "  2700K .......... .......... .......... .......... .......... 73%  151M 0s\n",
      "  2750K .......... .......... .......... .......... .......... 74%  137M 0s\n",
      "  2800K .......... .......... .......... .......... .......... 75%  226M 0s\n",
      "  2850K .......... .......... .......... .......... .......... 77%  228M 0s\n",
      "  2900K .......... .......... .......... .......... .......... 78%  241M 0s\n",
      "  2950K .......... .......... .......... .......... .......... 79%  153M 0s\n",
      "  3000K .......... .......... .......... .......... .......... 81%  268M 0s\n",
      "  3050K .......... .......... .......... .......... .......... 82%  269M 0s\n",
      "  3100K .......... .......... .......... .......... .......... 83%  237M 0s\n",
      "  3150K .......... .......... .......... .......... .......... 85%  156M 0s\n",
      "  3200K .......... .......... .......... .......... .......... 86%  174M 0s\n",
      "  3250K .......... .......... .......... .......... .......... 87%  226M 0s\n",
      "  3300K .......... .......... .......... .......... .......... 89%  252M 0s\n",
      "  3350K .......... .......... .......... .......... .......... 90%  170M 0s\n",
      "  3400K .......... .......... .......... .......... .......... 91%  185M 0s\n",
      "  3450K .......... .......... .......... .......... .......... 93%  286M 0s\n",
      "  3500K .......... .......... .......... .......... .......... 94%  307M 0s\n",
      "  3550K .......... .......... .......... .......... .......... 95%  263M 0s\n",
      "  3600K .......... .......... .......... .......... .......... 97%  187M 0s\n",
      "  3650K .......... .......... .......... .......... .......... 98%  195M 0s\n",
      "  3700K .......... .......... .......... .......... .......... 99%  216M 0s\n",
      "  3750K .                                                     100% 2561G=0.03s\n",
      "\n",
      "2018-11-28 11:27:59 (120 MB/s) - ‘azcopy.tar.gz’ saved [3841375/3841375]\n",
      "\n",
      "sending incremental file list\n",
      "AzCopyConfig.json\n",
      "Microsoft.Data.Edm.dll\n",
      "Microsoft.Data.OData.dll\n",
      "Microsoft.DotNet.Cli.CommandLine.dll\n",
      "Microsoft.WindowsAzure.Storage.AzCopy.CommandLineParameters.dll\n",
      "Microsoft.WindowsAzure.Storage.AzCopy.Common.dll\n",
      "Microsoft.WindowsAzure.Storage.AzCopy.GetOptCommandLineParser.dll\n",
      "Microsoft.WindowsAzure.Storage.DataMovement.dll\n",
      "Microsoft.WindowsAzure.Storage.dll\n",
      "Newtonsoft.Json.dll\n",
      "System.IO.Packaging.dll\n",
      "System.Spatial.dll\n",
      "azcopy.deps.json\n",
      "azcopy.dll\n",
      "azcopy.runtimeconfig.json\n",
      "azcopy_autocomplete\n",
      "es/\n",
      "es/Microsoft.Data.Edm.resources.dll\n",
      "es/Microsoft.Data.OData.resources.dll\n",
      "es/System.Spatial.resources.dll\n",
      "fr/\n",
      "fr/Microsoft.Data.Edm.resources.dll\n",
      "fr/Microsoft.Data.OData.resources.dll\n",
      "fr/System.Spatial.resources.dll\n",
      "it/\n",
      "it/Microsoft.Data.Edm.resources.dll\n",
      "it/Microsoft.Data.OData.resources.dll\n",
      "it/System.Spatial.resources.dll\n",
      "ja/\n",
      "ja/Microsoft.Data.Edm.resources.dll\n",
      "ja/Microsoft.Data.OData.resources.dll\n",
      "ja/System.Spatial.resources.dll\n",
      "ko/\n",
      "ko/Microsoft.Data.Edm.resources.dll\n",
      "ko/Microsoft.Data.OData.resources.dll\n",
      "ko/System.Spatial.resources.dll\n",
      "ru/\n",
      "ru/Microsoft.Data.Edm.resources.dll\n",
      "ru/Microsoft.Data.OData.resources.dll\n",
      "ru/System.Spatial.resources.dll\n",
      "runtimes/\n",
      "runtimes/linux-arm/\n",
      "runtimes/linux-arm/lib/\n",
      "runtimes/linux-arm/lib/netstandard2.0/\n",
      "runtimes/linux-arm/lib/netstandard2.0/Mono.Posix.NETStandard.dll\n",
      "runtimes/linux-arm/native/\n",
      "runtimes/linux-arm/native/libMonoPosixHelper.so\n",
      "runtimes/linux-arm64/\n",
      "runtimes/linux-arm64/lib/\n",
      "runtimes/linux-arm64/lib/netstandard2.0/\n",
      "runtimes/linux-arm64/lib/netstandard2.0/Mono.Posix.NETStandard.dll\n",
      "runtimes/linux-arm64/native/\n",
      "runtimes/linux-arm64/native/libMonoPosixHelper.so\n",
      "runtimes/linux-armel/\n",
      "runtimes/linux-armel/lib/\n",
      "runtimes/linux-armel/lib/netstandard2.0/\n",
      "runtimes/linux-armel/lib/netstandard2.0/Mono.Posix.NETStandard.dll\n",
      "runtimes/linux-armel/native/\n",
      "runtimes/linux-armel/native/libMonoPosixHelper.so\n",
      "runtimes/linux-x64/\n",
      "runtimes/linux-x64/lib/\n",
      "runtimes/linux-x64/lib/netstandard2.0/\n",
      "runtimes/linux-x64/lib/netstandard2.0/Mono.Posix.NETStandard.dll\n",
      "runtimes/linux-x64/native/\n",
      "runtimes/linux-x64/native/libMonoPosixHelper.so\n",
      "runtimes/linux-x86/\n",
      "runtimes/linux-x86/lib/\n",
      "runtimes/linux-x86/lib/netstandard2.0/\n",
      "runtimes/linux-x86/lib/netstandard2.0/Mono.Posix.NETStandard.dll\n",
      "runtimes/linux-x86/native/\n",
      "runtimes/linux-x86/native/libMonoPosixHelper.so\n",
      "runtimes/osx/\n",
      "runtimes/osx/lib/\n",
      "runtimes/osx/lib/netstandard2.0/\n",
      "runtimes/osx/lib/netstandard2.0/Mono.Posix.NETStandard.dll\n",
      "runtimes/osx/native/\n",
      "runtimes/osx/native/libMonoPosixHelper.dylib\n",
      "runtimes/unix/\n",
      "runtimes/unix/lib/\n",
      "runtimes/unix/lib/netstandard1.3/\n",
      "runtimes/unix/lib/netstandard1.3/System.Security.Cryptography.ProtectedData.dll\n",
      "runtimes/win/\n",
      "runtimes/win/lib/\n",
      "runtimes/win/lib/netstandard1.3/\n",
      "runtimes/win/lib/netstandard1.3/System.Security.Cryptography.ProtectedData.dll\n",
      "zh-Hans/\n",
      "zh-Hans/Microsoft.Data.Edm.resources.dll\n",
      "zh-Hans/Microsoft.Data.OData.resources.dll\n",
      "zh-Hans/System.Spatial.resources.dll\n",
      "zh-Hant/\n",
      "zh-Hant/Microsoft.Data.Edm.resources.dll\n",
      "zh-Hant/Microsoft.Data.OData.resources.dll\n",
      "zh-Hant/System.Spatial.resources.dll\n"
     ]
    },
    {
     "name": "stdout",
     "output_type": "stream",
     "text": [
      "\n",
      "sent 11,683,102 bytes  received 1,290 bytes  23,368,784.00 bytes/sec\n",
      "total size is 11,675,344  speedup is 1.00\n",
      "[2018/11/28 11:28:20] Transfer summary:\n",
      "-----------------\n",
      "Total files transferred: 1\n",
      "Transfer successfully:   1\n",
      "Transfer skipped:        0\n",
      "Transfer failed:         0\n",
      "Elapsed time:            00.00:00:20\n",
      "[2018/11/28 11:35:38] Transfer summary:\n",
      "-----------------\n",
      "Total files transferred: 1\n",
      "Transfer successfully:   1\n",
      "Transfer skipped:        0\n",
      "Transfer failed:         0\n",
      "Elapsed time:            00.00:07:12\n"
     ]
    }
   ],
   "source": [
    "if USE_FAKE is False:\n",
    "    !sshpass -p {get_password(dotenv_for())} ssh -o \"StrictHostKeyChecking=no\" $USERNAME@{nfs_ip} \"sudo chmod 777 ~/nodeprep.sh && ./nodeprep.sh\""
   ]
  },
  {
   "cell_type": "markdown",
   "metadata": {},
   "source": [
    "<a id='configure_cluster'></a>\n",
    "## Configure Batch AI Cluster\n",
    "We then upload the scripts we wish to execute onto the fileshare. The fileshare will later be mounted by Batch AI. An alternative to uploading the scripts would be to embedd them inside the Docker image."
   ]
  },
  {
   "cell_type": "code",
   "execution_count": 55,
   "metadata": {},
   "outputs": [
    {
     "name": "stdout",
     "output_type": "stream",
     "text": [
      "Finished[#############################################################]  100.0000%\n",
      "Finished[#############################################################]  100.0000%\n"
     ]
    }
   ],
   "source": [
    "!az storage file upload --share-name $FILE_SHARE_NAME --source HorovodPytorch/cluster_config/docker.service --path scripts\n",
    "!az storage file upload --share-name $FILE_SHARE_NAME --source HorovodPytorch/cluster_config/nodeprep.sh --path scripts"
   ]
  },
  {
   "cell_type": "markdown",
   "metadata": {},
   "source": [
    "Below it the command to create the cluster. "
   ]
  },
  {
   "cell_type": "code",
   "execution_count": 56,
   "metadata": {
    "tags": [
     "stripout"
    ]
   },
   "outputs": [
    {
     "name": "stdout",
     "output_type": "stream",
     "text": [
      "\u001b[K - Finished ..{\n",
      "  \"allocationState\": \"resizing\",\n",
      "  \"allocationStateTransitionTime\": \"2018-12-17T12:56:56.065000+00:00\",\n",
      "  \"creationTime\": \"2018-12-17T12:56:56.065000+00:00\",\n",
      "  \"currentNodeCount\": 0,\n",
      "  \"errors\": null,\n",
      "  \"id\": \"/subscriptions/edf507a2-6235-46c5-b560-fd463ba2e771/resourceGroups/batchdtdemorg/providers/Microsoft.BatchAI/workspaces/workspace/clusters/msv100\",\n",
      "  \"name\": \"msv100\",\n",
      "  \"nodeSetup\": {\n",
      "    \"mountVolumes\": {\n",
      "      \"azureBlobFileSystems\": null,\n",
      "      \"azureFileShares\": [\n",
      "        {\n",
      "          \"accountName\": \"batchdtdemost\",\n",
      "          \"azureFileUrl\": \"https://batchdtdemost.file.core.windows.net/batchdtdemoshare\",\n",
      "          \"credentials\": {\n",
      "            \"accountKey\": null,\n",
      "            \"accountKeySecretReference\": null\n",
      "          },\n",
      "          \"directoryMode\": \"0777\",\n",
      "          \"fileMode\": \"0777\",\n",
      "          \"relativeMountPath\": \"extfs\"\n",
      "        }\n",
      "      ],\n",
      "      \"fileServers\": [\n",
      "        {\n",
      "          \"fileServer\": {\n",
      "            \"id\": \"/subscriptions/edf507a2-6235-46c5-b560-fd463ba2e771/resourceGroups/batchdtdemorg/providers/Microsoft.BatchAI/workspaces/workspace/fileservers/batchdtdemonfs\",\n",
      "            \"resourceGroup\": \"batchdtdemorg\"\n",
      "          },\n",
      "          \"mountOptions\": \"rw\",\n",
      "          \"relativeMountPath\": \"nfs\",\n",
      "          \"sourceDirectory\": null\n",
      "        }\n",
      "      ],\n",
      "      \"unmanagedFileSystems\": null\n",
      "    },\n",
      "    \"performanceCountersSettings\": null,\n",
      "    \"setupTask\": {\n",
      "      \"commandLine\": \"$AZ_BATCHAI_MOUNT_ROOT/extfs/scripts/nodeprep.sh\",\n",
      "      \"environmentVariables\": null,\n",
      "      \"secrets\": null,\n",
      "      \"stdOutErrPathPrefix\": \"$AZ_BATCHAI_MOUNT_ROOT/extfs\",\n",
      "      \"stdOutErrPathSuffix\": \"edf507a2-6235-46c5-b560-fd463ba2e771/batchdtdemorg/workspaces/workspace/clusters/msv100/7c60d32b-56a4-48fc-8891-22d3611b463a\"\n",
      "    }\n",
      "  },\n",
      "  \"nodeStateCounts\": {\n",
      "    \"idleNodeCount\": 0,\n",
      "    \"leavingNodeCount\": 0,\n",
      "    \"preparingNodeCount\": 0,\n",
      "    \"runningNodeCount\": 0,\n",
      "    \"unusableNodeCount\": 0\n",
      "  },\n",
      "  \"provisioningState\": \"succeeded\",\n",
      "  \"provisioningStateTransitionTime\": \"2018-12-17T12:56:58.659000+00:00\",\n",
      "  \"resourceGroup\": \"batchdtdemorg\",\n",
      "  \"scaleSettings\": {\n",
      "    \"autoScale\": null,\n",
      "    \"manual\": {\n",
      "      \"nodeDeallocationOption\": \"requeue\",\n",
      "      \"targetNodeCount\": 2\n",
      "    }\n",
      "  },\n",
      "  \"subnet\": {\n",
      "    \"id\": \"/subscriptions/edf507a2-6235-46c5-b560-fd463ba2e771/resourceGroups/fileserverrg-3080f303-f4a2-419d-8fcd-4d18ec5118be/providers/Microsoft.Network/virtualNetworks/3080f303-f4a2-419d-8fcd-4d18ec5118bevnet/subnets/Subnet-1\",\n",
      "    \"resourceGroup\": \"fileserverrg-3080f303-f4a2-419d-8fcd-4d18ec5118be\"\n",
      "  },\n",
      "  \"type\": \"Microsoft.BatchAI/workspaces/clusters\",\n",
      "  \"userAccountSettings\": {\n",
      "    \"adminUserName\": \"batchai_user\",\n",
      "    \"adminUserPassword\": null,\n",
      "    \"adminUserSshPublicKey\": null\n",
      "  },\n",
      "  \"virtualMachineConfiguration\": {\n",
      "    \"imageReference\": {\n",
      "      \"offer\": \"UbuntuServer\",\n",
      "      \"publisher\": \"Canonical\",\n",
      "      \"sku\": \"16.04-LTS\",\n",
      "      \"version\": \"latest\",\n",
      "      \"virtualMachineImageId\": null\n",
      "    }\n",
      "  },\n",
      "  \"vmPriority\": \"dedicated\",\n",
      "  \"vmSize\": \"STANDARD_NC24RS_V3\"\n",
      "}\n",
      "\u001b[0m"
     ]
    }
   ],
   "source": [
    "!az batchai cluster create \\\n",
    "    -w $WORKSPACE \\\n",
    "    --name $CLUSTER_NAME \\\n",
    "    --image UbuntuLTS \\\n",
    "    --vm-size $VM_SIZE \\\n",
    "    --min $NUM_NODES --max $NUM_NODES \\\n",
    "    --afs-name $FILE_SHARE_NAME \\\n",
    "    --afs-mount-path extfs \\\n",
    "    --user-name $USERNAME \\\n",
    "    --password {get_password(dotenv_for())} \\\n",
    "    --storage-account-name $STORAGE_ACCOUNT_NAME \\\n",
    "    --storage-account-key $storage_account_key \\\n",
    "    --nfs $NFS_NAME \\\n",
    "    --nfs-mount-path nfs \\\n",
    "    --config-file HorovodPytorch/cluster_config/cluster.json"
   ]
  },
  {
   "cell_type": "markdown",
   "metadata": {},
   "source": [
    "Let's check that the cluster was created succesfully."
   ]
  },
  {
   "cell_type": "code",
   "execution_count": 48,
   "metadata": {
    "tags": [
     "stripout"
    ]
   },
   "outputs": [
    {
     "name": "stdout",
     "output_type": "stream",
     "text": [
      "{\r\n",
      "  \"allocationState\": \"resizing\",\r\n",
      "  \"allocationStateTransitionTime\": \"2018-12-17T12:35:16.177000+00:00\",\r\n",
      "  \"creationTime\": \"2018-12-17T12:35:16.177000+00:00\",\r\n",
      "  \"currentNodeCount\": 0,\r\n",
      "  \"errors\": null,\r\n",
      "  \"id\": \"/subscriptions/edf507a2-6235-46c5-b560-fd463ba2e771/resourceGroups/batchdtdemorg/providers/Microsoft.BatchAI/workspaces/workspace/clusters/msv100\",\r\n",
      "  \"name\": \"msv100\",\r\n",
      "  \"nodeSetup\": {\r\n",
      "    \"mountVolumes\": {\r\n",
      "      \"azureBlobFileSystems\": null,\r\n",
      "      \"azureFileShares\": [\r\n",
      "        {\r\n",
      "          \"accountName\": \"batchdtdemost\",\r\n",
      "          \"azureFileUrl\": \"https://batchdtdemost.file.core.windows.net/batchdtdemoshare\",\r\n",
      "          \"credentials\": {\r\n",
      "            \"accountKey\": null,\r\n",
      "            \"accountKeySecretReference\": null\r\n",
      "          },\r\n",
      "          \"directoryMode\": \"0777\",\r\n",
      "          \"fileMode\": \"0777\",\r\n",
      "          \"relativeMountPath\": \"extfs\"\r\n",
      "        }\r\n",
      "      ],\r\n",
      "      \"fileServers\": [\r\n",
      "        {\r\n",
      "          \"fileServer\": {\r\n",
      "            \"id\": \"/subscriptions/edf507a2-6235-46c5-b560-fd463ba2e771/resourceGroups/batchdtdemorg/providers/Microsoft.BatchAI/workspaces/workspace/fileservers/batchdtdemonfs\",\r\n",
      "            \"resourceGroup\": \"batchdtdemorg\"\r\n",
      "          },\r\n",
      "          \"mountOptions\": \"rw\",\r\n",
      "          \"relativeMountPath\": \"nfs\",\r\n",
      "          \"sourceDirectory\": null\r\n",
      "        }\r\n",
      "      ],\r\n",
      "      \"unmanagedFileSystems\": null\r\n",
      "    },\r\n",
      "    \"performanceCountersSettings\": null,\r\n",
      "    \"setupTask\": {\r\n",
      "      \"commandLine\": \"$AZ_BATCHAI_MOUNT_ROOT/extfs/scripts/nodeprep.sh\",\r\n",
      "      \"environmentVariables\": null,\r\n",
      "      \"secrets\": null,\r\n",
      "      \"stdOutErrPathPrefix\": \"$AZ_BATCHAI_MOUNT_ROOT/extfs\",\r\n",
      "      \"stdOutErrPathSuffix\": \"edf507a2-6235-46c5-b560-fd463ba2e771/batchdtdemorg/workspaces/workspace/clusters/msv100/03b5728d-5328-4914-8c88-81399297ebc4\"\r\n",
      "    }\r\n",
      "  },\r\n",
      "  \"nodeStateCounts\": {\r\n",
      "    \"idleNodeCount\": 0,\r\n",
      "    \"leavingNodeCount\": 0,\r\n",
      "    \"preparingNodeCount\": 0,\r\n",
      "    \"runningNodeCount\": 0,\r\n",
      "    \"unusableNodeCount\": 0\r\n",
      "  },\r\n",
      "  \"provisioningState\": \"succeeded\",\r\n",
      "  \"provisioningStateTransitionTime\": \"2018-12-17T12:35:29.426000+00:00\",\r\n",
      "  \"resourceGroup\": \"batchdtdemorg\",\r\n",
      "  \"scaleSettings\": {\r\n",
      "    \"autoScale\": null,\r\n",
      "    \"manual\": {\r\n",
      "      \"nodeDeallocationOption\": \"requeue\",\r\n",
      "      \"targetNodeCount\": 2\r\n",
      "    }\r\n",
      "  },\r\n",
      "  \"subnet\": {\r\n",
      "    \"id\": \"/subscriptions/edf507a2-6235-46c5-b560-fd463ba2e771/resourceGroups/fileserverrg-3080f303-f4a2-419d-8fcd-4d18ec5118be/providers/Microsoft.Network/virtualNetworks/3080f303-f4a2-419d-8fcd-4d18ec5118bevnet/subnets/Subnet-1\",\r\n",
      "    \"resourceGroup\": \"fileserverrg-3080f303-f4a2-419d-8fcd-4d18ec5118be\"\r\n",
      "  },\r\n",
      "  \"type\": \"Microsoft.BatchAI/workspaces/clusters\",\r\n",
      "  \"userAccountSettings\": {\r\n",
      "    \"adminUserName\": \"batchai_user\",\r\n",
      "    \"adminUserPassword\": null,\r\n",
      "    \"adminUserSshPublicKey\": null\r\n",
      "  },\r\n",
      "  \"virtualMachineConfiguration\": {\r\n",
      "    \"imageReference\": {\r\n",
      "      \"offer\": \"UbuntuServer\",\r\n",
      "      \"publisher\": \"Canonical\",\r\n",
      "      \"sku\": \"16.04-LTS\",\r\n",
      "      \"version\": \"latest\",\r\n",
      "      \"virtualMachineImageId\": null\r\n",
      "    }\r\n",
      "  },\r\n",
      "  \"vmPriority\": \"dedicated\",\r\n",
      "  \"vmSize\": \"STANDARD_NC24RS_V3\"\r\n",
      "}\r\n"
     ]
    }
   ],
   "source": [
    "!az batchai cluster show -n $CLUSTER_NAME -w $WORKSPACE"
   ]
  },
  {
   "cell_type": "code",
   "execution_count": 58,
   "metadata": {},
   "outputs": [
    {
     "name": "stdout",
     "output_type": "stream",
     "text": [
      "Name    Resource Group    Workspace    VM Size             State    Idle    Running    Preparing    Leaving    Unusable\r\n",
      "------  ----------------  -----------  ------------------  -------  ------  ---------  -----------  ---------  ----------\r\n",
      "msv100  batchdtdemorg     workspace    STANDARD_NC24RS_V3  steady   2       0          0            0          0\r\n"
     ]
    }
   ],
   "source": [
    "!az batchai cluster list -w $WORKSPACE -o table"
   ]
  },
  {
   "cell_type": "code",
   "execution_count": 59,
   "metadata": {},
   "outputs": [
    {
     "name": "stdout",
     "output_type": "stream",
     "text": [
      "ID                                IP             SSH Port\r\n",
      "--------------------------------  -------------  ----------\r\n",
      "tvm-829305193_1-20181217t125904z  40.121.91.247  50001\r\n",
      "tvm-829305193_2-20181217t125904z  40.121.91.247  50000\r\n"
     ]
    }
   ],
   "source": [
    "!az batchai cluster node list -c $CLUSTER_NAME -w $WORKSPACE -o table"
   ]
  }
 ],
 "metadata": {
  "jupytext": {
   "text_representation": {
    "extension": ".py",
    "format_name": "light",
    "format_version": "1.3",
    "jupytext_version": "0.8.6"
   }
  },
  "kernelspec": {
   "display_name": "Python 3",
   "language": "python",
   "name": "python3"
  },
  "language_info": {
   "codemirror_mode": {
    "name": "ipython",
    "version": 3
   },
   "file_extension": ".py",
   "mimetype": "text/x-python",
   "name": "python",
   "nbconvert_exporter": "python",
   "pygments_lexer": "ipython3",
   "version": "3.6.7"
  }
 },
 "nbformat": 4,
 "nbformat_minor": 2
}
